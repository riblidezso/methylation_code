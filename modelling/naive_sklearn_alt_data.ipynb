{
 "cells": [
  {
   "cell_type": "markdown",
   "metadata": {},
   "source": [
    "# Very naive learning on the vector of surrounding bases with standardish machine learning algorithms from scikit sklearn\n",
    "\n",
    "---\n",
    "\n",
    "### Data\n",
    "\n",
    "Naive feature vectors. The original sequence of validation/test and train data does not overlap! ( but train data points can overlap with train data points, and test-validation can overlap with test-validation data ) This overlapping does not lead to unintentional label leakage!\n",
    "\n",
    "### Analysis\n",
    "\n",
    "I will try to naively predict the mehtylation value (0,1) based on naive sequence context feauture vectors.\n",
    "\n",
    "I will use the \"state of the art\" general machine learning tools.\n",
    "- AdaBoost\n",
    "- RandomForest\n",
    "- Gradient boosted trees\n",
    "- SVM\n",
    "\n",
    "\n",
    "### Conlcusions\n",
    "\n",
    "- All naive models produce 70-77% prediction rates.\n",
    "    - actually I think that's surprisinlgy high \n",
    "    \n",
    "    \n",
    "- Interesting position importance figure with Random Forest.\n",
    "\n",
    "---"
   ]
  },
  {
   "cell_type": "code",
   "execution_count": 1,
   "metadata": {
    "collapsed": false
   },
   "outputs": [],
   "source": [
    "import pandas as pd\n",
    "import numpy as np\n",
    "import matplotlib.pyplot as plt\n",
    "%matplotlib inline\n",
    "\n",
    "import time\n",
    "\n",
    "from sklearn import tree\n",
    "from sklearn import svm\n",
    "from sklearn import ensemble\n",
    "\n",
    "import sys\n",
    "sys.path.append('../my_modules')\n",
    "from loading_utils import read_my_data,create_sets\n",
    "\n",
    "import os,subprocess\n",
    "workdir='/nagyvinyok/adat84/sotejedlik/ribli/methylation_code/modelling'\n",
    "subprocess.call(['mkdir',workdir])\n",
    "os.chdir(workdir)"
   ]
  },
  {
   "cell_type": "markdown",
   "metadata": {},
   "source": [
    "### Load data"
   ]
  },
  {
   "cell_type": "code",
   "execution_count": 2,
   "metadata": {
    "collapsed": false
   },
   "outputs": [
    {
     "name": "stdout",
     "output_type": "stream",
     "text": [
      "Loading data... \n",
      "Loading data... \n",
      "Loading data... \n"
     ]
    }
   ],
   "source": [
    "train_x,train_y = read_my_data(fname='../prepare_data/big_train_feat_vect.csv')\n",
    "valid_x,valid_y = read_my_data(fname='../prepare_data/big_val_feat_vect.csv')\n",
    "test_x,test_y = read_my_data(fname='../prepare_data/big_test_feat_vect.csv')"
   ]
  },
  {
   "cell_type": "code",
   "execution_count": 3,
   "metadata": {
    "collapsed": true
   },
   "outputs": [],
   "source": [
    "def test_sklearn_model(model,train_x,train_y,test_x,test_y):\n",
    "    start=time.time()\n",
    "    model=model.fit(train_x,train_y)\n",
    "    print 'train score:',list((model.predict(train_x)==train_y)).count(True)/float(len(train_y))\n",
    "    print 'test score:',list((model.predict(test_x)==test_y)).count(True)/float(len(test_y))\n",
    "    print 'It took:',time.time()-start"
   ]
  },
  {
   "cell_type": "markdown",
   "metadata": {},
   "source": [
    "## AdaBoost\n",
    "\n",
    "- learning rate / n_estimators can be tuned\n",
    "- more estimators -> better result, and slower"
   ]
  },
  {
   "cell_type": "code",
   "execution_count": 4,
   "metadata": {
    "collapsed": false
   },
   "outputs": [
    {
     "name": "stdout",
     "output_type": "stream",
     "text": [
      "train score: 0.7722\n",
      "test score: 0.694\n",
      "It took: 17.6778509617\n"
     ]
    }
   ],
   "source": [
    "N_train=5000\n",
    "N_test=5000\n",
    "\n",
    "adab = ensemble.AdaBoostClassifier(n_estimators=100)\n",
    "test_sklearn_model(adab,train_x[:N_train],train_y[:N_train],\n",
    "                   test_x[:N_test],test_y[:N_test])"
   ]
  },
  {
   "cell_type": "markdown",
   "metadata": {},
   "source": [
    "- It gets a bit better using more data"
   ]
  },
  {
   "cell_type": "code",
   "execution_count": null,
   "metadata": {
    "collapsed": false
   },
   "outputs": [],
   "source": [
    "N_train=119000\n",
    "N_test=10000\n",
    "\n",
    "adab = ensemble.AdaBoostClassifier(n_estimators=100)\n",
    "test_sklearn_model(adab,train_x[:N_train],train_y[:N_train],\n",
    "                   test_x[:N_test],test_y[:N_test])"
   ]
  },
  {
   "cell_type": "markdown",
   "metadata": {},
   "source": [
    "- Its already quite slow, but maybe I could test with more estimators"
   ]
  },
  {
   "cell_type": "code",
   "execution_count": null,
   "metadata": {
    "collapsed": false
   },
   "outputs": [],
   "source": [
    "N_train=119000\n",
    "N_test=10000\n",
    "\n",
    "adab = ensemble.AdaBoostClassifier(n_estimators=1000)\n",
    "test_sklearn_model(adab,train_x[:N_train],train_y[:N_train],\n",
    "                   test_x[:N_test],test_y[:N_test])"
   ]
  },
  {
   "cell_type": "markdown",
   "metadata": {},
   "source": [
    "---\n",
    "\n",
    "## Random Forest\n",
    "\n",
    "- n_estimators can be tuned\n",
    "- the characteristics of the decision trees can be also tuned (min_samples_split)"
   ]
  },
  {
   "cell_type": "code",
   "execution_count": 5,
   "metadata": {
    "collapsed": false
   },
   "outputs": [
    {
     "name": "stdout",
     "output_type": "stream",
     "text": [
      "train score: 0.87605\n",
      "test score: 0.72525\n",
      "It took: 12.5128788948\n"
     ]
    }
   ],
   "source": [
    "N_train=20000\n",
    "N_test=4000\n",
    "\n",
    "rf = ensemble.RandomForestClassifier(n_estimators=100,min_samples_split=100)\n",
    "test_sklearn_model(rf,train_x[:N_train],train_y[:N_train],\n",
    "                   test_x[:N_test],test_y[:N_test])"
   ]
  },
  {
   "cell_type": "code",
   "execution_count": 7,
   "metadata": {
    "collapsed": false
   },
   "outputs": [
    {
     "name": "stdout",
     "output_type": "stream",
     "text": [
      "train score: 0.867117647059\n",
      "test score: 0.7368\n",
      "It took: 135.440515995\n"
     ]
    }
   ],
   "source": [
    "N_train=119000\n",
    "N_test=10000\n",
    "\n",
    "rf = ensemble.RandomForestClassifier(n_estimators=100,min_samples_split=100)\n",
    "test_sklearn_model(rf,train_x[:N_train],train_y[:N_train],\n",
    "                   test_x[:N_test],test_y[:N_test])"
   ]
  },
  {
   "cell_type": "markdown",
   "metadata": {},
   "source": [
    "- With more estimators:"
   ]
  },
  {
   "cell_type": "code",
   "execution_count": null,
   "metadata": {
    "collapsed": false
   },
   "outputs": [],
   "source": [
    "N_train=119000\n",
    "N_test=10000\n",
    "\n",
    "rf = ensemble.RandomForestClassifier(n_estimators=1000,min_samples_split=100)\n",
    "test_sklearn_model(rf,train_x[:N_train],train_y[:N_train],\n",
    "                   test_x[:N_test],test_y[:N_test])"
   ]
  },
  {
   "cell_type": "markdown",
   "metadata": {},
   "source": [
    "---\n",
    "\n",
    "## Gradient boosted trees\n",
    "- max depth, and n_estimators can be tuned"
   ]
  },
  {
   "cell_type": "code",
   "execution_count": 6,
   "metadata": {
    "collapsed": false
   },
   "outputs": [
    {
     "name": "stdout",
     "output_type": "stream",
     "text": [
      "train score: 0.867\n",
      "test score: 0.7198\n",
      "It took: 61.3233318329\n"
     ]
    }
   ],
   "source": [
    "N_train=5000\n",
    "N_test=5000\n",
    "\n",
    "gbc = ensemble.GradientBoostingClassifier(max_depth=3,n_estimators=100)\n",
    "test_sklearn_model(gbc,train_x[:N_train],train_y[:N_train],\n",
    "                   test_x[:N_test],test_y[:N_test])"
   ]
  },
  {
   "cell_type": "markdown",
   "metadata": {},
   "source": [
    "- with more data"
   ]
  },
  {
   "cell_type": "code",
   "execution_count": null,
   "metadata": {
    "collapsed": false
   },
   "outputs": [],
   "source": [
    "N_train=119000\n",
    "N_test=10000\n",
    "\n",
    "gbc = ensemble.GradientBoostingClassifier(max_depth=4,n_estimators=100)\n",
    "test_sklearn_model(gbc,train_x[:N_train],train_y[:N_train],\n",
    "                   test_x[:N_test],test_y[:N_test])"
   ]
  },
  {
   "cell_type": "markdown",
   "metadata": {},
   "source": [
    "- more estimators? I will use also xgboost which is more tunable GB software"
   ]
  },
  {
   "cell_type": "markdown",
   "metadata": {},
   "source": [
    "---\n",
    "\n",
    "## Support vector machine\n",
    "\n",
    "- rbf kernel\n",
    "\n",
    "- Error penalty can be tuned\n",
    "\n",
    "- Note it's impossible to interrupt the python kernel when it's running"
   ]
  },
  {
   "cell_type": "code",
   "execution_count": 8,
   "metadata": {
    "collapsed": false
   },
   "outputs": [
    {
     "name": "stdout",
     "output_type": "stream",
     "text": [
      "train score: 0.8294\n",
      "test score: 0.7304\n",
      "It took: 119.257405996\n"
     ]
    }
   ],
   "source": [
    "N_train=5000\n",
    "N_test=5000\n",
    "\n",
    "rbf_svm = svm.SVC(kernel='rbf',C=0.3)\n",
    "test_sklearn_model(rbf_svm,train_x[:N_train],train_y[:N_train],\n",
    "                   test_x[:N_test],test_y[:N_test])"
   ]
  },
  {
   "cell_type": "markdown",
   "metadata": {},
   "source": [
    "- With more data (really slow)"
   ]
  },
  {
   "cell_type": "code",
   "execution_count": null,
   "metadata": {
    "collapsed": false
   },
   "outputs": [],
   "source": [
    "N_train=119000\n",
    "N_test=10000\n",
    "\n",
    "rbf_svm = svm.SVC(kernel='rbf',C=0.3)\n",
    "test_sklearn_model(rbf_svm,train_x[:N_train],train_y[:N_train],\n",
    "                   test_x[:N_test],test_y[:N_test])"
   ]
  },
  {
   "cell_type": "markdown",
   "metadata": {},
   "source": [
    "---\n",
    "## Feature importance with Random Forest\n",
    "\n",
    "- Very strong asymmetry !"
   ]
  },
  {
   "cell_type": "code",
   "execution_count": 9,
   "metadata": {
    "collapsed": false
   },
   "outputs": [
    {
     "data": {
      "image/png": "[encoded data removed]",
      "text/plain": [
       "<matplotlib.figure.Figure at 0x7f17ab122350>"
      ]
     },
     "metadata": {},
     "output_type": "display_data"
    }
   ],
   "source": [
    "N_train=50000\n",
    "rf = ensemble.RandomForestClassifier(n_estimators=100,min_samples_split=100)\n",
    "model=rf.fit(train_x[:N_train],train_y[:N_train])\n",
    "feature_importance = model.feature_importances_\n",
    "\n",
    "# make importances relative to max importance\n",
    "feature_importance = 100.0 * (feature_importance / feature_importance.max())\n",
    "\n",
    "fig,ax=plt.subplots()\n",
    "fig.set_size_inches(12,9)\n",
    "ax.step(np.arange(len(feature_importance))-500, feature_importance,lw=1,c='dodgerblue')\n",
    "ax.axvline(0,lw=2,linestyle='dashed',c='salmon',label='CpG position')\n",
    "ax.set_ylabel('realtive importance',fontsize=16)\n",
    "ax.set_xlabel('pos',fontsize=16)\n",
    "ax.set_xlim(-500,500)\n",
    "ax.legend(fontsize=16)\n",
    "dump=ax.set_title('position importance',fontsize=16)"
   ]
  }
 ],
 "metadata": {
  "kernelspec": {
   "display_name": "Python 2",
   "language": "python",
   "name": "python2"
  },
  "language_info": {
   "codemirror_mode": {
    "name": "ipython",
    "version": 2
   },
   "file_extension": ".py",
   "mimetype": "text/x-python",
   "name": "python",
   "nbconvert_exporter": "python",
   "pygments_lexer": "ipython2",
   "version": "2.7.11"
  }
 },
 "nbformat": 4,
 "nbformat_minor": 0
}
