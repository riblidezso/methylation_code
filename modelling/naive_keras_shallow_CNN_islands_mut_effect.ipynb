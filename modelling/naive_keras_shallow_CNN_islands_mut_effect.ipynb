{
 "cells": [
  {
   "cell_type": "markdown",
   "metadata": {},
   "source": [
    "# Very naive shallow learning on the vector of surrounding bases\n",
    "\n",
    "---\n",
    "\n",
    "### Data\n",
    "\n",
    "Naive feature vectors. The original sequence of validation/test and train data does not overlap! ( but train data points can overlap with train data points, and test-validation can overlap with test-validation data ) This overlapping does not lead to unintentional label leakage!\n",
    "\n",
    "\n",
    "\n",
    "### Notes\n",
    "\n",
    "\n",
    "---"
   ]
  },
  {
   "cell_type": "markdown",
   "metadata": {},
   "source": [
    "Instruct theano to use gpu"
   ]
  },
  {
   "cell_type": "code",
   "execution_count": 1,
   "metadata": {
    "collapsed": false
   },
   "outputs": [],
   "source": [
    "import os\n",
    "os.environ['THEANO_FLAGS']='device=gpu'\n",
    "\n",
    "import sys\n",
    "sys.path.append('../my_modules')\n",
    "from loading_utils import read_my_data\n",
    "\n",
    "import subprocess\n",
    "import time\n",
    "\n",
    "import numpy as np\n",
    "import pandas as pd\n",
    "\n",
    "import os,subprocess\n",
    "workdir='/mnt/Data1/ribli/methylation_code/modelling'\n",
    "subprocess.call(['mkdir',workdir])\n",
    "os.chdir(workdir)"
   ]
  },
  {
   "cell_type": "markdown",
   "metadata": {},
   "source": [
    "### Load data"
   ]
  },
  {
   "cell_type": "code",
   "execution_count": 2,
   "metadata": {
    "collapsed": false
   },
   "outputs": [
    {
     "name": "stdout",
     "output_type": "stream",
     "text": [
      "Loading data... \n",
      "Loading data... \n"
     ]
    }
   ],
   "source": [
    "train_id,train_x,train_y = read_my_data(\n",
    "    fname='../prepare_data/balanced_islands_train_feat_vect.csv')\n",
    "test_id,test_x,test_y = read_my_data(\n",
    "    fname='../prepare_data/balanced_islands_test_feat_vect.csv')"
   ]
  },
  {
   "cell_type": "markdown",
   "metadata": {},
   "source": [
    "### One-hot encode them into 2d image"
   ]
  },
  {
   "cell_type": "code",
   "execution_count": 3,
   "metadata": {
    "collapsed": false
   },
   "outputs": [],
   "source": [
    "from sklearn import preprocessing\n",
    "lb = preprocessing.LabelBinarizer()\n",
    "lb.fit(np.concatenate([train_x.flatten(),test_x.flatten()]))\n",
    "\n",
    "one_hot_train_x=lb.transform(train_x.flatten()).reshape((-1,1,1000,4))\n",
    "one_hot_test_x=lb.transform(test_x.flatten()).reshape((-1,1,1000,4))"
   ]
  },
  {
   "cell_type": "markdown",
   "metadata": {},
   "source": [
    "### Build convnet"
   ]
  },
  {
   "cell_type": "code",
   "execution_count": 47,
   "metadata": {
    "collapsed": false
   },
   "outputs": [],
   "source": [
    "from keras.models import Sequential\n",
    "from keras.layers import Dense, Dropout, Activation, Flatten\n",
    "from keras.layers import Convolution2D,MaxPooling2D\n",
    "\n",
    "input_dim=one_hot_train_x.shape[2]\n",
    "activation='relu'\n",
    "loss='binary_crossentropy'\n",
    "optimizer='adadelta'\n",
    "init='uniform'\n",
    "pool_size=(991,1)\n",
    "window_size=10\n",
    "\n",
    "model = Sequential()\n",
    "\n",
    "#Convolution layer\n",
    "model.add(Convolution2D(40,window_size,4, border_mode='valid',input_shape=(1,input_dim,4)))\n",
    "model.add(Activation(activation))\n",
    "model.add(MaxPooling2D(pool_size=pool_size))\n",
    "model.add(Flatten())\n",
    "\n",
    "#final layer\n",
    "model.add(Dense(1, activation='sigmoid'))\n",
    "\n",
    "#compile model\n",
    "model.compile(loss=loss,optimizer=optimizer,class_mode='binary')"
   ]
  },
  {
   "cell_type": "markdown",
   "metadata": {},
   "source": [
    "### Train and test model"
   ]
  },
  {
   "cell_type": "code",
   "execution_count": 48,
   "metadata": {
    "collapsed": false
   },
   "outputs": [],
   "source": [
    "from keras.callbacks import ModelCheckpoint,EarlyStopping\n",
    "def fit_keras_model(model,train_x,train_y,test_x,test_y,validation_split=0.05):\n",
    "    start=time.time()\n",
    "    \n",
    "    #callbacks\n",
    "    best_model=ModelCheckpoint('best_model',save_best_only=True,verbose=1)\n",
    "    early_stop=EarlyStopping(patience=2,verbose=1)\n",
    "    \n",
    "    #train it\n",
    "    callb_hist=model.fit(train_x,train_y,nb_epoch = 10,\n",
    "                         show_accuracy=True,verbose=1,\n",
    "                        validation_split=validation_split,\n",
    "                        callbacks=[best_model,early_stop])\n",
    "    #predict\n",
    "    model.load_weights('best_model')\n",
    "    train_pred=model.predict_classes(train_x).ravel()\n",
    "    test_pred=model.predict_classes(test_x).ravel()\n",
    "    \n",
    "    train_pred_pr=model.predict(train_x).ravel()\n",
    "    test_pred_pr=model.predict(test_x).ravel()\n",
    "\n",
    "    #check errors\n",
    "    print 'train accuracy:',list((train_pred==train_y)).count(True)/float(len(train_y))\n",
    "    print 'test accuracy:',list((test_pred==test_y)).count(True)/float(len(test_y))\n",
    "\n",
    "    print 'It took:',time.time()-start    \n",
    "    return train_pred,test_pred,train_pred_pr,test_pred_pr"
   ]
  },
  {
   "cell_type": "code",
   "execution_count": 49,
   "metadata": {
    "collapsed": false,
    "scrolled": false
   },
   "outputs": [
    {
     "name": "stdout",
     "output_type": "stream",
     "text": [
      "Train on 29430 samples, validate on 7358 samples\n",
      "Epoch 1/10\n",
      "29430/29430 [==============================] - 16s - loss: 0.5620 - acc: 0.7529 - val_loss: 0.4492 - val_acc: 0.8391\n",
      "Epoch 00000: val_loss improved from inf to 0.44919, saving model to best_model\n",
      "Epoch 2/10\n",
      "29430/29430 [==============================] - 16s - loss: 0.3993 - acc: 0.8413 - val_loss: 0.3603 - val_acc: 0.8490\n",
      "Epoch 00001: val_loss improved from 0.44919 to 0.36028, saving model to best_model\n",
      "Epoch 3/10\n",
      "29430/29430 [==============================] - 16s - loss: 0.3330 - acc: 0.8641 - val_loss: 0.3549 - val_acc: 0.8432\n",
      "Epoch 00002: val_loss improved from 0.36028 to 0.35485, saving model to best_model\n",
      "Epoch 4/10\n",
      "29430/29430 [==============================] - 16s - loss: 0.3039 - acc: 0.8751 - val_loss: 0.2950 - val_acc: 0.8767\n",
      "Epoch 00003: val_loss improved from 0.35485 to 0.29500, saving model to best_model\n",
      "Epoch 5/10\n",
      "29430/29430 [==============================] - 16s - loss: 0.2791 - acc: 0.8863 - val_loss: 0.2712 - val_acc: 0.8902\n",
      "Epoch 00004: val_loss improved from 0.29500 to 0.27121, saving model to best_model\n",
      "Epoch 6/10\n",
      "29430/29430 [==============================] - 16s - loss: 0.2637 - acc: 0.8922 - val_loss: 0.2660 - val_acc: 0.8886\n",
      "Epoch 00005: val_loss improved from 0.27121 to 0.26599, saving model to best_model\n",
      "Epoch 7/10\n",
      "29430/29430 [==============================] - 16s - loss: 0.2564 - acc: 0.8939 - val_loss: 0.2600 - val_acc: 0.8910\n",
      "Epoch 00006: val_loss improved from 0.26599 to 0.25999, saving model to best_model\n",
      "Epoch 8/10\n",
      "29430/29430 [==============================] - 16s - loss: 0.2477 - acc: 0.9001 - val_loss: 0.2462 - val_acc: 0.8987\n",
      "Epoch 00007: val_loss improved from 0.25999 to 0.24621, saving model to best_model\n",
      "Epoch 9/10\n",
      "29430/29430 [==============================] - 16s - loss: 0.2453 - acc: 0.8996 - val_loss: 0.2599 - val_acc: 0.8906\n",
      "Epoch 00008: val_loss did not improve\n",
      "Epoch 10/10\n",
      "29430/29430 [==============================] - 16s - loss: 0.2378 - acc: 0.9016 - val_loss: 0.2398 - val_acc: 0.9017\n",
      "Epoch 00009: val_loss improved from 0.24621 to 0.23977, saving model to best_model\n",
      "36788/36788 [==============================] - 8s     \n",
      "1010/1010 [==============================] - 0s     \n",
      "train accuracy: 0.911737523105\n",
      "test accuracy: 0.889108910891\n",
      "It took: 185.568252087\n",
      "\n",
      "prediction balance:\n",
      "0.486327063173\n",
      "0.472277227723\n"
     ]
    }
   ],
   "source": [
    "train_pred,test_pred,train_pred_pr,test_pred_pr=fit_keras_model(\n",
    "    model,one_hot_train_x,train_y,one_hot_test_x,test_y,validation_split=0.2)\n",
    "\n",
    "print '\\nprediction balance:'\n",
    "print np.mean(train_pred)\n",
    "print np.mean(test_pred)"
   ]
  },
  {
   "cell_type": "markdown",
   "metadata": {},
   "source": [
    "### roc and auc"
   ]
  },
  {
   "cell_type": "code",
   "execution_count": 50,
   "metadata": {
    "collapsed": true
   },
   "outputs": [],
   "source": [
    "import matplotlib.pyplot as plt\n",
    "import matplotlib as mpl\n",
    "mpl.style.use('ggplot')\n",
    "%matplotlib inline\n",
    "\n",
    "from sklearn import metrics\n",
    "def plot_roc(y,probs):\n",
    "    fpr, tpr, thresholds = metrics.roc_curve(y,probs)\n",
    "    auc=metrics.roc_auc_score(y,probs)\n",
    "    \n",
    "    plt.figure(figsize=(6,6))\n",
    "    plt.plot(fpr,tpr,lw=2)\n",
    "    plt.plot([0,1],[0,1],lw=2)\n",
    "    plt.xlim(-0.01,1.01)\n",
    "    plt.ylim(-0.01,1.01)\n",
    "    plt.xlabel('FP rate')\n",
    "    plt.ylabel('TP rate')\n",
    "    print 'auc:',auc"
   ]
  },
  {
   "cell_type": "code",
   "execution_count": 51,
   "metadata": {
    "collapsed": false
   },
   "outputs": [
    {
     "name": "stdout",
     "output_type": "stream",
     "text": [
      "auc: 0.95193804529\n"
     ]
    },
    {
     "data": {
      "image/png": "[encoded data removed]",
      "text/plain": [
       "<matplotlib.figure.Figure at 0x7f177ce10950>"
      ]
     },
     "metadata": {},
     "output_type": "display_data"
    }
   ],
   "source": [
    "plot_roc(test_y,test_pred_pr)"
   ]
  },
  {
   "cell_type": "markdown",
   "metadata": {},
   "source": [
    "### Mutation effect"
   ]
  },
  {
   "cell_type": "code",
   "execution_count": 134,
   "metadata": {
    "collapsed": false
   },
   "outputs": [
    {
     "name": "stdout",
     "output_type": "stream",
     "text": [
      "36788/36788 [==============================] - 8s     \n",
      "36788/36788 [==============================] - 8s     \n",
      "36788/36788 [==============================] - 8s     \n",
      "36788/36788 [==============================] - 8s     \n",
      "36788/36788 [==============================] - 8s     \n",
      "36788/36788 [==============================] - 8s     \n",
      "36788/36788 [==============================] - 8s     \n",
      "36788/36788 [==============================] - 8s     \n",
      "36788/36788 [==============================] - 8s     \n",
      "36788/36788 [==============================] - 8s     \n"
     ]
    }
   ],
   "source": [
    "pr_diff,class_diff=[],[]\n",
    "for j in xrange(10):\n",
    "    mut_one_hot_train_x=np.array(one_hot_train_x)\n",
    "\n",
    "    for i in range(len(mut_one_hot_test_x)):\n",
    "        #introduce random mut in +-10\n",
    "        pos=np.random.randint(0,1000)-500\n",
    "        #shift\n",
    "        roll=np.random.randint(1,4)\n",
    "\n",
    "        mut_one_hot_train_x[i][0][500+pos]=np.roll(mut_one_hot_train_x[i][0][500+pos],roll)\n",
    "\n",
    "    mut_train_pred_pr=model.predict(mut_one_hot_train_x,verbose=1).ravel()\n",
    "    mut_train_pred=np.int8(mut_train_pred_pr>0.5)\n",
    "    pr_diff.append(mut_train_pred_pr-train_pred_pr)\n",
    "    class_diff.append(mut_train_pred-train_pred)\n",
    "pr_diff=np.array(pr_diff).flatten()\n",
    "class_diff=np.array(class_diff).flatten()"
   ]
  },
  {
   "cell_type": "code",
   "execution_count": 135,
   "metadata": {
    "collapsed": false
   },
   "outputs": [
    {
     "data": {
      "image/png": "[encoded data removed]",
      "text/plain": [
       "<matplotlib.figure.Figure at 0x7f179c127590>"
      ]
     },
     "metadata": {},
     "output_type": "display_data"
    }
   ],
   "source": [
    "import seaborn as sns\n",
    "sns.distplot(pr_diff,rug=False,kde=False,bins=20)\n",
    "plt.yscale('log')"
   ]
  },
  {
   "cell_type": "code",
   "execution_count": 144,
   "metadata": {
    "collapsed": false
   },
   "outputs": [
    {
     "data": {
      "text/plain": [
       "<matplotlib.axes._subplots.AxesSubplot at 0x7f178a67a7d0>"
      ]
     },
     "execution_count": 144,
     "metadata": {},
     "output_type": "execute_result"
    },
    {
     "data": {
      "image/png": "[encoded data removed]",
      "text/plain": [
       "<matplotlib.figure.Figure at 0x7f178cbea690>"
      ]
     },
     "metadata": {},
     "output_type": "display_data"
    }
   ],
   "source": [
    "diff=mut_train_pred_pr-train_pred_pr\n",
    "sns.distplot(np.log(np.abs(pr_diff[pr_diff!=0])),rug=False,bins=30)"
   ]
  },
  {
   "cell_type": "code",
   "execution_count": 143,
   "metadata": {
    "collapsed": false
   },
   "outputs": [
    {
     "data": {
      "image/png": "[encoded data removed]",
      "text/plain": [
       "<matplotlib.figure.Figure at 0x7f177cc59bd0>"
      ]
     },
     "metadata": {},
     "output_type": "display_data"
    }
   ],
   "source": [
    "sns.distplot(class_diff,rug=False,kde=False,bins=9)\n",
    "plt.yscale('log')"
   ]
  }
 ],
 "metadata": {
  "kernelspec": {
   "display_name": "Python 2",
   "language": "python",
   "name": "python2"
  },
  "language_info": {
   "codemirror_mode": {
    "name": "ipython",
    "version": 2
   },
   "file_extension": ".py",
   "mimetype": "text/x-python",
   "name": "python",
   "nbconvert_exporter": "python",
   "pygments_lexer": "ipython2",
   "version": "2.7.11"
  }
 },
 "nbformat": 4,
 "nbformat_minor": 0
}
