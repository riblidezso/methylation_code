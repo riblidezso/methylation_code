{
 "cells": [
  {
   "cell_type": "markdown",
   "metadata": {},
   "source": [
    "# Check methzlation balance in annotation classes\n",
    "\n",
    "---\n",
    "\n",
    "\n",
    "\n",
    "## <span class=\"label label-success\"> Analysis </span>\n",
    "\n",
    "\n",
    "\n",
    "---\n",
    "\n",
    "## <span class=\"label label-warning\">NOTE</span>\n",
    "\n",
    "- Very imbalanced\n",
    "\n",
    "---"
   ]
  },
  {
   "cell_type": "code",
   "execution_count": 1,
   "metadata": {
    "collapsed": true
   },
   "outputs": [],
   "source": [
    "import pandas as pd\n",
    "import numpy as np\n",
    "import matplotlib.pyplot as plt\n",
    "%matplotlib inline\n",
    "\n",
    "from Bio import SeqIO\n",
    "from Bio.Seq import Seq\n",
    "\n",
    "import os\n",
    "import subprocess\n",
    "import time\n",
    "\n",
    "from IPython.core.display import Image \n",
    "from IPython.display import display\n",
    "\n",
    "import re"
   ]
  },
  {
   "cell_type": "code",
   "execution_count": 2,
   "metadata": {
    "collapsed": false
   },
   "outputs": [],
   "source": [
    "workdir='/nagyvinyok/adat84/sotejedlik/ribli/methylation_code/explore_data'\n",
    "subprocess.call(['mkdir',workdir])\n",
    "os.chdir(workdir)\n",
    "os.environ['TMPDIR']='/nagyvinyok/adat84/sotejedlik/ribli/tmp'"
   ]
  },
  {
   "cell_type": "code",
   "execution_count": 3,
   "metadata": {
    "collapsed": true
   },
   "outputs": [],
   "source": [
    "#sql exetcuter func\n",
    "def run_sqlilte3(command,db,output=''):\n",
    "    start=time.time()\n",
    "    with open('tempf.sql','w') as tempf:\n",
    "        tempf.write(command)\n",
    "        \n",
    "    if output != '':\n",
    "        output=' > '+output\n",
    "    \n",
    "    try:\n",
    "        print subprocess.check_output('/usr/bin/sqlite3 '+ db + ' < tempf.sql '+ output,\n",
    "                                      shell=True, stderr=subprocess.STDOUT)\n",
    "    except subprocess.CalledProcessError, e:\n",
    "        print e.output\n",
    "    \n",
    "    subprocess.call(['rm','tempf.sql'])\n",
    "    print 'It took',int(time.time()-start),'s'"
   ]
  },
  {
   "cell_type": "code",
   "execution_count": 4,
   "metadata": {
    "collapsed": false
   },
   "outputs": [
    {
     "data": {
      "text/html": [
       "<div>\n",
       "<table border=\"1\" class=\"dataframe\">\n",
       "  <thead>\n",
       "    <tr style=\"text-align: right;\">\n",
       "      <th></th>\n",
       "      <th>Column Name</th>\n",
       "      <th>Description</th>\n",
       "    </tr>\n",
       "  </thead>\n",
       "  <tbody>\n",
       "    <tr>\n",
       "      <th>0</th>\n",
       "      <td>Index</td>\n",
       "      <td>Probe Index</td>\n",
       "    </tr>\n",
       "    <tr>\n",
       "      <th>1</th>\n",
       "      <td>TargetID</td>\n",
       "      <td>Identifies the probe name. Also used as a key ...</td>\n",
       "    </tr>\n",
       "    <tr>\n",
       "      <th>2</th>\n",
       "      <td>ProbeID_A</td>\n",
       "      <td>Illumina identifier for probe sequence A</td>\n",
       "    </tr>\n",
       "    <tr>\n",
       "      <th>3</th>\n",
       "      <td>ProbeID_B</td>\n",
       "      <td>Illumina identifier for probe sequence B</td>\n",
       "    </tr>\n",
       "    <tr>\n",
       "      <th>4</th>\n",
       "      <td>IlmnID</td>\n",
       "      <td>Unique CpG locus identifier from the Illumina ...</td>\n",
       "    </tr>\n",
       "    <tr>\n",
       "      <th>5</th>\n",
       "      <td>Name</td>\n",
       "      <td>Unique CpG locus identifier from the Illumina ...</td>\n",
       "    </tr>\n",
       "    <tr>\n",
       "      <th>6</th>\n",
       "      <td>AddressA_ID</td>\n",
       "      <td>Address of probe A</td>\n",
       "    </tr>\n",
       "    <tr>\n",
       "      <th>7</th>\n",
       "      <td>AlleleA_ProbeSeq</td>\n",
       "      <td>Sequence for probe A</td>\n",
       "    </tr>\n",
       "    <tr>\n",
       "      <th>8</th>\n",
       "      <td>AddressB_ID</td>\n",
       "      <td>Address of probe  B</td>\n",
       "    </tr>\n",
       "    <tr>\n",
       "      <th>9</th>\n",
       "      <td>AlleleB_ProbeSeq</td>\n",
       "      <td>Sequence for probe B</td>\n",
       "    </tr>\n",
       "    <tr>\n",
       "      <th>10</th>\n",
       "      <td>Infinium_Design_Type</td>\n",
       "      <td>Defines Assay type - Infinium I or Infinium II</td>\n",
       "    </tr>\n",
       "    <tr>\n",
       "      <th>11</th>\n",
       "      <td>Next_Base</td>\n",
       "      <td>Base added at SBE step - Infinium I assays only</td>\n",
       "    </tr>\n",
       "    <tr>\n",
       "      <th>12</th>\n",
       "      <td>Color_Channel</td>\n",
       "      <td>Color of the incorporated base  (Red or Green)...</td>\n",
       "    </tr>\n",
       "    <tr>\n",
       "      <th>13</th>\n",
       "      <td>Forward_Sequence</td>\n",
       "      <td>Sequence (in 5'-3' orientation) flanking query...</td>\n",
       "    </tr>\n",
       "    <tr>\n",
       "      <th>14</th>\n",
       "      <td>Genome_Build</td>\n",
       "      <td>Genome build on which forward sequence is based</td>\n",
       "    </tr>\n",
       "    <tr>\n",
       "      <th>15</th>\n",
       "      <td>CHR</td>\n",
       "      <td>Chromosome - genome build 37</td>\n",
       "    </tr>\n",
       "    <tr>\n",
       "      <th>16</th>\n",
       "      <td>MAPINFO</td>\n",
       "      <td>Coordinates - genome build 37</td>\n",
       "    </tr>\n",
       "    <tr>\n",
       "      <th>17</th>\n",
       "      <td>SourceSeq</td>\n",
       "      <td>Unconverted design sequence</td>\n",
       "    </tr>\n",
       "    <tr>\n",
       "      <th>18</th>\n",
       "      <td>Chromosome_36</td>\n",
       "      <td>Chromosome - genome build 36</td>\n",
       "    </tr>\n",
       "    <tr>\n",
       "      <th>19</th>\n",
       "      <td>Coordinate_36</td>\n",
       "      <td>Coordinates - genome build 36</td>\n",
       "    </tr>\n",
       "    <tr>\n",
       "      <th>20</th>\n",
       "      <td>Strand</td>\n",
       "      <td>Design strand</td>\n",
       "    </tr>\n",
       "    <tr>\n",
       "      <th>21</th>\n",
       "      <td>Probe_SNPs</td>\n",
       "      <td>Assays with SNPs present within probe &gt;10bp fr...</td>\n",
       "    </tr>\n",
       "    <tr>\n",
       "      <th>22</th>\n",
       "      <td>Probe_SNPs_10</td>\n",
       "      <td>Assays with SNPs present within probe ≤10bp fr...</td>\n",
       "    </tr>\n",
       "    <tr>\n",
       "      <th>23</th>\n",
       "      <td>Random_Loci</td>\n",
       "      <td>Loci which were chosen randomly in the design ...</td>\n",
       "    </tr>\n",
       "    <tr>\n",
       "      <th>24</th>\n",
       "      <td>Methyl27_Loci</td>\n",
       "      <td>Present or absent on HumanMethylation27 array</td>\n",
       "    </tr>\n",
       "    <tr>\n",
       "      <th>25</th>\n",
       "      <td>UCSC_RefGene_Name</td>\n",
       "      <td>Gene name (UCSC)</td>\n",
       "    </tr>\n",
       "    <tr>\n",
       "      <th>26</th>\n",
       "      <td>UCSC_RefGene_Accession</td>\n",
       "      <td>Accession number (UCSC)</td>\n",
       "    </tr>\n",
       "    <tr>\n",
       "      <th>27</th>\n",
       "      <td>UCSC_RefGene_Group</td>\n",
       "      <td>Gene region feature category (UCSC)</td>\n",
       "    </tr>\n",
       "    <tr>\n",
       "      <th>28</th>\n",
       "      <td>UCSC_CpG_Islands_Name</td>\n",
       "      <td>CpG island name (UCSC)</td>\n",
       "    </tr>\n",
       "    <tr>\n",
       "      <th>29</th>\n",
       "      <td>Relation_to_UCSC_CpG_Island</td>\n",
       "      <td>Relationship to Canonical CpG Island: Shores -...</td>\n",
       "    </tr>\n",
       "    <tr>\n",
       "      <th>30</th>\n",
       "      <td>Phantom</td>\n",
       "      <td>FANTOM-derived promoter</td>\n",
       "    </tr>\n",
       "    <tr>\n",
       "      <th>31</th>\n",
       "      <td>DMR</td>\n",
       "      <td>Differentially methylated region (experimental...</td>\n",
       "    </tr>\n",
       "    <tr>\n",
       "      <th>32</th>\n",
       "      <td>Enhancer</td>\n",
       "      <td>Enhancer element (informatically-determined)</td>\n",
       "    </tr>\n",
       "    <tr>\n",
       "      <th>33</th>\n",
       "      <td>HMM_Island</td>\n",
       "      <td>Hidden Markov Model Island</td>\n",
       "    </tr>\n",
       "    <tr>\n",
       "      <th>34</th>\n",
       "      <td>Regulatory_Feature_Name</td>\n",
       "      <td>Regulatory feature (informatically determined)</td>\n",
       "    </tr>\n",
       "    <tr>\n",
       "      <th>35</th>\n",
       "      <td>Regulatory_Feature_Group</td>\n",
       "      <td>Regulatory feature category</td>\n",
       "    </tr>\n",
       "    <tr>\n",
       "      <th>36</th>\n",
       "      <td>DHS</td>\n",
       "      <td>DNAse hypersensitive site (experimentally dete...</td>\n",
       "    </tr>\n",
       "  </tbody>\n",
       "</table>\n",
       "</div>"
      ],
      "text/plain": [
       "                    Column Name  \\\n",
       "0                         Index   \n",
       "1                      TargetID   \n",
       "2                     ProbeID_A   \n",
       "3                     ProbeID_B   \n",
       "4                        IlmnID   \n",
       "5                          Name   \n",
       "6                   AddressA_ID   \n",
       "7              AlleleA_ProbeSeq   \n",
       "8                   AddressB_ID   \n",
       "9              AlleleB_ProbeSeq   \n",
       "10         Infinium_Design_Type   \n",
       "11                    Next_Base   \n",
       "12                Color_Channel   \n",
       "13             Forward_Sequence   \n",
       "14                 Genome_Build   \n",
       "15                          CHR   \n",
       "16                      MAPINFO   \n",
       "17                    SourceSeq   \n",
       "18                Chromosome_36   \n",
       "19                Coordinate_36   \n",
       "20                       Strand   \n",
       "21                   Probe_SNPs   \n",
       "22                Probe_SNPs_10   \n",
       "23                  Random_Loci   \n",
       "24                Methyl27_Loci   \n",
       "25            UCSC_RefGene_Name   \n",
       "26       UCSC_RefGene_Accession   \n",
       "27           UCSC_RefGene_Group   \n",
       "28        UCSC_CpG_Islands_Name   \n",
       "29  Relation_to_UCSC_CpG_Island   \n",
       "30                      Phantom   \n",
       "31                          DMR   \n",
       "32                     Enhancer   \n",
       "33                   HMM_Island   \n",
       "34      Regulatory_Feature_Name   \n",
       "35     Regulatory_Feature_Group   \n",
       "36                          DHS   \n",
       "\n",
       "                                          Description  \n",
       "0                                         Probe Index  \n",
       "1   Identifies the probe name. Also used as a key ...  \n",
       "2            Illumina identifier for probe sequence A  \n",
       "3            Illumina identifier for probe sequence B  \n",
       "4   Unique CpG locus identifier from the Illumina ...  \n",
       "5   Unique CpG locus identifier from the Illumina ...  \n",
       "6                                  Address of probe A  \n",
       "7                                Sequence for probe A  \n",
       "8                                 Address of probe  B  \n",
       "9                                Sequence for probe B  \n",
       "10     Defines Assay type - Infinium I or Infinium II  \n",
       "11    Base added at SBE step - Infinium I assays only  \n",
       "12  Color of the incorporated base  (Red or Green)...  \n",
       "13  Sequence (in 5'-3' orientation) flanking query...  \n",
       "14    Genome build on which forward sequence is based  \n",
       "15                       Chromosome - genome build 37  \n",
       "16                      Coordinates - genome build 37  \n",
       "17                        Unconverted design sequence  \n",
       "18                       Chromosome - genome build 36  \n",
       "19                      Coordinates - genome build 36  \n",
       "20                                      Design strand  \n",
       "21  Assays with SNPs present within probe >10bp fr...  \n",
       "22  Assays with SNPs present within probe ≤10bp fr...  \n",
       "23  Loci which were chosen randomly in the design ...  \n",
       "24      Present or absent on HumanMethylation27 array  \n",
       "25                                   Gene name (UCSC)  \n",
       "26                            Accession number (UCSC)  \n",
       "27                Gene region feature category (UCSC)  \n",
       "28                             CpG island name (UCSC)  \n",
       "29  Relationship to Canonical CpG Island: Shores -...  \n",
       "30                            FANTOM-derived promoter  \n",
       "31  Differentially methylated region (experimental...  \n",
       "32       Enhancer element (informatically-determined)  \n",
       "33                         Hidden Markov Model Island  \n",
       "34     Regulatory feature (informatically determined)  \n",
       "35                        Regulatory feature category  \n",
       "36  DNAse hypersensitive site (experimentally dete...  "
      ]
     },
     "execution_count": 4,
     "metadata": {},
     "output_type": "execute_result"
    }
   ],
   "source": [
    "pd.read_excel('GPL13534_450K_Manifest_header_Descriptions.xlsx')"
   ]
  },
  {
   "cell_type": "code",
   "execution_count": 13,
   "metadata": {
    "collapsed": false,
    "scrolled": false
   },
   "outputs": [
    {
     "name": "stdout",
     "output_type": "stream",
     "text": [
      "cg00035864\tcg00035864\t31729416\tAAAACACTAACAATCTTATCCACATAAACCCTTAAATTTATCTCAAATTC\t\t\tII\t\t\tAATCCAAAGATGATGGAGGAGTGCCCGCTCATGATGTGAAGTACCTGCTCAGCTGGAAAC[CG]AATTTGAGATAAATTCAAGGGTCTATGTGGACAAGACTGCTAGTGTCTCTCTCTGGATTG\t37\tY\t8553009\tAGACACTAGCAGTCTTGTCCACATAGACCCTTGAATTTATCTCAAATTCG\tY\t8613009\tF\t\t\t\t\tTTTY18\tNR_001550\tTSS1500\t\t\t\t\t\t\t\t\t\n",
      "\n",
      "It took 0 s\n"
     ]
    }
   ],
   "source": [
    "run_sqlilte3('''\n",
    ".separator \"\\t\"\n",
    "\n",
    "SELECT *\n",
    "FROM ncbi_450_annot AS n\n",
    "LIMIT 1;\n",
    "\n",
    "''',db='../db/meth_db')"
   ]
  },
  {
   "cell_type": "markdown",
   "metadata": {},
   "source": [
    "### Regulatory feature group"
   ]
  },
  {
   "cell_type": "code",
   "execution_count": 6,
   "metadata": {
    "collapsed": false
   },
   "outputs": [
    {
     "name": "stdout",
     "output_type": "stream",
     "text": [
      "\t0\t35827\n",
      "\t1\t182207\n",
      "Gene_Associated\t0\t133\n",
      "Gene_Associated\t1\t642\n",
      "Gene_Associated_Cell_type_specific\t0\t47\n",
      "Gene_Associated_Cell_type_specific\t1\t1412\n",
      "NonGene_Associated\t0\t1056\n",
      "NonGene_Associated\t1\t53\n",
      "NonGene_Associated_Cell_type_specific\t0\t54\n",
      "NonGene_Associated_Cell_type_specific\t1\t82\n",
      "Promoter_Associated\t0\t78688\n",
      "Promoter_Associated\t1\t1992\n",
      "Promoter_Associated_Cell_type_specific\t0\t3421\n",
      "Promoter_Associated_Cell_type_specific\t1\t747\n",
      "Unclassified\t0\t17208\n",
      "Unclassified\t1\t3294\n",
      "Unclassified_Cell_type_specific\t0\t10663\n",
      "Unclassified_Cell_type_specific\t1\t10133\n",
      "\n",
      "It took 10 s\n"
     ]
    }
   ],
   "source": [
    "run_sqlilte3('''\n",
    ".separator \"\\t\"\n",
    ".load /home/ribli/tools/sqlite_math_ext/libsqlitefunctions\n",
    "\n",
    "WITH med_table AS (\n",
    "    SELECT probe AS probe,MEDIAN(beta) AS medb ,STDEV(beta) AS stdb\n",
    "    FROM normal_h_meth\n",
    "    GROUP BY probe)\n",
    "\n",
    "SELECT n.Regulatory_Feature_Group,FLOOR(m.medb+0.5),COUNT(*)\n",
    "FROM ncbi_450_annot AS n\n",
    "INNER JOIN med_table AS m ON m.probe=n.IlmnID\n",
    "WHERE ( m.medb > 0.8 OR m.medb < 0.2)  AND m.stdb <0.1\n",
    "GROUP BY n.Regulatory_Feature_Group,FLOOR(m.medb+0.5);\n",
    "\n",
    "''',db='../db/meth_db')"
   ]
  },
  {
   "cell_type": "markdown",
   "metadata": {},
   "source": [
    "### UCSC CpG islands"
   ]
  },
  {
   "cell_type": "code",
   "execution_count": 14,
   "metadata": {
    "collapsed": false
   },
   "outputs": [
    {
     "name": "stdout",
     "output_type": "stream",
     "text": [
      "\t0\t11788\n",
      "\t1\t108987\n",
      "Island\t0\t97174\n",
      "Island\t1\t20700\n",
      "N_Shelf\t0\t780\n",
      "N_Shelf\t1\t16695\n",
      "N_Shore\t0\t17482\n",
      "N_Shore\t1\t20779\n",
      "S_Shelf\t0\t661\n",
      "S_Shelf\t1\t15190\n",
      "S_Shore\t0\t14741\n",
      "S_Shore\t1\t15699\n",
      "\n",
      "It took 8 s\n"
     ]
    }
   ],
   "source": [
    "run_sqlilte3('''\n",
    ".separator \"\\t\"\n",
    ".load /home/ribli/tools/sqlite_math_ext/libsqlitefunctions\n",
    "\n",
    "WITH med_table AS (\n",
    "    SELECT probe AS probe,MEDIAN(beta) AS medb ,STDEV(beta) AS stdb\n",
    "    FROM normal_h_meth\n",
    "    GROUP BY probe)\n",
    "\n",
    "SELECT n.Relation_to_UCSC_CpG_Island,FLOOR(m.medb+0.5),COUNT(*)\n",
    "FROM ncbi_450_annot AS n\n",
    "INNER JOIN med_table AS m ON m.probe=n.IlmnID\n",
    "WHERE ( m.medb > 0.8 OR m.medb < 0.2)  AND m.stdb <0.1\n",
    "GROUP BY n.Relation_to_UCSC_CpG_Island,FLOOR(m.medb+0.5);\n",
    "\n",
    "''',db='../db/meth_db')"
   ]
  },
  {
   "cell_type": "markdown",
   "metadata": {},
   "source": [
    "### Strand"
   ]
  },
  {
   "cell_type": "code",
   "execution_count": 16,
   "metadata": {
    "collapsed": false
   },
   "outputs": [
    {
     "name": "stdout",
     "output_type": "stream",
     "text": [
      "F\t0\t72807\n",
      "F\t1\t98908\n",
      "R\t0\t69819\n",
      "R\t1\t99142\n",
      "\n",
      "It took 6 s\n"
     ]
    }
   ],
   "source": [
    "run_sqlilte3('''\n",
    ".separator \"\\t\"\n",
    ".load /home/ribli/tools/sqlite_math_ext/libsqlitefunctions\n",
    "\n",
    "WITH med_table AS (\n",
    "    SELECT probe AS probe,MEDIAN(beta) AS medb ,STDEV(beta) AS stdb\n",
    "    FROM normal_h_meth\n",
    "    GROUP BY probe)\n",
    "\n",
    "SELECT n.Strand,FLOOR(m.medb+0.5),COUNT(*)\n",
    "FROM ncbi_450_annot AS n\n",
    "INNER JOIN med_table AS m ON m.probe=n.IlmnID\n",
    "WHERE ( m.medb > 0.8 OR m.medb < 0.2)  AND m.stdb <0.1\n",
    "GROUP BY n.Strand,FLOOR(m.medb+0.5);\n",
    "\n",
    "''',db='../db/meth_db')"
   ]
  },
  {
   "cell_type": "markdown",
   "metadata": {},
   "source": [
    "### Infinium Design Type"
   ]
  },
  {
   "cell_type": "code",
   "execution_count": 17,
   "metadata": {
    "collapsed": false
   },
   "outputs": [
    {
     "name": "stdout",
     "output_type": "stream",
     "text": [
      "I\t0\t71690\n",
      "I\t1\t34483\n",
      "II\t0\t70936\n",
      "II\t1\t163567\n",
      "\n",
      "It took 8 s\n"
     ]
    }
   ],
   "source": [
    "run_sqlilte3('''\n",
    ".separator \"\\t\"\n",
    ".load /home/ribli/tools/sqlite_math_ext/libsqlitefunctions\n",
    "\n",
    "WITH med_table AS (\n",
    "    SELECT probe AS probe,MEDIAN(beta) AS medb ,STDEV(beta) AS stdb\n",
    "    FROM normal_h_meth\n",
    "    GROUP BY probe)\n",
    "\n",
    "SELECT n.Infinium_Design_Type,FLOOR(m.medb+0.5),COUNT(*)\n",
    "FROM ncbi_450_annot AS n\n",
    "INNER JOIN med_table AS m ON m.probe=n.IlmnID\n",
    "WHERE ( m.medb > 0.8 OR m.medb < 0.2)  AND m.stdb <0.1\n",
    "GROUP BY n.Infinium_Design_Type,FLOOR(m.medb+0.5);\n",
    "\n",
    "''',db='../db/meth_db')"
   ]
  },
  {
   "cell_type": "markdown",
   "metadata": {},
   "source": [
    "### Chromosome"
   ]
  },
  {
   "cell_type": "code",
   "execution_count": 18,
   "metadata": {
    "collapsed": false
   },
   "outputs": [
    {
     "name": "stdout",
     "output_type": "stream",
     "text": [
      "1\t0\t14960\n",
      "1\t1\t17970\n",
      "10\t0\t6583\n",
      "10\t1\t10938\n",
      "11\t0\t8703\n",
      "11\t1\t11347\n",
      "12\t0\t7823\n",
      "12\t1\t9724\n",
      "13\t0\t3028\n",
      "13\t1\t5900\n",
      "14\t0\t4672\n",
      "14\t1\t6156\n",
      "15\t0\t4735\n",
      "15\t1\t6117\n",
      "16\t0\t5678\n",
      "16\t1\t9880\n",
      "17\t0\t8832\n",
      "17\t1\t10847\n",
      "18\t0\t2125\n",
      "18\t1\t2245\n",
      "19\t0\t9460\n",
      "19\t1\t8615\n",
      "2\t0\t10065\n",
      "2\t1\t14885\n",
      "20\t0\t3796\n",
      "20\t1\t3195\n",
      "21\t0\t1179\n",
      "21\t1\t1783\n",
      "22\t0\t3061\n",
      "22\t1\t2974\n",
      "3\t0\t8121\n",
      "3\t1\t10129\n",
      "4\t0\t5811\n",
      "4\t1\t8850\n",
      "5\t0\t6968\n",
      "5\t1\t9697\n",
      "6\t0\t10921\n",
      "6\t1\t15282\n",
      "7\t0\t7406\n",
      "7\t1\t14054\n",
      "8\t0\t5228\n",
      "8\t1\t9734\n",
      "9\t0\t2819\n",
      "9\t1\t3946\n",
      "MULTI\t1\t28\n",
      "X\t0\t647\n",
      "X\t1\t3737\n",
      "Y\t0\t5\n",
      "Y\t1\t17\n",
      "\n",
      "It took 8 s\n"
     ]
    }
   ],
   "source": [
    "run_sqlilte3('''\n",
    ".separator \"\\t\"\n",
    ".load /home/ribli/tools/sqlite_math_ext/libsqlitefunctions\n",
    "\n",
    "WITH med_table AS (\n",
    "    SELECT probe AS probe,MEDIAN(beta) AS medb ,STDEV(beta) AS stdb\n",
    "    FROM normal_h_meth\n",
    "    GROUP BY probe)\n",
    "\n",
    "SELECT n.Chromosome_36,FLOOR(m.medb+0.5),COUNT(*)\n",
    "FROM ncbi_450_annot AS n\n",
    "INNER JOIN med_table AS m ON m.probe=n.IlmnID\n",
    "WHERE ( m.medb > 0.8 OR m.medb < 0.2)  AND m.stdb <0.1\n",
    "GROUP BY n.Chromosome_36,FLOOR(m.medb+0.5);\n",
    "\n",
    "''',db='../db/meth_db')"
   ]
  },
  {
   "cell_type": "markdown",
   "metadata": {},
   "source": [
    "### Random Loci"
   ]
  },
  {
   "cell_type": "code",
   "execution_count": 11,
   "metadata": {
    "collapsed": false
   },
   "outputs": [
    {
     "name": "stdout",
     "output_type": "stream",
     "text": [
      "\t0\t142296\n",
      "\t1\t195368\n",
      "TRUE\t0\t330\n",
      "TRUE\t1\t2682\n",
      "\n",
      "It took 9 s\n"
     ]
    }
   ],
   "source": [
    "run_sqlilte3('''\n",
    ".separator \"\\t\"\n",
    ".load /home/ribli/tools/sqlite_math_ext/libsqlitefunctions\n",
    "\n",
    "WITH med_table AS (\n",
    "    SELECT probe AS probe,MEDIAN(beta) AS medb ,STDEV(beta) AS stdb\n",
    "    FROM normal_h_meth\n",
    "    GROUP BY probe)\n",
    "\n",
    "SELECT n.Random_Loci,FLOOR(m.medb+0.5),COUNT(*)\n",
    "FROM ncbi_450_annot AS n\n",
    "INNER JOIN med_table AS m ON m.probe=n.IlmnID\n",
    "WHERE ( m.medb > 0.8 OR m.medb < 0.2)  AND m.stdb <0.1\n",
    "GROUP BY n.Random_Loci,FLOOR(m.medb+0.5);\n",
    "\n",
    "''',db='../db/meth_db')"
   ]
  },
  {
   "cell_type": "markdown",
   "metadata": {},
   "source": [
    "### Methyl27_Loci"
   ]
  },
  {
   "cell_type": "code",
   "execution_count": 19,
   "metadata": {
    "collapsed": false
   },
   "outputs": [
    {
     "name": "stdout",
     "output_type": "stream",
     "text": [
      "\t0\t128873\n",
      "\t1\t193368\n",
      "TRUE\t0\t13753\n",
      "TRUE\t1\t4682\n",
      "\n",
      "It took 8 s\n"
     ]
    }
   ],
   "source": [
    "run_sqlilte3('''\n",
    ".separator \"\\t\"\n",
    ".load /home/ribli/tools/sqlite_math_ext/libsqlitefunctions\n",
    "\n",
    "WITH med_table AS (\n",
    "    SELECT probe AS probe,MEDIAN(beta) AS medb ,STDEV(beta) AS stdb\n",
    "    FROM normal_h_meth\n",
    "    GROUP BY probe)\n",
    "\n",
    "SELECT n.Methyl27_Loci,FLOOR(m.medb+0.5),COUNT(*)\n",
    "FROM ncbi_450_annot AS n\n",
    "INNER JOIN med_table AS m ON m.probe=n.IlmnID\n",
    "WHERE ( m.medb > 0.8 OR m.medb < 0.2)  AND m.stdb <0.1\n",
    "GROUP BY n.Methyl27_Loci,FLOOR(m.medb+0.5);\n",
    "\n",
    "''',db='../db/meth_db')"
   ]
  },
  {
   "cell_type": "markdown",
   "metadata": {},
   "source": [
    "### Write relevant annotations"
   ]
  },
  {
   "cell_type": "code",
   "execution_count": 7,
   "metadata": {
    "collapsed": false
   },
   "outputs": [
    {
     "name": "stdout",
     "output_type": "stream",
     "text": [
      "\n",
      "It took 2 s\n"
     ]
    }
   ],
   "source": [
    "run_sqlilte3('''\n",
    ".separator \"\\t\"\n",
    "\n",
    "SELECT IlmnID,Regulatory_Feature_Group,Relation_to_UCSC_CpG_Island,\n",
    "    Strand,Infinium_Design_Type,Random_Loci,Methyl27_Loci\n",
    "FROM ncbi_450_annot;\n",
    "\n",
    "''',db='../db/meth_db',output='relevant_annotations.csv')"
   ]
  }
 ],
 "metadata": {
  "kernelspec": {
   "display_name": "Python 2",
   "language": "python",
   "name": "python2"
  },
  "language_info": {
   "codemirror_mode": {
    "name": "ipython",
    "version": 2
   },
   "file_extension": ".py",
   "mimetype": "text/x-python",
   "name": "python",
   "nbconvert_exporter": "python",
   "pygments_lexer": "ipython2",
   "version": "2.7.11"
  }
 },
 "nbformat": 4,
 "nbformat_minor": 0
}
