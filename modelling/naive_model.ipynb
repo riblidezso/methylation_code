{
 "cells": [
  {
   "cell_type": "markdown",
   "metadata": {},
   "source": [
    "# Very naive learning on the vector of surrounding bases with standardish machine learning algorithms from scikit sklearn\n",
    "\n",
    "---\n",
    "\n",
    "### Analysis\n",
    "\n",
    "I will try to naively predict the mehtylation value (0,1) based on naive sequence context feauture vectors.\n",
    "\n",
    "I will use the \"state of the art\" general machine learning tools.\n",
    "- AdaBoost\n",
    "- RandomForest\n",
    "- SVM\n",
    "\n",
    "\n",
    "### Conlcusions\n",
    "\n",
    "- All naive models produce 70-75% prediction rates.\n",
    "    - actually I think that's surprisinlgy high \n",
    "    \n",
    "    \n",
    "\n",
    "- They are \"simple\" models, they do not gain much from the overwhelming number of data points.\n",
    "    - 5k -> 80k only increases 1-2%\n",
    "    - I can have around 250k data points !!!\n",
    "\n",
    "\n",
    "- Very interesting position importance figure with Random Forest.\n",
    "\n",
    "---"
   ]
  },
  {
   "cell_type": "code",
   "execution_count": 1,
   "metadata": {
    "collapsed": false
   },
   "outputs": [
    {
     "name": "stdout",
     "output_type": "stream",
     "text": [
      "Couldn't import dot_parser, loading of dot files will not be possible.\n"
     ]
    }
   ],
   "source": [
    "import pandas as pd\n",
    "import numpy as np\n",
    "import matplotlib.pyplot as plt\n",
    "%matplotlib inline\n",
    "\n",
    "import time\n",
    "\n",
    "from sklearn import tree\n",
    "from sklearn import svm\n",
    "from sklearn import ensemble\n",
    "\n",
    "import sys\n",
    "sys.path.append('../my_modules')\n",
    "from loading_utils import read_my_data,create_sets\n",
    "\n",
    "#workdir='/nagyvinyok/adat84/sotejedlik/ribli/methylation_code/modelling'\n",
    "#subprocess.call(['mkdir',workdir])\n",
    "#os.chdir(workdir)"
   ]
  },
  {
   "cell_type": "markdown",
   "metadata": {},
   "source": [
    "### Load data"
   ]
  },
  {
   "cell_type": "code",
   "execution_count": 2,
   "metadata": {
    "collapsed": false
   },
   "outputs": [
    {
     "name": "stdout",
     "output_type": "stream",
     "text": [
      "Loading data... \n"
     ]
    }
   ],
   "source": [
    "x,y= read_my_data(fname='../prepare_data/small_meth_feat_vect.csv')"
   ]
  },
  {
   "cell_type": "code",
   "execution_count": 3,
   "metadata": {
    "collapsed": true
   },
   "outputs": [],
   "source": [
    "def test_sklearn_model(model,train_x,train_y,test_x,test_y):\n",
    "    start=time.time()\n",
    "    model=model.fit(train_x,train_y)\n",
    "    print 'train score:',list((model.predict(train_x)==train_y)).count(True)/float(len(train_y))\n",
    "    print 'test score:',list((model.predict(test_x)==test_y)).count(True)/float(len(test_y))\n",
    "    print 'It took:',time.time()-start"
   ]
  },
  {
   "cell_type": "markdown",
   "metadata": {},
   "source": [
    "## AdaBoost\n",
    "\n",
    "- learning rate / n_estimators can be tuned\n",
    "- more estimators -> better result, and slower"
   ]
  },
  {
   "cell_type": "code",
   "execution_count": 5,
   "metadata": {
    "collapsed": false
   },
   "outputs": [
    {
     "name": "stdout",
     "output_type": "stream",
     "text": [
      "train score: 0.755\n",
      "test score: 0.6762\n",
      "It took: 29.1481819153\n"
     ]
    }
   ],
   "source": [
    "(train_x,train_y),(valid_x,valid_y),(test_x,test_y)= create_sets(\n",
    "    x,y,N_train=5000,N_valid=5000,N_test=5000,length=2000)\n",
    "\n",
    "adab = ensemble.AdaBoostClassifier(n_estimators=100)\n",
    "test_sklearn_model(adab,train_x,train_y,test_x,test_y)"
   ]
  },
  {
   "cell_type": "markdown",
   "metadata": {},
   "source": [
    "- It gets a bit better using more data"
   ]
  },
  {
   "cell_type": "code",
   "execution_count": 8,
   "metadata": {
    "collapsed": false
   },
   "outputs": [
    {
     "name": "stdout",
     "output_type": "stream",
     "text": [
      "train score: 0.7269\n",
      "test score: 0.7173\n",
      "It took: 865.866047859\n"
     ]
    }
   ],
   "source": [
    "(train_x,train_y),(valid_x,valid_y),(test_x,test_y)= create_sets(\n",
    "    x,y,N_train=80000,N_valid=0,N_test=10000,length=2000)\n",
    "\n",
    "adab = ensemble.AdaBoostClassifier(n_estimators=100)\n",
    "test_sklearn_model(adab,train_x,train_y,test_x,test_y)"
   ]
  },
  {
   "cell_type": "markdown",
   "metadata": {},
   "source": [
    "- Its already quite slow, but maybe I could test with more estimators"
   ]
  },
  {
   "cell_type": "code",
   "execution_count": 5,
   "metadata": {
    "collapsed": false
   },
   "outputs": [
    {
     "name": "stdout",
     "output_type": "stream",
     "text": [
      "train score: 0.764475\n",
      "test score: 0.7387\n",
      "It took: 4249.48041391\n"
     ]
    }
   ],
   "source": [
    "(train_x,train_y),(valid_x,valid_y),(test_x,test_y)= create_sets(\n",
    "    x,y,N_train=80000,N_valid=0,N_test=10000,length=2000)\n",
    "\n",
    "adab = ensemble.AdaBoostClassifier(n_estimators=1000)\n",
    "test_sklearn_model(adab,train_x,train_y,test_x,test_y)"
   ]
  },
  {
   "cell_type": "markdown",
   "metadata": {},
   "source": [
    "---\n",
    "\n",
    "## Random Forest\n",
    "\n",
    "- n_estimators can be tuned\n",
    "- the characteristics of the decision trees can be also tuned (min_samples_split)"
   ]
  },
  {
   "cell_type": "code",
   "execution_count": 7,
   "metadata": {
    "collapsed": false
   },
   "outputs": [
    {
     "name": "stdout",
     "output_type": "stream",
     "text": [
      "train score: 0.9148\n",
      "test score: 0.7228\n",
      "It took: 3.0368411541\n"
     ]
    }
   ],
   "source": [
    "(train_x,train_y),(valid_x,valid_y),(test_x,test_y)= create_sets(\n",
    "    x,y,N_train=5000,N_valid=5000,N_test=5000,length=2000)\n",
    "\n",
    "rf = ensemble.RandomForestClassifier(n_estimators=100,min_samples_split=100)\n",
    "test_sklearn_model(rf,train_x,train_y,test_x,test_y)"
   ]
  },
  {
   "cell_type": "markdown",
   "metadata": {},
   "source": [
    "- With more data it gets just a bit better"
   ]
  },
  {
   "cell_type": "code",
   "execution_count": 11,
   "metadata": {
    "collapsed": false
   },
   "outputs": [
    {
     "name": "stdout",
     "output_type": "stream",
     "text": [
      "train score: 0.8846\n",
      "test score: 0.7342\n",
      "It took: 73.8546850681\n"
     ]
    }
   ],
   "source": [
    "(train_x,train_y),(valid_x,valid_y),(test_x,test_y)= create_sets(\n",
    "    x,y,N_train=80000,N_valid=0,N_test=10000,length=2000)\n",
    "\n",
    "rf = ensemble.RandomForestClassifier(n_estimators=100,min_samples_split=100)\n",
    "test_sklearn_model(rf,train_x,train_y,test_x,test_y)"
   ]
  },
  {
   "cell_type": "markdown",
   "metadata": {},
   "source": [
    "- With more estimators it also get just a bit better"
   ]
  },
  {
   "cell_type": "code",
   "execution_count": 12,
   "metadata": {
    "collapsed": false
   },
   "outputs": [
    {
     "name": "stdout",
     "output_type": "stream",
     "text": [
      "train score: 0.89475\n",
      "test score: 0.7396\n",
      "It took: 736.874958992\n"
     ]
    }
   ],
   "source": [
    "(train_x,train_y),(valid_x,valid_y),(test_x,test_y)= create_sets(\n",
    "    x,y,N_train=80000,N_valid=0,N_test=10000,length=2000)\n",
    "\n",
    "rf = ensemble.RandomForestClassifier(n_estimators=1000,min_samples_split=100)\n",
    "test_sklearn_model(rf,train_x,train_y,test_x,test_y)"
   ]
  },
  {
   "cell_type": "markdown",
   "metadata": {},
   "source": [
    "---\n",
    "\n",
    "## Support vector machine\n",
    "\n",
    "- The ones before were robust against unnecessary dimesnions\n",
    "    - here the number of dimensions is too high\n",
    "        - i will try to feed it with smaller dimension (radius) data\n",
    "    \n",
    "\n",
    "- Note it's impossible to interrupt the python kernel when it's running"
   ]
  },
  {
   "cell_type": "markdown",
   "metadata": {},
   "source": [
    "##### Linear kernel\n",
    "- bad"
   ]
  },
  {
   "cell_type": "code",
   "execution_count": 13,
   "metadata": {
    "collapsed": false
   },
   "outputs": [
    {
     "name": "stdout",
     "output_type": "stream",
     "text": [
      "train score: 0.5778\n",
      "test score: 0.5154\n",
      "It took: 14.3908178806\n"
     ]
    }
   ],
   "source": [
    "(train_x,train_y),(valid_x,valid_y),(test_x,test_y)= create_sets(\n",
    "    x,y,N_train=5000,N_valid=5000,N_test=5000,length=100)\n",
    "\n",
    "lin_svm = svm.SVC(kernel='linear')\n",
    "test_sklearn_model(lin_svm,train_x,train_y,test_x,test_y)"
   ]
  },
  {
   "cell_type": "markdown",
   "metadata": {},
   "source": [
    "##### Polynomial kernel\n",
    "\n",
    "- A bit better"
   ]
  },
  {
   "cell_type": "code",
   "execution_count": 14,
   "metadata": {
    "collapsed": false
   },
   "outputs": [
    {
     "name": "stdout",
     "output_type": "stream",
     "text": [
      "train score: 0.742\n",
      "test score: 0.5692\n",
      "It took: 7.07050418854\n"
     ]
    }
   ],
   "source": [
    "(train_x,train_y),(valid_x,valid_y),(test_x,test_y)= create_sets(\n",
    "    x,y,N_train=5000,N_valid=5000,N_test=5000,length=100)\n",
    "\n",
    "poly_svm = svm.SVC(kernel='poly',C=0.01)\n",
    "test_sklearn_model(poly_svm,train_x,train_y,test_x,test_y)"
   ]
  },
  {
   "cell_type": "markdown",
   "metadata": {},
   "source": [
    "##### Radial base function kernel\n",
    "- Better\n",
    "- Learning rate can be tuned"
   ]
  },
  {
   "cell_type": "code",
   "execution_count": 15,
   "metadata": {
    "collapsed": false
   },
   "outputs": [
    {
     "name": "stdout",
     "output_type": "stream",
     "text": [
      "train score: 0.7242\n",
      "test score: 0.6774\n",
      "It took: 8.04712486267\n"
     ]
    }
   ],
   "source": [
    "(train_x,train_y),(valid_x,valid_y),(test_x,test_y)= create_sets(\n",
    "    x,y,N_train=5000,N_valid=5000,N_test=5000,length=100)\n",
    "\n",
    "rbf_svm = svm.SVC(kernel='rbf',C=0.1)\n",
    "test_sklearn_model(rbf_svm,train_x,train_y,test_x,test_y)"
   ]
  },
  {
   "cell_type": "markdown",
   "metadata": {},
   "source": [
    "- With more context it becomes a bit better (slower)"
   ]
  },
  {
   "cell_type": "code",
   "execution_count": 16,
   "metadata": {
    "collapsed": false
   },
   "outputs": [
    {
     "name": "stdout",
     "output_type": "stream",
     "text": [
      "train score: 0.8186\n",
      "test score: 0.7198\n",
      "It took: 25.9378929138\n"
     ]
    }
   ],
   "source": [
    "(train_x,train_y),(valid_x,valid_y),(test_x,test_y)= create_sets(\n",
    "    x,y,N_train=5000,N_valid=5000,N_test=5000,length=400)\n",
    "\n",
    "rbf_svm = svm.SVC(kernel='rbf',C=0.3)\n",
    "test_sklearn_model(rbf_svm,train_x,train_y,test_x,test_y)"
   ]
  },
  {
   "cell_type": "markdown",
   "metadata": {},
   "source": [
    "- With too long context it becomes worse !!"
   ]
  },
  {
   "cell_type": "code",
   "execution_count": 17,
   "metadata": {
    "collapsed": false
   },
   "outputs": [
    {
     "name": "stdout",
     "output_type": "stream",
     "text": [
      "train score: 0.8276\n",
      "test score: 0.6986\n",
      "It took: 138.221462011\n"
     ]
    }
   ],
   "source": [
    "(train_x,train_y),(valid_x,valid_y),(test_x,test_y)= create_sets(\n",
    "    x,y,N_train=5000,N_valid=5000,N_test=5000,length=2000)\n",
    "\n",
    "rbf_svm = svm.SVC(kernel='rbf',C=0.3)\n",
    "test_sklearn_model(rbf_svm,train_x,train_y,test_x,test_y)"
   ]
  },
  {
   "cell_type": "markdown",
   "metadata": {},
   "source": [
    "- With more data?"
   ]
  },
  {
   "cell_type": "code",
   "execution_count": 4,
   "metadata": {
    "collapsed": false
   },
   "outputs": [
    {
     "name": "stdout",
     "output_type": "stream",
     "text": [
      "train score: 0.78745\n",
      "test score: 0.7246\n",
      "It took: 4850.33963799\n"
     ]
    }
   ],
   "source": [
    "(train_x,train_y),(valid_x,valid_y),(test_x,test_y)= create_sets(\n",
    "    x,y,N_train=80000,N_valid=0,N_test=10000,length=400)\n",
    "\n",
    "rbf_svm = svm.SVC(kernel='rbf',C=0.3)\n",
    "test_sklearn_model(rbf_svm,train_x,train_y,test_x,test_y)"
   ]
  },
  {
   "cell_type": "markdown",
   "metadata": {},
   "source": [
    "---\n",
    "## Feature importance with Random Forest\n",
    "\n",
    "- Very strong asymmetry !"
   ]
  },
  {
   "cell_type": "code",
   "execution_count": 13,
   "metadata": {
    "collapsed": false
   },
   "outputs": [
    {
     "data": {
      "image/png": "[encoded data removed]",
      "text/plain": [
       "<matplotlib.figure.Figure at 0x7f25a03044d0>"
      ]
     },
     "metadata": {},
     "output_type": "display_data"
    }
   ],
   "source": [
    "(train_x,train_y),(valid_x,valid_y),(test_x,test_y)= create_sets(\n",
    "    x,y,N_train=80000,N_valid=0,N_test=0,length=2000)\n",
    "\n",
    "rf = ensemble.RandomForestClassifier(n_estimators=100,min_samples_split=100)\n",
    "model=rf.fit(train_x,train_y)\n",
    "feature_importance = model.feature_importances_\n",
    "\n",
    "# make importances relative to max importance\n",
    "feature_importance = 100.0 * (feature_importance / feature_importance.max())\n",
    "\n",
    "fig,ax=plt.subplots()\n",
    "fig.set_size_inches(12,9)\n",
    "ax.step(np.arange(len(feature_importance))-1000, feature_importance,lw=1,c='dodgerblue')\n",
    "ax.axvline(0,lw=2,linestyle='dashed',c='salmon',label='CpG position')\n",
    "ax.set_ylabel('realtive importance',fontsize=16)\n",
    "ax.set_xlabel('pos',fontsize=16)\n",
    "ax.set_xlim(-1000,1000)\n",
    "ax.legend(fontsize=16)\n",
    "dump=ax.set_title('position importance',fontsize=16)"
   ]
  }
 ],
 "metadata": {
  "kernelspec": {
   "display_name": "Python 2",
   "language": "python",
   "name": "python2"
  },
  "language_info": {
   "codemirror_mode": {
    "name": "ipython",
    "version": 2
   },
   "file_extension": ".py",
   "mimetype": "text/x-python",
   "name": "python",
   "nbconvert_exporter": "python",
   "pygments_lexer": "ipython2",
   "version": "2.7.11"
  }
 },
 "nbformat": 4,
 "nbformat_minor": 0
}
