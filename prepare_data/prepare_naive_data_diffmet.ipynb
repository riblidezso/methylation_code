{
 "cells": [
  {
   "cell_type": "markdown",
   "metadata": {},
   "source": [
    "# Prepare data with sequence context\n",
    "\n",
    "---\n",
    "\n",
    "\n",
    "\n",
    "## <span class=\"label label-success\"> Analysis </span>\n",
    "\n",
    "- Write sequence context csv files for naive prediction\n",
    "\n",
    "\n",
    "---\n",
    "\n",
    "## <span class=\"label label-warning\">NOTE</span>\n",
    "\n",
    "\n",
    "---"
   ]
  },
  {
   "cell_type": "code",
   "execution_count": 1,
   "metadata": {
    "collapsed": true
   },
   "outputs": [],
   "source": [
    "import pandas as pd\n",
    "import numpy as np\n",
    "import matplotlib.pyplot as plt\n",
    "%matplotlib inline\n",
    "\n",
    "from Bio import SeqIO\n",
    "from Bio.Seq import Seq\n",
    "\n",
    "import os\n",
    "import subprocess\n",
    "import time\n",
    "\n",
    "from IPython.core.display import Image \n",
    "from IPython.display import display\n",
    "\n",
    "import re"
   ]
  },
  {
   "cell_type": "code",
   "execution_count": 2,
   "metadata": {
    "collapsed": false
   },
   "outputs": [],
   "source": [
    "workdir='/nagyvinyok/adat84/sotejedlik/ribli/methylation_code/prepare_data'\n",
    "subprocess.call(['mkdir',workdir])\n",
    "os.chdir(workdir)\n",
    "os.environ['TMPDIR']='/nagyvinyok/adat84/sotejedlik/ribli/tmp'"
   ]
  },
  {
   "cell_type": "code",
   "execution_count": 3,
   "metadata": {
    "collapsed": true
   },
   "outputs": [],
   "source": [
    "#sql exetcuter func\n",
    "def run_sqlilte3(command,db,output=''):\n",
    "    start=time.time()\n",
    "    with open('tempf.sql','w') as tempf:\n",
    "        tempf.write(command)\n",
    "        \n",
    "    if output != '':\n",
    "        output=' > '+output\n",
    "    \n",
    "    try:\n",
    "        print subprocess.check_output('/usr/bin/sqlite3 '+ db + ' < tempf.sql '+ output,\n",
    "                                      shell=True, stderr=subprocess.STDOUT)\n",
    "    except subprocess.CalledProcessError, e:\n",
    "        print e.output\n",
    "    \n",
    "    subprocess.call(['rm','tempf.sql'])\n",
    "    print 'It took',int(time.time()-start),'s'"
   ]
  },
  {
   "cell_type": "markdown",
   "metadata": {},
   "source": [
    "### Select the differentially methylated islands\n",
    "- Limits: 0.1, 0.3"
   ]
  },
  {
   "cell_type": "code",
   "execution_count": 15,
   "metadata": {
    "collapsed": false
   },
   "outputs": [
    {
     "name": "stdout",
     "output_type": "stream",
     "text": [
      "\n",
      "It took 6 s\n"
     ]
    }
   ],
   "source": [
    "run_sqlilte3('''\n",
    ".separator \"\\t\"\n",
    ".load /home/ribli/tools/sqlite_math_ext/libsqlitefunctions\n",
    "\n",
    "WITH temp_table AS (\n",
    "    SELECT probe,mdiff\n",
    "    FROM meth_median_diff\n",
    "    WHERE abs(mdiff)>0.3 OR abs(mdiff)<0.1)\n",
    "    \n",
    "SELECT n.IlmnID,n.CHR,n.MAPINFO,n.Strand,m.mdiff\n",
    "FROM ncbi_450_annot AS n\n",
    "INNER JOIN temp_table AS m ON m.probe=n.IlmnID\n",
    "WHERE n.Relation_to_UCSC_CpG_Island='Island';\n",
    "\n",
    "''',db='../db/meth_db',output='diffmet_probes.csv')"
   ]
  },
  {
   "cell_type": "markdown",
   "metadata": {},
   "source": [
    "#### Load reference genome for sequence context printing"
   ]
  },
  {
   "cell_type": "code",
   "execution_count": 5,
   "metadata": {
    "collapsed": false
   },
   "outputs": [],
   "source": [
    "#load fasta file in one piece\n",
    "ref_dict=SeqIO.to_dict(SeqIO.parse(\n",
    "        '/home/ribli/input/Homo_sapiens.GRCh37.75.dna_sm.primary_assembly.fa',\"fasta\"))"
   ]
  },
  {
   "cell_type": "markdown",
   "metadata": {},
   "source": [
    "---\n",
    "\n",
    "## Create csv files to load for naive prediction\n",
    "\n",
    "\n",
    "Trying to create a large training set, than the not overlapping ones\n",
    "\n",
    "\n",
    "- test examples are not overlapping with train data\n",
    "- test examples can overlap with themselves\n",
    "- train examples can overlap with themselves\n",
    "\n",
    "\n",
    "Note: hard train,test sets! cannot be changed for cross validation"
   ]
  },
  {
   "cell_type": "code",
   "execution_count": 16,
   "metadata": {
    "collapsed": false
   },
   "outputs": [],
   "source": [
    "%%bash\n",
    "sort -nk2,2 -nk3,3 diffmet_probes.csv > diffmet_probes_sorted.csv"
   ]
  },
  {
   "cell_type": "markdown",
   "metadata": {},
   "source": [
    "#### Select a random subset for test"
   ]
  },
  {
   "cell_type": "code",
   "execution_count": 17,
   "metadata": {
    "collapsed": false
   },
   "outputs": [],
   "source": [
    "#select a random subset for train and validation\n",
    "N_test=500\n",
    "\n",
    "#set seed to make the selection reproducible\n",
    "rng=np.random.RandomState(42)\n",
    "\n",
    "#load data\n",
    "#\n",
    "# there is some weird thing going on with chr sometimes\n",
    "# integers sometimes characters, this is a workaround\n",
    "#\n",
    "all_probes=pd.read_csv('diffmet_probes_sorted.csv',sep='\\t',dtype=object)\n",
    "all_probes.columns=['id','chrom','pos','strand','diff']\n",
    "all_probes['pos']=np.int32(all_probes['pos'])\n",
    "all_probes['diff']=np.float32(all_probes['diff'])\n",
    "\n",
    "#shuffle it\n",
    "new_idx=rng.permutation(len(all_probes))\n",
    "all_probes=all_probes.iloc[new_idx,:].reset_index(drop=True)\n",
    "\n",
    "#select test probes\n",
    "test_meth_probes=all_probes[all_probes['diff']>=0.3][:N_test]\n",
    "test_nonmeth_probes=all_probes[all_probes['diff']<=-0.3][:N_test]\n",
    "\n",
    "#gather all selected probes\n",
    "test_probes=pd.concat([test_meth_probes,test_nonmeth_probes])"
   ]
  },
  {
   "cell_type": "markdown",
   "metadata": {},
   "source": [
    "#### Merge filter"
   ]
  },
  {
   "cell_type": "code",
   "execution_count": 18,
   "metadata": {
    "collapsed": false
   },
   "outputs": [
    {
     "name": "stdout",
     "output_type": "stream",
     "text": [
      "1 10 11 12 13 14 15 16 17 18 19 2 20 21 22 3 4 5 6 7 8 9 X Y\n"
     ]
    }
   ],
   "source": [
    "# merge filter\n",
    "window=500\n",
    "\n",
    "accepted_probes=[]\n",
    "\n",
    "# sort probes\n",
    "test_probes=test_probes.sort_values(['chrom','pos']).reset_index(drop=True)\n",
    "all_probes=all_probes.sort_values(['chrom','pos']).reset_index(drop=True)\n",
    "\n",
    "#loop over chroms\n",
    "for chrom in sorted(set(all_probes['chrom'])):\n",
    "    print chrom,\n",
    "    #get a smaller df, for the probes on the chrom\n",
    "    test_probes_tmp=test_probes[test_probes['chrom']==chrom].reset_index(drop=True)\n",
    "    all_probes_tmp=all_probes[all_probes['chrom']==chrom].reset_index(drop=True)\n",
    "    \n",
    "    #get positions of probes\n",
    "    test_probes_chr=list(test_probes_tmp['pos'])\n",
    "    all_probes_chr=list(all_probes_tmp['pos'])\n",
    "\n",
    "    #merge filter the probes\n",
    "    i,j=0,0\n",
    "    while(i <len(all_probes_chr) and j+2 < len(test_probes_chr)):\n",
    "        if (all_probes_chr[i] >= test_probes_chr[j+1]): #adfjust j\n",
    "            j+=1\n",
    "        #accept if used position are far enough\n",
    "        if (test_probes_chr[j] +window < all_probes_chr[i] and\n",
    "            test_probes_chr[j+1] -window > all_probes_chr[i] ):\n",
    "            accepted_probes.append(all_probes_tmp.loc[i,:])\n",
    "        i+=1"
   ]
  },
  {
   "cell_type": "code",
   "execution_count": 20,
   "metadata": {
    "collapsed": false
   },
   "outputs": [
    {
     "name": "stdout",
     "output_type": "stream",
     "text": [
      "3222 103696\n"
     ]
    }
   ],
   "source": [
    "accepted_probes=pd.DataFrame(accepted_probes)\n",
    "\n",
    "#shuffle it\n",
    "new_idx=rng.permutation(len(accepted_probes))\n",
    "accepted_probes=accepted_probes.iloc[new_idx,:].reset_index(drop=True)\n",
    "\n",
    "acc_m_probes=accepted_probes[accepted_probes['diff']>=0.3]\n",
    "acc_nm_probes=accepted_probes[accepted_probes['diff']<=0.1]\n",
    "\n",
    "print len(acc_m_probes),len(acc_nm_probes)"
   ]
  },
  {
   "cell_type": "markdown",
   "metadata": {},
   "source": [
    "#### Select a balanced set"
   ]
  },
  {
   "cell_type": "code",
   "execution_count": 23,
   "metadata": {
    "collapsed": false
   },
   "outputs": [],
   "source": [
    "#select equal n probes\n",
    "N=len(acc_m_probes)\n",
    "balanced_acc_pr=pd.concat([acc_m_probes[:N],acc_nm_probes[:N]])\n",
    "\n",
    "#shuffle it again\n",
    "new_idx=rng.permutation(len(balanced_acc_pr))\n",
    "balanced_acc_pr=balanced_acc_pr.iloc[new_idx,:].reset_index(drop=True)\n",
    "\n",
    "#gather and shuffle test too\n",
    "new_idx=rng.permutation(len(test_probes))\n",
    "test_probes=test_probes.iloc[new_idx,:].reset_index(drop=True)"
   ]
  },
  {
   "cell_type": "markdown",
   "metadata": {},
   "source": [
    "### Functions to create vector data"
   ]
  },
  {
   "cell_type": "code",
   "execution_count": 27,
   "metadata": {
    "collapsed": false
   },
   "outputs": [],
   "source": [
    "def probe_to_csv(input_df,output_fname,ref_dict,plus=100,minus=100):\n",
    "    \"\"\"\n",
    "    Create relatively small csv files from pandas df of probes.\n",
    "    \n",
    "    Used in naive prediction as feauture vectors.\n",
    "    \"\"\"\n",
    "\n",
    "    with open(output_fname,'w') as out_f:\n",
    "        for i in xrange(len(input_df)):\n",
    "            try:\n",
    "                out_f.write(make_naive_line(input_df.iloc[i,:],ref_dict))\n",
    "            except ValueError,e:\n",
    "                pass\n",
    "                \n",
    "def make_naive_line(line,ref_dict):\n",
    "    \"\"\"Transform annotation line into naive feature vector line.\"\"\"\n",
    "    probe_id,chrom,pos,strand,beta=line\n",
    "\n",
    "    #check if the middle is CG \n",
    "    cpg1=str(ref_dict[chrom].seq[pos-1])\n",
    "    cpg2=str(ref_dict[chrom].seq[pos])\n",
    "    \n",
    "    if ((cpg1!='c' and cpg1!='C') or (cpg2!='g' and cpg2!='G')) :\n",
    "        raise ValueError('its no cpg position')\n",
    "\n",
    "    #seq depending on strand\n",
    "    if strand==\"F\":\n",
    "        out_line = '\\t'.join([probe_id]+map(base_to_num,ref_dict[chrom].seq[\n",
    "                        pos-minus:pos+plus]))\n",
    "    elif strand==\"R\":\n",
    "        out_line = '\\t'.join([probe_id]+map(base_to_num,ref_dict[chrom].seq[\n",
    "                        pos-plus:pos+minus].reverse_complement()))\n",
    "        \n",
    "    #label depending on met\n",
    "    if beta <=0.1:\n",
    "        out_line+='\\t0\\n'\n",
    "    elif beta >=0.3:\n",
    "        out_line+='\\t1\\n'\n",
    "    else:\n",
    "        raise Exception # bad methylation value\n",
    "        \n",
    "    return out_line\n",
    "                \n",
    "\n",
    "def base_to_num(base):\n",
    "    \"\"\"\n",
    "    Return a small unique number for each base.\n",
    "    \n",
    "    Doing this to turn categorical data into numeric ones.\n",
    "    Should be checked, if the choice of order makes difference!\n",
    "    \n",
    "    \"\"\"\n",
    "\n",
    "    if (base =='a' or base=='A'):\n",
    "        return '1'\n",
    "    if (base =='c' or base=='C'):\n",
    "        return '2'\n",
    "    if (base =='g' or base=='G'):\n",
    "        return '3'\n",
    "    if (base =='t' or base=='T'):\n",
    "        return '4'\n",
    "    else:\n",
    "        raise ValueError('strange base in reference genom')"
   ]
  },
  {
   "cell_type": "code",
   "execution_count": 28,
   "metadata": {
    "collapsed": false
   },
   "outputs": [],
   "source": [
    "plus,minus=500,500\n",
    "probe_to_csv(balanced_acc_pr,'diffmet_train_feat_vect.csv',ref_dict,plus=plus,minus=minus)\n",
    "probe_to_csv(test_probes,'diffmet_test_feat_vect.csv',ref_dict,plus=plus,minus=minus)"
   ]
  }
 ],
 "metadata": {
  "kernelspec": {
   "display_name": "Python 2",
   "language": "python",
   "name": "python2"
  },
  "language_info": {
   "codemirror_mode": {
    "name": "ipython",
    "version": 2
   },
   "file_extension": ".py",
   "mimetype": "text/x-python",
   "name": "python",
   "nbconvert_exporter": "python",
   "pygments_lexer": "ipython2",
   "version": "2.7.9"
  }
 },
 "nbformat": 4,
 "nbformat_minor": 0
}
