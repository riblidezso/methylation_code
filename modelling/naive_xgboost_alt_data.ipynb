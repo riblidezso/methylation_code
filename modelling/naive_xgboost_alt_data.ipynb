{
 "cells": [
  {
   "cell_type": "markdown",
   "metadata": {},
   "source": [
    "# Very naive learning on the vector of surrounding bases with xgboost\n",
    "\n",
    "---\n",
    "\n",
    "\n",
    "### Data\n",
    "\n",
    "Naive feature vectors. The original sequence of validation/test and train data does not overlap! ( but train data points can overlap with train data points, and test-validation can overlap with test-validation data ) This overlapping does not lead to unintentional label leakage!\n",
    "\n",
    "\n",
    "\n",
    "### Analysis\n",
    "\n",
    "I will try to naively predict the mehtylation value (0,1) based on naive sequence context feauture vectors.\n",
    "\n",
    "I will use xgboost, a sophisticated library for gradient boosting, which is used to win many kaggle competitions.\n",
    "    \n",
    "\n",
    "\n",
    "\n",
    "### Conlcusions\n",
    "\n",
    "---"
   ]
  },
  {
   "cell_type": "code",
   "execution_count": 1,
   "metadata": {
    "collapsed": false
   },
   "outputs": [],
   "source": [
    "import numpy as np\n",
    "import time\n",
    "import xgboost as xgb\n",
    "\n",
    "import sys\n",
    "sys.path.append('../my_modules/')\n",
    "from loading_utils import read_my_data,create_sets\n",
    "\n",
    "import os,subprocess\n",
    "workdir='/nagyvinyok/adat84/sotejedlik/ribli/methylation_code/modelling'\n",
    "subprocess.call(['mkdir',workdir])\n",
    "os.chdir(workdir)"
   ]
  },
  {
   "cell_type": "markdown",
   "metadata": {},
   "source": [
    "### Load data"
   ]
  },
  {
   "cell_type": "code",
   "execution_count": 2,
   "metadata": {
    "collapsed": false
   },
   "outputs": [
    {
     "name": "stdout",
     "output_type": "stream",
     "text": [
      "Loading data... \n",
      "Loading data... \n",
      "Loading data... \n"
     ]
    }
   ],
   "source": [
    "train_x,train_y = read_my_data(fname='../prepare_data/big_train_feat_vect.csv')\n",
    "valid_x,valid_y = read_my_data(fname='../prepare_data/big_val_feat_vect.csv')\n",
    "test_x,test_y = read_my_data(fname='../prepare_data/big_test_feat_vect.csv')"
   ]
  },
  {
   "cell_type": "markdown",
   "metadata": {},
   "source": [
    "#### Create xgboost matrices"
   ]
  },
  {
   "cell_type": "code",
   "execution_count": 3,
   "metadata": {
    "collapsed": false
   },
   "outputs": [],
   "source": [
    "dtrain = xgb.DMatrix( train_x, label=train_y)\n",
    "dvalid = xgb.DMatrix( valid_x, label=valid_y)\n",
    "dtest = xgb.DMatrix( test_x, label=test_y)"
   ]
  },
  {
   "cell_type": "markdown",
   "metadata": {},
   "source": [
    "### With modest overfitting"
   ]
  },
  {
   "cell_type": "code",
   "execution_count": 6,
   "metadata": {
    "collapsed": false,
    "scrolled": false
   },
   "outputs": [
    {
     "name": "stderr",
     "output_type": "stream",
     "text": [
      "Will train until eval error hasn't decreased in 100 rounds.\n",
      "[0]\ttrain-error:0.416017\teval-error:0.418700\n",
      "[50]\ttrain-error:0.244564\teval-error:0.258850\n",
      "[100]\ttrain-error:0.228000\teval-error:0.246650\n",
      "[150]\ttrain-error:0.220255\teval-error:0.239300\n",
      "[200]\ttrain-error:0.214027\teval-error:0.235750\n",
      "[250]\ttrain-error:0.207472\teval-error:0.231900\n",
      "[300]\ttrain-error:0.200959\teval-error:0.229350\n",
      "[350]\ttrain-error:0.194681\teval-error:0.226050\n",
      "[400]\ttrain-error:0.187773\teval-error:0.221900\n",
      "[450]\ttrain-error:0.181763\teval-error:0.219450\n",
      "[500]\ttrain-error:0.175074\teval-error:0.212650\n",
      "[550]\ttrain-error:0.168980\teval-error:0.209200\n",
      "[600]\ttrain-error:0.163431\teval-error:0.205800\n",
      "[650]\ttrain-error:0.157438\teval-error:0.202850\n",
      "[700]\ttrain-error:0.151922\teval-error:0.199350\n",
      "[750]\ttrain-error:0.146331\teval-error:0.197150\n",
      "[800]\ttrain-error:0.140597\teval-error:0.194350\n",
      "[850]\ttrain-error:0.135459\teval-error:0.192700\n",
      "[900]\ttrain-error:0.131603\teval-error:0.189800\n",
      "[950]\ttrain-error:0.127563\teval-error:0.188400\n",
      "[1000]\ttrain-error:0.123053\teval-error:0.186000\n",
      "[1050]\ttrain-error:0.119055\teval-error:0.185400\n",
      "[1100]\ttrain-error:0.114662\teval-error:0.184750\n",
      "[1150]\ttrain-error:0.111309\teval-error:0.183550\n",
      "[1200]\ttrain-error:0.107881\teval-error:0.182800\n",
      "[1250]\ttrain-error:0.104235\teval-error:0.182200\n",
      "[1300]\ttrain-error:0.100899\teval-error:0.179550\n",
      "[1350]\ttrain-error:0.097420\teval-error:0.178250\n",
      "[1400]\ttrain-error:0.093983\teval-error:0.177200\n",
      "[1450]\ttrain-error:0.091142\teval-error:0.175150\n",
      "[1500]\ttrain-error:0.088727\teval-error:0.175100\n",
      "[1550]\ttrain-error:0.085416\teval-error:0.173300\n",
      "[1600]\ttrain-error:0.082231\teval-error:0.172150\n",
      "[1650]\ttrain-error:0.079708\teval-error:0.172700\n",
      "Stopping. Best iteration:\n",
      "[1598]\ttrain-error:0.082491\teval-error:0.171700\n",
      "\n"
     ]
    }
   ],
   "source": [
    "param = {'max_depth':4,\n",
    "         'eta':0.1,\n",
    "         'min_child_weight':50,\n",
    "         'colsample_bytree':0.8,\n",
    "         'subsample':0.6,\n",
    "         'silent':1,\n",
    "         'objective': \"binary:logistic\",\n",
    "         'eval_metric': 'error',\n",
    "         'nthread':8}\n",
    "\n",
    "evallist  = [(dtrain,'train'),(dvalid,'eval')]\n",
    "\n",
    "#train\n",
    "num_round = 2000\n",
    "bst = xgb.train(param,\n",
    "                dtrain,\n",
    "                evals=evallist,\n",
    "                num_boost_round=num_round,\n",
    "                early_stopping_rounds=100,\n",
    "                verbose_eval=50)"
   ]
  },
  {
   "cell_type": "markdown",
   "metadata": {},
   "source": [
    "#### Final scores"
   ]
  },
  {
   "cell_type": "code",
   "execution_count": 7,
   "metadata": {
    "collapsed": false
   },
   "outputs": [
    {
     "name": "stdout",
     "output_type": "stream",
     "text": [
      "train score: 0.92290734128\n",
      "validation score: 0.8273\n",
      "test score: 0.83615\n"
     ]
    }
   ],
   "source": [
    "print 'train score:',list(map(round,bst.predict(dtrain))==train_y).count(True)/float(len(train_y))\n",
    "print 'validation score:',list(map(round,bst.predict(dvalid))==valid_y).count(True)/float(len(valid_y))\n",
    "print 'test score:',list(map(round,bst.predict(dtest))==test_y).count(True)/float(len(test_y))"
   ]
  }
 ],
 "metadata": {
  "kernelspec": {
   "display_name": "Python 2",
   "language": "python",
   "name": "python2"
  },
  "language_info": {
   "codemirror_mode": {
    "name": "ipython",
    "version": 2
   },
   "file_extension": ".py",
   "mimetype": "text/x-python",
   "name": "python",
   "nbconvert_exporter": "python",
   "pygments_lexer": "ipython2",
   "version": "2.7.11"
  }
 },
 "nbformat": 4,
 "nbformat_minor": 0
}
