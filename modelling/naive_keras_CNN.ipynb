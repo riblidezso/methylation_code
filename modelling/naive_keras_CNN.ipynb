{
 "cells": [
  {
   "cell_type": "markdown",
   "metadata": {},
   "source": [
    "# Very naive deep learning on the vector of surrounding bases\n",
    "\n",
    "---\n",
    "\n",
    "### Data\n",
    "\n",
    "Naive feature vectors. The original sequence of validation/test and train data does not overlap! ( but train data points can overlap with train data points, and test-validation can overlap with test-validation data ) This overlapping does not lead to unintentional label leakage!\n",
    "\n",
    "\n",
    "\n",
    "### Notes\n",
    "\n",
    "\n",
    "---"
   ]
  },
  {
   "cell_type": "markdown",
   "metadata": {},
   "source": [
    "Instruct theano to use gpu"
   ]
  },
  {
   "cell_type": "code",
   "execution_count": 1,
   "metadata": {
    "collapsed": false
   },
   "outputs": [
    {
     "name": "stderr",
     "output_type": "stream",
     "text": [
      "Using gpu device 0: GeForce GTX 670 (CNMeM is disabled, CuDNN not available)\n"
     ]
    }
   ],
   "source": [
    "import os\n",
    "os.environ['THEANO_FLAGS']='device=gpu'\n",
    "\n",
    "import sys\n",
    "sys.path.append('../my_modules')\n",
    "from loading_utils import read_my_data\n",
    "\n",
    "import subprocess\n",
    "import time\n",
    "\n",
    "import os,subprocess\n",
    "workdir='/mnt/Data1/ribli/methylation_code/modelling'\n",
    "subprocess.call(['mkdir',workdir])\n",
    "os.chdir(workdir)"
   ]
  },
  {
   "cell_type": "markdown",
   "metadata": {},
   "source": [
    "### Load data"
   ]
  },
  {
   "cell_type": "code",
   "execution_count": 2,
   "metadata": {
    "collapsed": false
   },
   "outputs": [
    {
     "name": "stdout",
     "output_type": "stream",
     "text": [
      "Loading data... \n",
      "Loading data... \n",
      "Loading data... \n"
     ]
    }
   ],
   "source": [
    "_,train_x,train_y = read_my_data(\n",
    "    fname='../prepare_data/big_train_feat_vect.csv')\n",
    "_,valid_x,valid_y = read_my_data(\n",
    "    fname='../prepare_data/big_val_feat_vect.csv')\n",
    "test_id,test_x,test_y = read_my_data(\n",
    "    fname='../prepare_data/big_test_feat_vect.csv')\n",
    "\n",
    "#make it image like\n",
    "train_x,valid_x,test_x=[x.reshape((-1,1,1000,1)) for x in (train_x,valid_x,test_x)]"
   ]
  },
  {
   "cell_type": "markdown",
   "metadata": {},
   "source": [
    "### Build Convnet"
   ]
  },
  {
   "cell_type": "code",
   "execution_count": 3,
   "metadata": {
    "collapsed": false
   },
   "outputs": [
    {
     "name": "stderr",
     "output_type": "stream",
     "text": [
      "Using Theano backend.\n",
      "/mnt/Data1/ribli/tools/anaconda/lib/python2.7/site-packages/theano/tensor/signal/downsample.py:5: UserWarning: downsample module has been moved to the pool module.\n",
      "  warnings.warn(\"downsample module has been moved to the pool module.\")\n"
     ]
    }
   ],
   "source": [
    "from keras.models import Sequential\n",
    "from keras.layers import Dense, Dropout, Activation, Flatten\n",
    "from keras.layers import Convolution2D,MaxPooling2D\n",
    "\n",
    "input_dim=train_x.shape[2]\n",
    "activation='relu'\n",
    "loss='binary_crossentropy'\n",
    "optimizer='adadelta'\n",
    "init='uniform'\n",
    "pool_size=(8,1)\n",
    "window_size=5\n",
    "dense_n=64\n",
    "\n",
    "model = Sequential()\n",
    "\n",
    "#Convolution layer 1\n",
    "model.add(Convolution2D(20,window_size,1, border_mode='valid',input_shape=(1,input_dim,1)))\n",
    "model.add(Activation('relu'))\n",
    "model.add(MaxPooling2D(pool_size=pool_size))\n",
    "#model.add(Dropout(0.25))\n",
    "\n",
    "#Convolution layer 2\n",
    "model.add(Convolution2D(50,window_size,1, border_mode='valid'))\n",
    "model.add(Activation('relu'))\n",
    "model.add(MaxPooling2D(pool_size=pool_size))\n",
    "#model.add(Dropout(0.25))\n",
    "\n",
    "#Dense layer\n",
    "model.add(Flatten())\n",
    "model.add(Dense(dense_n,activation=activation))\n",
    "#model.add(Dropout(0.5))\n",
    "\n",
    "#final layer\n",
    "model.add(Dense(1, activation='sigmoid'))\n",
    "\n",
    "#compile model\n",
    "model.compile(loss=loss,optimizer=optimizer,class_mode='binary')"
   ]
  },
  {
   "cell_type": "markdown",
   "metadata": {},
   "source": [
    "### Train test model"
   ]
  },
  {
   "cell_type": "code",
   "execution_count": 6,
   "metadata": {
    "collapsed": false
   },
   "outputs": [],
   "source": [
    "from keras.callbacks import ModelCheckpoint,EarlyStopping\n",
    "\n",
    "def fit_keras_model(model,train_x,train_y,test_x,test_y):\n",
    "    start=time.time()\n",
    "    \n",
    "    #callbacks\n",
    "    best_model=ModelCheckpoint('best_model',save_best_only=True,verbose=1)\n",
    "    early_stop=EarlyStopping(patience=3,verbose=1)\n",
    "    \n",
    "    #train it\n",
    "    callb_hist=model.fit(train_x,train_y,nb_epoch = 100,\n",
    "                         show_accuracy=True,verbose=1,\n",
    "                        validation_split=0.1,\n",
    "                        callbacks=[best_model,early_stop])\n",
    "    #predict\n",
    "    train_pred=model.predict_classes(train_x).ravel()\n",
    "    test_pred=model.predict_classes(test_x).ravel()\n",
    "\n",
    "    #check errors\n",
    "    print 'train score:',list((train_pred==train_y)).count(True)/float(len(train_y))\n",
    "    print 'test score:',list((test_pred==test_y)).count(True)/float(len(test_y))\n",
    "\n",
    "    print 'It took:',time.time()-start    \n",
    "    return train_pred,test_pred"
   ]
  },
  {
   "cell_type": "code",
   "execution_count": 7,
   "metadata": {
    "collapsed": false
   },
   "outputs": [
    {
     "name": "stdout",
     "output_type": "stream",
     "text": [
      "Train on 106200 samples, validate on 11800 samples\n",
      "Epoch 1/100\n",
      "106200/106200 [==============================] - 42s - loss: 0.4884 - acc: 0.7703 - val_loss: 0.4641 - val_acc: 0.7881\n",
      "Epoch 00000: val_loss improved from inf to 0.46414, saving model to best_model\n",
      "Epoch 2/100\n",
      "106200/106200 [==============================] - 42s - loss: 0.4514 - acc: 0.7958 - val_loss: 0.4303 - val_acc: 0.8108\n",
      "Epoch 00001: val_loss improved from 0.46414 to 0.43029, saving model to best_model\n",
      "Epoch 3/100\n",
      "106200/106200 [==============================] - 42s - loss: 0.4272 - acc: 0.8109 - val_loss: 0.4169 - val_acc: 0.8203\n",
      "Epoch 00002: val_loss improved from 0.43029 to 0.41694, saving model to best_model\n",
      "Epoch 4/100\n",
      "106200/106200 [==============================] - 42s - loss: 0.4116 - acc: 0.8212 - val_loss: 0.4028 - val_acc: 0.8305\n",
      "Epoch 00003: val_loss improved from 0.41694 to 0.40283, saving model to best_model\n",
      "Epoch 5/100\n",
      "106200/106200 [==============================] - 42s - loss: 0.3987 - acc: 0.8282 - val_loss: 0.4122 - val_acc: 0.8250\n",
      "Epoch 00004: val_loss did not improve\n",
      "Epoch 6/100\n",
      "106200/106200 [==============================] - 42s - loss: 0.3924 - acc: 0.8322 - val_loss: 0.3793 - val_acc: 0.8402\n",
      "Epoch 00005: val_loss improved from 0.40283 to 0.37928, saving model to best_model\n",
      "Epoch 7/100\n",
      "106200/106200 [==============================] - 42s - loss: 0.3829 - acc: 0.8383 - val_loss: 0.4258 - val_acc: 0.8147\n",
      "Epoch 00006: val_loss did not improve\n",
      "Epoch 8/100\n",
      "106200/106200 [==============================] - 42s - loss: 0.3763 - acc: 0.8408 - val_loss: 0.3797 - val_acc: 0.8408\n",
      "Epoch 00007: val_loss did not improve\n",
      "Epoch 9/100\n",
      "106200/106200 [==============================] - 42s - loss: 0.3680 - acc: 0.8458 - val_loss: 0.3677 - val_acc: 0.8492\n",
      "Epoch 00008: val_loss improved from 0.37928 to 0.36767, saving model to best_model\n",
      "Epoch 10/100\n",
      "106200/106200 [==============================] - 42s - loss: 0.3601 - acc: 0.8504 - val_loss: 0.4146 - val_acc: 0.8179\n",
      "Epoch 00009: val_loss did not improve\n",
      "Epoch 11/100\n",
      "106200/106200 [==============================] - 42s - loss: 0.3530 - acc: 0.8534 - val_loss: 0.3618 - val_acc: 0.8523\n",
      "Epoch 00010: val_loss improved from 0.36767 to 0.36177, saving model to best_model\n",
      "Epoch 12/100\n",
      "106200/106200 [==============================] - 42s - loss: 0.3450 - acc: 0.8574 - val_loss: 0.3718 - val_acc: 0.8485\n",
      "Epoch 00011: val_loss did not improve\n",
      "Epoch 13/100\n",
      "106200/106200 [==============================] - 42s - loss: 0.3384 - acc: 0.8598 - val_loss: 0.3691 - val_acc: 0.8492\n",
      "Epoch 00012: val_loss did not improve\n",
      "Epoch 14/100\n",
      "106200/106200 [==============================] - 42s - loss: 0.3278 - acc: 0.8657 - val_loss: 0.4042 - val_acc: 0.8351\n",
      "Epoch 00013: val_loss did not improve\n",
      "Epoch 15/100\n",
      "106200/106200 [==============================] - 42s - loss: 0.3190 - acc: 0.8674 - val_loss: 0.3757 - val_acc: 0.8502\n",
      "Epoch 00014: val_loss did not improve\n",
      "Epoch 00014: early stopping\n",
      "118000/118000 [==============================] - 20s    \n",
      "10000/10000 [==============================] - 1s     \n",
      "train score: 0.873711864407\n",
      "test score: 0.8629\n",
      "It took: 662.591223001\n"
     ]
    }
   ],
   "source": [
    "N_train,N_test=118000,10000\n",
    "train_pred,test_pred=fit_keras_model(\n",
    "    model,train_x[:N_train],train_y[:N_train],test_x[:N_test],test_y[:N_test])"
   ]
  },
  {
   "cell_type": "markdown",
   "metadata": {},
   "source": [
    "### Save test predictions"
   ]
  },
  {
   "cell_type": "code",
   "execution_count": 8,
   "metadata": {
    "collapsed": false
   },
   "outputs": [
    {
     "name": "stdout",
     "output_type": "stream",
     "text": [
      "20000/20000 [==============================] - 3s     \n"
     ]
    },
    {
     "data": {
      "text/html": [
       "<div>\n",
       "<table border=\"1\" class=\"dataframe\">\n",
       "  <thead>\n",
       "    <tr style=\"text-align: right;\">\n",
       "      <th></th>\n",
       "      <th>id</th>\n",
       "      <th>label</th>\n",
       "      <th>prediction</th>\n",
       "      <th>error</th>\n",
       "    </tr>\n",
       "  </thead>\n",
       "  <tbody>\n",
       "    <tr>\n",
       "      <th>0</th>\n",
       "      <td>cg19752143</td>\n",
       "      <td>1</td>\n",
       "      <td>1</td>\n",
       "      <td>0</td>\n",
       "    </tr>\n",
       "    <tr>\n",
       "      <th>1</th>\n",
       "      <td>cg05219517</td>\n",
       "      <td>0</td>\n",
       "      <td>0</td>\n",
       "      <td>0</td>\n",
       "    </tr>\n",
       "    <tr>\n",
       "      <th>2</th>\n",
       "      <td>cg05218696</td>\n",
       "      <td>1</td>\n",
       "      <td>1</td>\n",
       "      <td>0</td>\n",
       "    </tr>\n",
       "    <tr>\n",
       "      <th>3</th>\n",
       "      <td>cg09329621</td>\n",
       "      <td>1</td>\n",
       "      <td>1</td>\n",
       "      <td>0</td>\n",
       "    </tr>\n",
       "    <tr>\n",
       "      <th>4</th>\n",
       "      <td>cg17608706</td>\n",
       "      <td>1</td>\n",
       "      <td>0</td>\n",
       "      <td>1</td>\n",
       "    </tr>\n",
       "  </tbody>\n",
       "</table>\n",
       "</div>"
      ],
      "text/plain": [
       "           id  label  prediction  error\n",
       "0  cg19752143      1           1      0\n",
       "1  cg05219517      0           0      0\n",
       "2  cg05218696      1           1      0\n",
       "3  cg09329621      1           1      0\n",
       "4  cg17608706      1           0      1"
      ]
     },
     "execution_count": 8,
     "metadata": {},
     "output_type": "execute_result"
    }
   ],
   "source": [
    "#oad best model\n",
    "model.load_weights('best_model')\n",
    "test_pred=model.predict_classes(test_x).ravel()\n",
    "\n",
    "import pandas as pd\n",
    "import numpy as np\n",
    "result=pd.DataFrame({'id':test_id,'label':test_y,'prediction':test_pred})\n",
    "result['error']=np.abs(result['label']-result['prediction'])\n",
    "result.head()"
   ]
  },
  {
   "cell_type": "code",
   "execution_count": 9,
   "metadata": {
    "collapsed": true
   },
   "outputs": [],
   "source": [
    "result.to_csv('cnn_test_preds.csv',sep='\\t',index=False,Header=True)"
   ]
  }
 ],
 "metadata": {
  "kernelspec": {
   "display_name": "Python 2",
   "language": "python",
   "name": "python2"
  },
  "language_info": {
   "codemirror_mode": {
    "name": "ipython",
    "version": 2
   },
   "file_extension": ".py",
   "mimetype": "text/x-python",
   "name": "python",
   "nbconvert_exporter": "python",
   "pygments_lexer": "ipython2",
   "version": "2.7.11"
  }
 },
 "nbformat": 4,
 "nbformat_minor": 0
}
