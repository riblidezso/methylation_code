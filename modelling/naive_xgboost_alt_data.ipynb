{
 "cells": [
  {
   "cell_type": "markdown",
   "metadata": {},
   "source": [
    "# Very naive learning on the vector of surrounding bases with xgboost\n",
    "\n",
    "---\n",
    "\n",
    "\n",
    "### Data\n",
    "\n",
    "Naive feature vectors. The original sequence of validation/test and train data does not overlap! ( but train data points can overlap with train data points, and test-validation can overlap with test-validation data ) This overlapping does not lead to unintentional label leakage!\n",
    "\n",
    "\n",
    "\n",
    "### Analysis\n",
    "\n",
    "I will try to naively predict the mehtylation value (0,1) based on naive sequence context feauture vectors.\n",
    "\n",
    "I will use xgboost, a sophisticated library for gradient boosting, which is used to win many kaggle competitions.\n",
    "    \n",
    "\n",
    "\n",
    "\n",
    "### Conlcusions\n",
    "\n",
    "---"
   ]
  },
  {
   "cell_type": "code",
   "execution_count": 1,
   "metadata": {
    "collapsed": false
   },
   "outputs": [],
   "source": [
    "import numpy as np\n",
    "import time\n",
    "import xgboost as xgb\n",
    "\n",
    "import sys\n",
    "sys.path.append('../my_modules/')\n",
    "from loading_utils import read_my_data,create_sets\n",
    "\n",
    "import os,subprocess\n",
    "workdir='/nagyvinyok/adat84/sotejedlik/ribli/methylation_code/modelling'\n",
    "subprocess.call(['mkdir',workdir])\n",
    "os.chdir(workdir)"
   ]
  },
  {
   "cell_type": "markdown",
   "metadata": {},
   "source": [
    "### Load data"
   ]
  },
  {
   "cell_type": "code",
   "execution_count": 2,
   "metadata": {
    "collapsed": false
   },
   "outputs": [
    {
     "name": "stdout",
     "output_type": "stream",
     "text": [
      "Loading data... \n",
      "Loading data... \n"
     ]
    }
   ],
   "source": [
    "_,train_x,train_y = read_my_data(fname='../prepare_data/big_train_feat_vect.csv')\n",
    "train_id,test_x,test_y = read_my_data(fname='../prepare_data/big_test_feat_vect.csv')"
   ]
  },
  {
   "cell_type": "code",
   "execution_count": 3,
   "metadata": {
    "collapsed": true
   },
   "outputs": [],
   "source": [
    "N_val=20000\n",
    "valid_x,valid_y=train_x[-N_val:],train_y[-N_val:]\n",
    "train_x,train_y=train_x[:-N_val],train_y[:-N_val]"
   ]
  },
  {
   "cell_type": "markdown",
   "metadata": {},
   "source": [
    "#### Create xgboost matrices"
   ]
  },
  {
   "cell_type": "code",
   "execution_count": 4,
   "metadata": {
    "collapsed": false
   },
   "outputs": [],
   "source": [
    "dtrain = xgb.DMatrix( train_x, label=train_y)\n",
    "dvalid = xgb.DMatrix( valid_x, label=valid_y)\n",
    "dtest = xgb.DMatrix( test_x, label=test_y)"
   ]
  },
  {
   "cell_type": "markdown",
   "metadata": {},
   "source": [
    "### Train"
   ]
  },
  {
   "cell_type": "code",
   "execution_count": 5,
   "metadata": {
    "collapsed": false,
    "scrolled": false
   },
   "outputs": [
    {
     "name": "stderr",
     "output_type": "stream",
     "text": [
      "Will train until eval error hasn't decreased in 100 rounds.\n",
      "[0]\ttrain-error:0.411038\teval-error:0.413050\n",
      "[50]\ttrain-error:0.245622\teval-error:0.248750\n",
      "[100]\ttrain-error:0.228572\teval-error:0.234400\n",
      "[150]\ttrain-error:0.220570\teval-error:0.228200\n",
      "[200]\ttrain-error:0.215510\teval-error:0.224450\n",
      "[250]\ttrain-error:0.208218\teval-error:0.216450\n",
      "[300]\ttrain-error:0.201557\teval-error:0.210950\n",
      "[350]\ttrain-error:0.193375\teval-error:0.205200\n",
      "[400]\ttrain-error:0.186122\teval-error:0.198550\n",
      "[450]\ttrain-error:0.179481\teval-error:0.194600\n",
      "[500]\ttrain-error:0.172487\teval-error:0.188550\n",
      "[550]\ttrain-error:0.165895\teval-error:0.181900\n",
      "[600]\ttrain-error:0.159259\teval-error:0.176950\n",
      "[650]\ttrain-error:0.153734\teval-error:0.171750\n",
      "[700]\ttrain-error:0.148752\teval-error:0.166950\n",
      "[750]\ttrain-error:0.143383\teval-error:0.163050\n",
      "[800]\ttrain-error:0.138758\teval-error:0.159900\n",
      "[850]\ttrain-error:0.133840\teval-error:0.156700\n",
      "[900]\ttrain-error:0.130238\teval-error:0.154000\n",
      "[950]\ttrain-error:0.126460\teval-error:0.152350\n",
      "[1000]\ttrain-error:0.122902\teval-error:0.149450\n",
      "[1050]\ttrain-error:0.119417\teval-error:0.146750\n",
      "[1100]\ttrain-error:0.115703\teval-error:0.145300\n",
      "[1150]\ttrain-error:0.112825\teval-error:0.143550\n",
      "[1200]\ttrain-error:0.109952\teval-error:0.140750\n",
      "[1250]\ttrain-error:0.107182\teval-error:0.139600\n",
      "[1300]\ttrain-error:0.104486\teval-error:0.138300\n",
      "[1350]\ttrain-error:0.102102\teval-error:0.136850\n",
      "[1400]\ttrain-error:0.099553\teval-error:0.135500\n",
      "[1450]\ttrain-error:0.097595\teval-error:0.134500\n",
      "[1500]\ttrain-error:0.095662\teval-error:0.132750\n",
      "[1550]\ttrain-error:0.093538\teval-error:0.131550\n",
      "[1600]\ttrain-error:0.091116\teval-error:0.131700\n",
      "[1650]\ttrain-error:0.089182\teval-error:0.130950\n",
      "[1700]\ttrain-error:0.087142\teval-error:0.129550\n",
      "[1750]\ttrain-error:0.085174\teval-error:0.128700\n",
      "[1800]\ttrain-error:0.083437\teval-error:0.128100\n",
      "[1850]\ttrain-error:0.082052\teval-error:0.128150\n",
      "[1900]\ttrain-error:0.080403\teval-error:0.127800\n",
      "[1950]\ttrain-error:0.079067\teval-error:0.127350\n",
      "[2000]\ttrain-error:0.077554\teval-error:0.125650\n",
      "[2050]\ttrain-error:0.075695\teval-error:0.124200\n",
      "[2100]\ttrain-error:0.074222\teval-error:0.125850\n",
      "Stopping. Best iteration:\n",
      "[2048]\ttrain-error:0.075763\teval-error:0.124200\n",
      "\n"
     ]
    }
   ],
   "source": [
    "param = {'max_depth':4,\n",
    "         'eta':0.1,\n",
    "         'min_child_weight':50,\n",
    "         'colsample_bytree':0.8,\n",
    "         'subsample':0.6,\n",
    "         'silent':1,\n",
    "         'objective': \"binary:logistic\",\n",
    "         'eval_metric': 'error',\n",
    "         'nthread':14}\n",
    "\n",
    "evallist  = [(dtrain,'train'),(dvalid,'eval')]\n",
    "\n",
    "#train\n",
    "num_round = 5000\n",
    "bst = xgb.train(param,\n",
    "                dtrain,\n",
    "                evals=evallist,\n",
    "                num_boost_round=num_round,\n",
    "                early_stopping_rounds=100,\n",
    "                verbose_eval=50)"
   ]
  },
  {
   "cell_type": "markdown",
   "metadata": {},
   "source": [
    "#### Final scores"
   ]
  },
  {
   "cell_type": "code",
   "execution_count": 7,
   "metadata": {
    "collapsed": false
   },
   "outputs": [
    {
     "name": "stdout",
     "output_type": "stream",
     "text": [
      "train score: 0.927094854503\n",
      "validation score: 0.8746\n",
      "test score: 0.8791\n"
     ]
    }
   ],
   "source": [
    "print 'train score:',list(map(round,bst.predict(dtrain))==train_y).count(True)/float(len(train_y))\n",
    "print 'validation score:',list(map(round,bst.predict(dvalid))==valid_y).count(True)/float(len(valid_y))\n",
    "print 'test score:',list(map(round,bst.predict(dtest))==test_y).count(True)/float(len(test_y))"
   ]
  },
  {
   "cell_type": "markdown",
   "metadata": {},
   "source": [
    "### Feature importance"
   ]
  },
  {
   "cell_type": "code",
   "execution_count": 7,
   "metadata": {
    "collapsed": false
   },
   "outputs": [],
   "source": [
    "fscore=bst.get_fscore()\n",
    "\n",
    "vals=[0 for i in xrange(1000)]\n",
    "for key,val in fscore.iteritems():\n",
    "    vals[int(key[1:])]=val"
   ]
  },
  {
   "cell_type": "code",
   "execution_count": 13,
   "metadata": {
    "collapsed": false
   },
   "outputs": [
    {
     "data": {
      "image/png": "[encoded data removed]",
      "text/plain": [
       "<matplotlib.figure.Figure at 0x7ffb1625dbd0>"
      ]
     },
     "metadata": {},
     "output_type": "display_data"
    }
   ],
   "source": [
    "import matplotlib.pyplot as plt\n",
    "%matplotlib inline\n",
    "\n",
    "fig,ax=plt.subplots()\n",
    "fig.set_size_inches(12,9)\n",
    "ax.step(np.arange(len(vals))-500, vals,lw=1,c='dodgerblue')\n",
    "ax.axvline(0,lw=2,linestyle='dashed',c='salmon',label='CpG position')\n",
    "ax.set_ylabel('realtive importance',fontsize=16)\n",
    "ax.set_xlabel('pos',fontsize=16)\n",
    "ax.set_xlim(-500,500)\n",
    "ax.legend(fontsize=16)\n",
    "dump=ax.set_title('position importance',fontsize=16)"
   ]
  }
 ],
 "metadata": {
  "kernelspec": {
   "display_name": "Python 2",
   "language": "python",
   "name": "python2"
  },
  "language_info": {
   "codemirror_mode": {
    "name": "ipython",
    "version": 2
   },
   "file_extension": ".py",
   "mimetype": "text/x-python",
   "name": "python",
   "nbconvert_exporter": "python",
   "pygments_lexer": "ipython2",
   "version": "2.7.9"
  }
 },
 "nbformat": 4,
 "nbformat_minor": 0
}
