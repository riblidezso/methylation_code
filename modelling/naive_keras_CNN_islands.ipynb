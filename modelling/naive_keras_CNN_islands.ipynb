{
 "cells": [
  {
   "cell_type": "markdown",
   "metadata": {},
   "source": [
    "# Very naive deep learning on the vector of surrounding bases\n",
    "\n",
    "---\n",
    "\n",
    "### Data\n",
    "\n",
    "Naive feature vectors. The original sequence of validation/test and train data does not overlap! ( but train data points can overlap with train data points, and test-validation can overlap with test-validation data ) This overlapping does not lead to unintentional label leakage!\n",
    "\n",
    "\n",
    "\n",
    "### Notes\n",
    "\n",
    "\n",
    "---"
   ]
  },
  {
   "cell_type": "markdown",
   "metadata": {},
   "source": [
    "Instruct theano to use gpu"
   ]
  },
  {
   "cell_type": "code",
   "execution_count": 1,
   "metadata": {
    "collapsed": false
   },
   "outputs": [
    {
     "name": "stderr",
     "output_type": "stream",
     "text": [
      "Using gpu device 0: GeForce GTX 670 (CNMeM is disabled, CuDNN not available)\n"
     ]
    }
   ],
   "source": [
    "import os\n",
    "os.environ['THEANO_FLAGS']='device=gpu'\n",
    "\n",
    "import sys\n",
    "sys.path.append('../my_modules')\n",
    "from loading_utils import read_my_data\n",
    "\n",
    "import subprocess\n",
    "import time\n",
    "\n",
    "import os,subprocess\n",
    "workdir='/mnt/Data1/ribli/methylation_code/modelling'\n",
    "subprocess.call(['mkdir',workdir])\n",
    "os.chdir(workdir)"
   ]
  },
  {
   "cell_type": "markdown",
   "metadata": {},
   "source": [
    "### Load data"
   ]
  },
  {
   "cell_type": "code",
   "execution_count": 2,
   "metadata": {
    "collapsed": false
   },
   "outputs": [
    {
     "name": "stdout",
     "output_type": "stream",
     "text": [
      "Loading data... \n",
      "Loading data... \n"
     ]
    }
   ],
   "source": [
    "_,train_x,train_y = read_my_data(\n",
    "    fname='../prepare_data/big_train_feat_vect.csv')\n",
    "test_id,test_x,test_y = read_my_data(\n",
    "    fname='../prepare_data/big_test_feat_vect.csv')\n",
    "\n",
    "#make it image like\n",
    "train_x,test_x=[x.reshape((-1,1,1000,1)) for x in (train_x,test_x)]"
   ]
  },
  {
   "cell_type": "markdown",
   "metadata": {},
   "source": [
    "### Build Convnet"
   ]
  },
  {
   "cell_type": "code",
   "execution_count": 3,
   "metadata": {
    "collapsed": false
   },
   "outputs": [
    {
     "name": "stderr",
     "output_type": "stream",
     "text": [
      "Using Theano backend.\n",
      "/mnt/Data1/ribli/tools/anaconda/lib/python2.7/site-packages/theano/tensor/signal/downsample.py:5: UserWarning: downsample module has been moved to the pool module.\n",
      "  warnings.warn(\"downsample module has been moved to the pool module.\")\n"
     ]
    }
   ],
   "source": [
    "from keras.models import Sequential\n",
    "from keras.layers import Dense, Dropout, Activation, Flatten\n",
    "from keras.layers import Convolution2D,MaxPooling2D\n",
    "\n",
    "input_dim=train_x.shape[2]\n",
    "activation='relu'\n",
    "loss='binary_crossentropy'\n",
    "optimizer='adadelta'\n",
    "init='uniform'\n",
    "pool_size=(8,1)\n",
    "window_size=5\n",
    "dense_n=64\n",
    "\n",
    "model = Sequential()\n",
    "\n",
    "#Convolution layer 1\n",
    "model.add(Convolution2D(20,window_size,1, border_mode='valid',input_shape=(1,input_dim,1)))\n",
    "model.add(Activation(activation))\n",
    "model.add(MaxPooling2D(pool_size=pool_size))\n",
    "#model.add(Dropout(0.25))\n",
    "\n",
    "#Convolution layer 2\n",
    "model.add(Convolution2D(50,window_size,1, border_mode='valid'))\n",
    "model.add(Activation(activation))\n",
    "model.add(MaxPooling2D(pool_size=pool_size))\n",
    "#model.add(Dropout(0.25))\n",
    "\n",
    "#Dense layer\n",
    "model.add(Flatten())\n",
    "model.add(Dense(dense_n,activation=activation))\n",
    "#model.add(Dropout(0.5))\n",
    "\n",
    "#final layer\n",
    "model.add(Dense(1, activation='sigmoid'))\n",
    "\n",
    "#compile model\n",
    "model.compile(loss=loss,optimizer=optimizer,class_mode='binary')"
   ]
  },
  {
   "cell_type": "markdown",
   "metadata": {},
   "source": [
    "### Train and test model"
   ]
  },
  {
   "cell_type": "code",
   "execution_count": 4,
   "metadata": {
    "collapsed": false
   },
   "outputs": [],
   "source": [
    "from keras.callbacks import ModelCheckpoint,EarlyStopping\n",
    "\n",
    "def fit_keras_model(model,train_x,train_y,test_x,test_y):\n",
    "    start=time.time()\n",
    "    \n",
    "    #callbacks\n",
    "    best_model=ModelCheckpoint('best_model',save_best_only=True,verbose=1)\n",
    "    early_stop=EarlyStopping(patience=7,verbose=1)\n",
    "    \n",
    "    #train it\n",
    "    callb_hist=model.fit(train_x,train_y,nb_epoch = 100,\n",
    "                         show_accuracy=True,verbose=1,\n",
    "                        validation_split=0.05,\n",
    "                        callbacks=[best_model,early_stop])\n",
    "    #predict\n",
    "    model.load_weights('best_model')\n",
    "    train_pred=model.predict_classes(train_x).ravel()\n",
    "    test_pred=model.predict_classes(test_x).ravel()\n",
    "\n",
    "    #check errors\n",
    "    print 'train score:',list((train_pred==train_y)).count(True)/float(len(train_y))\n",
    "    print 'test score:',list((test_pred==test_y)).count(True)/float(len(test_y))\n",
    "\n",
    "    print 'It took:',time.time()-start    \n",
    "    return train_pred,test_pred"
   ]
  },
  {
   "cell_type": "code",
   "execution_count": 5,
   "metadata": {
    "collapsed": false
   },
   "outputs": [
    {
     "name": "stdout",
     "output_type": "stream",
     "text": [
      "Train on 213117 samples, validate on 11217 samples\n",
      "Epoch 1/100\n",
      "213117/213117 [==============================] - 83s - loss: 0.4855 - acc: 0.7699 - val_loss: 0.3860 - val_acc: 0.8351\n",
      "Epoch 00000: val_loss improved from inf to 0.38602, saving model to best_model\n",
      "Epoch 2/100\n",
      "213117/213117 [==============================] - 83s - loss: 0.3898 - acc: 0.8338 - val_loss: 0.3570 - val_acc: 0.8538\n",
      "Epoch 00001: val_loss improved from 0.38602 to 0.35696, saving model to best_model\n",
      "Epoch 3/100\n",
      "213117/213117 [==============================] - 83s - loss: 0.3573 - acc: 0.8537 - val_loss: 0.5334 - val_acc: 0.7621\n",
      "Epoch 00002: val_loss did not improve\n",
      "Epoch 4/100\n",
      "213117/213117 [==============================] - 83s - loss: 0.3402 - acc: 0.8620 - val_loss: 0.3401 - val_acc: 0.8624\n",
      "Epoch 00003: val_loss improved from 0.35696 to 0.34008, saving model to best_model\n",
      "Epoch 5/100\n",
      "213117/213117 [==============================] - 83s - loss: 0.3313 - acc: 0.8674 - val_loss: 0.3038 - val_acc: 0.8829\n",
      "Epoch 00004: val_loss improved from 0.34008 to 0.30381, saving model to best_model\n",
      "Epoch 6/100\n",
      "213117/213117 [==============================] - 83s - loss: 0.3215 - acc: 0.8722 - val_loss: 0.3009 - val_acc: 0.8837\n",
      "Epoch 00005: val_loss improved from 0.30381 to 0.30087, saving model to best_model\n",
      "Epoch 7/100\n",
      "213117/213117 [==============================] - 83s - loss: 0.3153 - acc: 0.8746 - val_loss: 0.3004 - val_acc: 0.8833\n",
      "Epoch 00006: val_loss improved from 0.30087 to 0.30043, saving model to best_model\n",
      "Epoch 8/100\n",
      "213117/213117 [==============================] - 83s - loss: 0.3087 - acc: 0.8783 - val_loss: 0.3000 - val_acc: 0.8839\n",
      "Epoch 00007: val_loss improved from 0.30043 to 0.30003, saving model to best_model\n",
      "Epoch 9/100\n",
      "213117/213117 [==============================] - 83s - loss: 0.3012 - acc: 0.8818 - val_loss: 0.3376 - val_acc: 0.8639\n",
      "Epoch 00008: val_loss did not improve\n",
      "Epoch 10/100\n",
      "213117/213117 [==============================] - 83s - loss: 0.2949 - acc: 0.8847 - val_loss: 0.3057 - val_acc: 0.8816\n",
      "Epoch 00009: val_loss did not improve\n",
      "Epoch 11/100\n",
      "213117/213117 [==============================] - 83s - loss: 0.2897 - acc: 0.8857 - val_loss: 0.2979 - val_acc: 0.8861\n",
      "Epoch 00010: val_loss improved from 0.30003 to 0.29793, saving model to best_model\n",
      "Epoch 12/100\n",
      "213117/213117 [==============================] - 83s - loss: 0.2823 - acc: 0.8895 - val_loss: 0.3067 - val_acc: 0.8830\n",
      "Epoch 00011: val_loss did not improve\n",
      "Epoch 13/100\n",
      "213117/213117 [==============================] - 83s - loss: 0.2748 - acc: 0.8922 - val_loss: 0.3235 - val_acc: 0.8751\n",
      "Epoch 00012: val_loss did not improve\n",
      "Epoch 14/100\n",
      "213117/213117 [==============================] - 83s - loss: 0.2683 - acc: 0.8939 - val_loss: 0.3465 - val_acc: 0.8726\n",
      "Epoch 00013: val_loss did not improve\n",
      "Epoch 15/100\n",
      "213117/213117 [==============================] - 83s - loss: 0.2616 - acc: 0.8977 - val_loss: 0.3063 - val_acc: 0.8868\n",
      "Epoch 00014: val_loss did not improve\n",
      "Epoch 16/100\n",
      "213117/213117 [==============================] - 83s - loss: 0.2549 - acc: 0.9006 - val_loss: 0.3213 - val_acc: 0.8799\n",
      "Epoch 00015: val_loss did not improve\n",
      "Epoch 17/100\n",
      "213117/213117 [==============================] - 83s - loss: 0.2468 - acc: 0.9034 - val_loss: 0.3324 - val_acc: 0.8780\n",
      "Epoch 00016: val_loss did not improve\n",
      "Epoch 18/100\n",
      "213117/213117 [==============================] - 83s - loss: 0.2419 - acc: 0.9050 - val_loss: 0.3340 - val_acc: 0.8784\n",
      "Epoch 00017: val_loss did not improve\n",
      "Epoch 19/100\n",
      "213117/213117 [==============================] - 83s - loss: 0.2337 - acc: 0.9091 - val_loss: 0.3284 - val_acc: 0.8780\n",
      "Epoch 00018: val_loss did not improve\n",
      "Epoch 00018: early stopping\n",
      "224334/224334 [==============================] - 39s    \n",
      "10000/10000 [==============================] - 1s     \n",
      "train score: 0.897915607977\n",
      "test score: 0.8799\n",
      "It took: 1630.30495906\n"
     ]
    }
   ],
   "source": [
    "N_train,N_test=train_x.shape[0],test_x.shape[0]\n",
    "train_pred,test_pred=fit_keras_model(\n",
    "    model,train_x[:N_train],train_y[:N_train],test_x[:N_test],test_y[:N_test])"
   ]
  },
  {
   "cell_type": "markdown",
   "metadata": {},
   "source": [
    "### Save test predictions"
   ]
  },
  {
   "cell_type": "code",
   "execution_count": 10,
   "metadata": {
    "collapsed": false
   },
   "outputs": [
    {
     "name": "stdout",
     "output_type": "stream",
     "text": [
      "10000/10000 [==============================] - 1s     \n"
     ]
    },
    {
     "data": {
      "text/html": [
       "<div>\n",
       "<table border=\"1\" class=\"dataframe\">\n",
       "  <thead>\n",
       "    <tr style=\"text-align: right;\">\n",
       "      <th></th>\n",
       "      <th>id</th>\n",
       "      <th>label</th>\n",
       "      <th>prediction</th>\n",
       "      <th>error</th>\n",
       "    </tr>\n",
       "  </thead>\n",
       "  <tbody>\n",
       "    <tr>\n",
       "      <th>0</th>\n",
       "      <td>cg02979850</td>\n",
       "      <td>1</td>\n",
       "      <td>1</td>\n",
       "      <td>0</td>\n",
       "    </tr>\n",
       "    <tr>\n",
       "      <th>1</th>\n",
       "      <td>cg02979170</td>\n",
       "      <td>0</td>\n",
       "      <td>1</td>\n",
       "      <td>1</td>\n",
       "    </tr>\n",
       "    <tr>\n",
       "      <th>2</th>\n",
       "      <td>cg24913115</td>\n",
       "      <td>0</td>\n",
       "      <td>0</td>\n",
       "      <td>0</td>\n",
       "    </tr>\n",
       "    <tr>\n",
       "      <th>3</th>\n",
       "      <td>cg02118630</td>\n",
       "      <td>1</td>\n",
       "      <td>1</td>\n",
       "      <td>0</td>\n",
       "    </tr>\n",
       "    <tr>\n",
       "      <th>4</th>\n",
       "      <td>cg00393407</td>\n",
       "      <td>1</td>\n",
       "      <td>1</td>\n",
       "      <td>0</td>\n",
       "    </tr>\n",
       "  </tbody>\n",
       "</table>\n",
       "</div>"
      ],
      "text/plain": [
       "           id  label  prediction  error\n",
       "0  cg02979850      1           1      0\n",
       "1  cg02979170      0           1      1\n",
       "2  cg24913115      0           0      0\n",
       "3  cg02118630      1           1      0\n",
       "4  cg00393407      1           1      0"
      ]
     },
     "execution_count": 10,
     "metadata": {},
     "output_type": "execute_result"
    }
   ],
   "source": [
    "#load best model\n",
    "model.load_weights('best_model')\n",
    "test_pred=model.predict_classes(test_x).ravel()\n",
    "\n",
    "import pandas as pd\n",
    "import numpy as np\n",
    "result=pd.DataFrame({'id':test_id,'label':test_y,'prediction':test_pred})\n",
    "result['error']=np.abs(result['label']-result['prediction'])\n",
    "result.head()"
   ]
  },
  {
   "cell_type": "code",
   "execution_count": 11,
   "metadata": {
    "collapsed": true
   },
   "outputs": [],
   "source": [
    "result.to_csv('cnn_test_preds.csv',sep='\\t',index=False,Header=True)"
   ]
  }
 ],
 "metadata": {
  "kernelspec": {
   "display_name": "Python 2",
   "language": "python",
   "name": "python2"
  },
  "language_info": {
   "codemirror_mode": {
    "name": "ipython",
    "version": 2
   },
   "file_extension": ".py",
   "mimetype": "text/x-python",
   "name": "python",
   "nbconvert_exporter": "python",
   "pygments_lexer": "ipython2",
   "version": "2.7.9"
  }
 },
 "nbformat": 4,
 "nbformat_minor": 0
}
