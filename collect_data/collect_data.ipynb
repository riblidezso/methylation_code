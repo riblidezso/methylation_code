{
 "cells": [
  {
   "cell_type": "markdown",
   "metadata": {},
   "source": [
    "# Downloading, extracting and loading the methylation data to sqlite DB\n",
    "\n",
    "----\n",
    "\n",
    "## <span class=\"label label-info\">Source of data </span>\n",
    "- The article : http://www.ncbi.nlm.nih.gov/pmc/articles/PMC4107146/\n",
    "\n",
    "\n",
    "--- \n",
    "## <span class=\"label label-warning\">NOTES </span>\n",
    "---\n"
   ]
  },
  {
   "cell_type": "code",
   "execution_count": 9,
   "metadata": {
    "collapsed": true
   },
   "outputs": [],
   "source": [
    "import pandas as pd\n",
    "import numpy as np\n",
    "\n",
    "import os\n",
    "import subprocess\n",
    "import time\n",
    "import glob\n",
    "\n",
    "import re"
   ]
  },
  {
   "cell_type": "code",
   "execution_count": 2,
   "metadata": {
    "collapsed": false
   },
   "outputs": [],
   "source": [
    "workdir='/nagyvinyok/adat84/sotejedlik/ribli/methylation_code/collect_data/'\n",
    "subprocess.call(['mkdir',workdir])\n",
    "os.chdir(workdir)"
   ]
  },
  {
   "cell_type": "markdown",
   "metadata": {},
   "source": [
    "----\n",
    "\n",
    "## Dowload data\n",
    "\n",
    "- I downloaded the family soft file from geo http://www.ncbi.nlm.nih.gov/geo/query/acc.cgi?token=djghdmayauuisvo&acc=GSE48684\n"
   ]
  },
  {
   "cell_type": "code",
   "execution_count": 6,
   "metadata": {
    "collapsed": false,
    "scrolled": false
   },
   "outputs": [],
   "source": [
    "%%bash\n",
    "#wget ftp://ftp.ncbi.nlm.nih.gov/geo/series/GSE48nnn/GSE48684/soft/GSE48684_family.soft.gz\n",
    "#gunzip GSE48684_family.soft.gz"
   ]
  },
  {
   "cell_type": "markdown",
   "metadata": {},
   "source": [
    "---\n",
    "### Preprocessing: \n",
    "\n",
    "This is the first time im working with soft files, so this is kinda hackish.\n",
    "\n",
    "Extracting methylation data from the big soft file\n",
    "- First write each part of the soft file to uniwue files for sample\n",
    "- write the soft to the csv with the columns needed\n",
    "- annotate each raw, with a sample attribute  "
   ]
  },
  {
   "cell_type": "code",
   "execution_count": 8,
   "metadata": {
    "collapsed": false
   },
   "outputs": [],
   "source": [
    "#Write all samples to different files from the one big soft file, this is kinda hacking\n",
    "subprocess.call('mkdir samples',shell=True)\n",
    "\n",
    "out_f=None\n",
    "write=False\n",
    "with open('GSE48684_family.soft') as in_f:\n",
    "    for line in in_f:\n",
    "        if (line.split()[0].strip()=='^SAMPLE'):\n",
    "            write=True\n",
    "            sample= line.split()[2].strip()\n",
    "\n",
    "            if out_f!=None:\n",
    "                out_f.close()\n",
    "            out_f=open('samples/'+sample+'.soft','w')\n",
    "\n",
    "        if(write):\n",
    "            out_f.write(line)\n",
    "out_f.close()"
   ]
  },
  {
   "cell_type": "code",
   "execution_count": 23,
   "metadata": {
    "collapsed": false
   },
   "outputs": [],
   "source": [
    "#Write files from soft to csv-a\n",
    "#- missing data!\n",
    "with open('met_loading_table.csv','w') as out_f:\n",
    "    out_f.write('#sample\\tprobe_id\\tbeta\\n')\n",
    "    for f in glob.glob('samples/*.soft'):\n",
    "        with open(f) as in_f:\n",
    "            sample=os.path.basename(f).split('.')[0]\n",
    "            write=False\n",
    "            for line in in_f:\n",
    "                if(write and line.split()[0].strip()!='!sample_table_end'):\n",
    "                    out_f.write(sample+'\\t'+'\\t'.join(line.split('\\t')[:2])+'\\n')\n",
    "                    \n",
    "                if (line.split()[0].strip()=='ID_REF'):\n",
    "                    write=True               "
   ]
  },
  {
   "cell_type": "markdown",
   "metadata": {},
   "source": [
    "#### Extract the tumor-normal classification from soft files"
   ]
  },
  {
   "cell_type": "code",
   "execution_count": 25,
   "metadata": {
    "collapsed": false,
    "scrolled": false
   },
   "outputs": [],
   "source": [
    "samples,diseases=[],[]\n",
    "for f in glob.glob('samples/*.soft'):\n",
    "        with open(f) as in_f:\n",
    "            samples.append(os.path.basename(f).split('.')[0])\n",
    "\n",
    "            for line in in_f:\n",
    "                if(len(re.findall('disease status',line))==1):\n",
    "                    diseases.append(line.split()[-1])\n",
    "                    break\n",
    "    \n",
    "disease_class=pd.DataFrame()\n",
    "disease_class['disease']=diseases\n",
    "disease_class['sample']=samples\n",
    "disease_class.to_csv('disease_annot.csv',header=False,index=False,sep='\\t')"
   ]
  },
  {
   "cell_type": "markdown",
   "metadata": {},
   "source": [
    "#### Sqliter util function"
   ]
  },
  {
   "cell_type": "code",
   "execution_count": 26,
   "metadata": {
    "collapsed": true
   },
   "outputs": [],
   "source": [
    "#change tmpdir, or it will be full\n",
    "os.environ['TMPDIR']='/nagyvinyok/adat84/sotejedlik/ribli/tmp'\n",
    "\n",
    "#sql exetcuter func\n",
    "def run_sqlilte3(command,db,output=''):\n",
    "    start=time.time()\n",
    "    with open('tempf.sql','w') as tempf:\n",
    "        tempf.write(command)\n",
    "        \n",
    "    if output != '':\n",
    "        output=' > '+output\n",
    "    \n",
    "    try:\n",
    "        print subprocess.check_output('/usr/bin/sqlite3 '+ db + ' < tempf.sql '+ output,\n",
    "                                      shell=True, stderr=subprocess.STDOUT)\n",
    "    except subprocess.CalledProcessError, e:\n",
    "        print e.output\n",
    "    \n",
    "    subprocess.call(['rm','tempf.sql'])\n",
    "    print 'It took',int(time.time()-start),'s'"
   ]
  },
  {
   "cell_type": "markdown",
   "metadata": {},
   "source": [
    "### Load data to sqlite database"
   ]
  },
  {
   "cell_type": "code",
   "execution_count": 27,
   "metadata": {
    "collapsed": false
   },
   "outputs": [
    {
     "name": "stdout",
     "output_type": "stream",
     "text": [
      "\n",
      "It took 318 s\n"
     ]
    }
   ],
   "source": [
    "#Load data to sqlite table\n",
    "#- Its 2.2 GB so this takes a while...\n",
    "\n",
    "run_sqlilte3(\"\"\"\n",
    ".separator \"\\t\"\n",
    "\n",
    "CREATE TABLE  meth(\n",
    "sample TEXT,\n",
    "probe TEXT,\n",
    "beta NUMERIC);\n",
    "\n",
    ".import met_loading_table.csv meth\n",
    "\n",
    "--delete inserted header\n",
    "DELETE FROM meth WHERE sample = 'sample';\n",
    "\n",
    "--delete missing values\n",
    "DELETE FROM meth WHERE beta = '';\n",
    "\n",
    "\"\"\",db='../db/meth_db')"
   ]
  },
  {
   "cell_type": "code",
   "execution_count": 28,
   "metadata": {
    "collapsed": false
   },
   "outputs": [
    {
     "name": "stdout",
     "output_type": "stream",
     "text": [
      "\n",
      "It took 0 s\n"
     ]
    }
   ],
   "source": [
    "#Load disease annotation to sqlite db\n",
    "\n",
    "run_sqlilte3(\"\"\"\n",
    ".separator \"\\t\"\n",
    "\n",
    "CREATE TABLE  disease_annot(\n",
    "disease TEXT,\n",
    "sample TEXT);\n",
    "\n",
    ".import disease_annot.csv disease_annot\n",
    "\n",
    "\"\"\",db='../db/meth_db')"
   ]
  },
  {
   "cell_type": "code",
   "execution_count": 29,
   "metadata": {
    "collapsed": false
   },
   "outputs": [
    {
     "name": "stdout",
     "output_type": "stream",
     "text": [
      "\n",
      "It took 729 s\n"
     ]
    }
   ],
   "source": [
    "#Create index for the database\n",
    "# this one really takes long\n",
    "\n",
    "run_sqlilte3(\"\"\"\n",
    ".separator \"\\t\"\n",
    "\n",
    "--index to fetch results fast from one sample\n",
    "CREATE INDEX sample_probe_idx ON meth(sample,probe,beta);\n",
    "\n",
    "--index to fetch result fast from a probe \n",
    "CREATE INDEX probe_sample_idx ON meth(probe,sample,beta);\n",
    "\n",
    "\"\"\",db='../db/meth_db')"
   ]
  },
  {
   "cell_type": "markdown",
   "metadata": {},
   "source": [
    "#### Run  an example aggregating query"
   ]
  },
  {
   "cell_type": "code",
   "execution_count": 31,
   "metadata": {
    "collapsed": false
   },
   "outputs": [
    {
     "name": "stdout",
     "output_type": "stream",
     "text": [
      "1\t0\t0\tSCAN TABLE meth USING COVERING INDEX sample_probe_idx\n",
      "0\t0\t1\tSCAN TABLE disease_annot AS d\n",
      "0\t1\t0\tSEARCH SUBQUERY 1 AS av USING AUTOMATIC COVERING INDEX (sample=?)\n",
      "0\t0\t0\tUSE TEMP B-TREE FOR GROUP BY\n",
      "adenoma\t0.525580340649512\n",
      "cancer\t0.556780503734447\n",
      "normal-C\t0.559670418588082\n",
      "normal-H\t0.550449178010377\n",
      "\n",
      "It took 33 s\n"
     ]
    }
   ],
   "source": [
    "run_sqlilte3(\"\"\"\n",
    ".separator \"\\t\"\n",
    "\n",
    "EXPLAIN QUERY PLAN SELECT d.disease,AVG(av.abeta)\n",
    "FROM(\n",
    "    SELECT sample,AVG(beta) AS abeta\n",
    "    FROM meth\n",
    "    GROUP BY sample) as av\n",
    "INNER JOIN disease_annot AS d ON av.sample=d.sample\n",
    "GROUP BY d.disease;\n",
    "\n",
    "SELECT d.disease,AVG(av.abeta)\n",
    "FROM(\n",
    "    SELECT sample,AVG(beta) AS abeta\n",
    "    FROM meth\n",
    "    GROUP BY sample) as av\n",
    "INNER JOIN disease_annot AS d ON av.sample=d.sample\n",
    "GROUP BY d.disease;\n",
    "\n",
    "\"\"\",db='../db/meth_db')"
   ]
  }
 ],
 "metadata": {
  "kernelspec": {
   "display_name": "Python 2",
   "language": "python",
   "name": "python2"
  },
  "language_info": {
   "codemirror_mode": {
    "name": "ipython",
    "version": 2
   },
   "file_extension": ".py",
   "mimetype": "text/x-python",
   "name": "python",
   "nbconvert_exporter": "python",
   "pygments_lexer": "ipython2",
   "version": "2.7.11"
  }
 },
 "nbformat": 4,
 "nbformat_minor": 0
}
