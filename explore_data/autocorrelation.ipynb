{
 "cells": [
  {
   "cell_type": "markdown",
   "metadata": {},
   "source": [
    "# Autocorrelation methylation\n",
    "\n",
    "---\n",
    "\n",
    "\n",
    "## <span class=\"label label-success\"> Analysis </span>\n",
    "\n",
    "Proximal probes have similar methylation values. I will try to find the characteristic length of autocorrelation. \n",
    "\n",
    "I have dowloaded the annotation table from ncbi\n",
    "\n",
    "---\n",
    "\n",
    "## <span class=\"label label-warning\">NOTE</span>\n",
    "\n",
    "\n",
    "---\n",
    "\n",
    "\n",
    "## <span class=\"label label-info\">Conclusion</span>\n",
    "\n",
    "~ 1000 bp long correlation of methylation -> sequence context should be 1000bp long !\n",
    "- I can make shorter later \n",
    "\n",
    "---"
   ]
  },
  {
   "cell_type": "code",
   "execution_count": 2,
   "metadata": {
    "collapsed": true
   },
   "outputs": [],
   "source": [
    "import pandas as pd\n",
    "import numpy as np\n",
    "import matplotlib.pyplot as plt\n",
    "%matplotlib inline\n",
    "\n",
    "import os\n",
    "import subprocess\n",
    "import time"
   ]
  },
  {
   "cell_type": "code",
   "execution_count": 3,
   "metadata": {
    "collapsed": false
   },
   "outputs": [],
   "source": [
    "workdir='/nagyvinyok/adat84/sotejedlik/ribli/methylation_code/explore_data'\n",
    "subprocess.call(['mkdir',workdir])\n",
    "os.chdir(workdir)\n",
    "os.environ['TMPDIR']='/nagyvinyok/adat84/sotejedlik/ribli/tmp'"
   ]
  },
  {
   "cell_type": "code",
   "execution_count": 4,
   "metadata": {
    "collapsed": true
   },
   "outputs": [],
   "source": [
    "#sql exetcuter func\n",
    "def run_sqlilte3(command,db,output=''):\n",
    "    start=time.time()\n",
    "    with open('tempf.sql','w') as tempf:\n",
    "        tempf.write(command)\n",
    "        \n",
    "    if output != '':\n",
    "        output=' > '+output\n",
    "    \n",
    "    try:\n",
    "        print subprocess.check_output('/usr/bin/sqlite3 '+ db + ' < tempf.sql '+ output,\n",
    "                                      shell=True, stderr=subprocess.STDOUT)\n",
    "    except subprocess.CalledProcessError, e:\n",
    "        print e.output\n",
    "    \n",
    "    subprocess.call(['rm','tempf.sql'])\n",
    "    print 'It took',int(time.time()-start),'s'"
   ]
  },
  {
   "cell_type": "markdown",
   "metadata": {},
   "source": [
    "---\n",
    "### Download, and load annotation table"
   ]
  },
  {
   "cell_type": "code",
   "execution_count": 8,
   "metadata": {
    "collapsed": false
   },
   "outputs": [],
   "source": [
    "%%bash\n",
    "\n",
    "#download\n",
    "#wget ftp://ftp.ncbi.nlm.nih.gov/geo/platforms/GPL13nnn/GPL13534/suppl/GPL13534%5FHumanMethylation450%5F15017482%5Fv%2E1%2E1%2Ecsv%2Egz\n",
    "\n",
    "#unzip\n",
    "#gunzip GPL13534_HumanMethylation450_15017482_v.1.1.csv.gz\n",
    "\n",
    "#cut other tables from top and end\n",
    "#tail -n +8 GPL13534_HumanMethylation450_15017482_v.1.1.csv | head -n 485578 > ncbi_450_annot.csv"
   ]
  },
  {
   "cell_type": "code",
   "execution_count": 9,
   "metadata": {
    "collapsed": false
   },
   "outputs": [
    {
     "name": "stdout",
     "output_type": "stream",
     "text": [
      "\n",
      "It took 18 s\n"
     ]
    }
   ],
   "source": [
    "run_sqlilte3(\"\"\"\n",
    ".separator \",\"\n",
    "\n",
    ".import ncbi_450_annot.csv ncbi_450_annot\n",
    "\n",
    "--delete missing values\n",
    "DELETE FROM ncbi_450_annot WHERE CHR='' OR MAPINFO='' OR Strand='';\n",
    "\n",
    "--create index\n",
    "CREATE index id_idx ON ncbi_450_annot(IlmnID,CHR,MAPINFO,Strand);\n",
    "\n",
    "\"\"\",db='../db/meth_db')"
   ]
  },
  {
   "cell_type": "markdown",
   "metadata": {},
   "source": [
    "#### Print  all probes with positions with median beta"
   ]
  },
  {
   "cell_type": "code",
   "execution_count": 10,
   "metadata": {
    "collapsed": false
   },
   "outputs": [
    {
     "name": "stdout",
     "output_type": "stream",
     "text": [
      "\n",
      "It took 6 s\n"
     ]
    }
   ],
   "source": [
    "run_sqlilte3('''\n",
    ".separator \"\\t\"\n",
    ".load /home/ribli/tools/sqlite_math_ext/libsqlitefunctions\n",
    "\n",
    "WITH med_table AS (\n",
    "    SELECT probe AS probe,MEDIAN(beta) as medb\n",
    "    FROM normal_h_meth\n",
    "    GROUP BY probe)\n",
    "\n",
    "SELECT n.CHR,n.MAPINFO,m.medb\n",
    "FROM ncbi_450_annot AS n\n",
    "INNER JOIN med_table AS m ON m.probe=n.IlmnID;\n",
    "\n",
    "''',db='../db/meth_db',output='all_probes_pos_medb.csv')"
   ]
  },
  {
   "cell_type": "markdown",
   "metadata": {},
   "source": [
    "#### Load data"
   ]
  },
  {
   "cell_type": "code",
   "execution_count": 12,
   "metadata": {
    "collapsed": false
   },
   "outputs": [],
   "source": [
    "all_table=pd.read_csv('all_probes_pos_medb.csv',header=None,sep='\\t',\n",
    "                      names=['chr','pos','med'],dtype={'chr':object})"
   ]
  },
  {
   "cell_type": "markdown",
   "metadata": {},
   "source": [
    "#### Just make a plot"
   ]
  },
  {
   "cell_type": "code",
   "execution_count": 20,
   "metadata": {
    "collapsed": false,
    "scrolled": false
   },
   "outputs": [
    {
     "data": {
      "image/png": "[encoded data removed]",
      "text/plain": [
       "<matplotlib.figure.Figure at 0x7f5e4283c210>"
      ]
     },
     "metadata": {},
     "output_type": "display_data"
    }
   ],
   "source": [
    "chrom='1'\n",
    "temp_chrom_table=all_table[(all_table['chr']==chrom) & (all_table['pos']<2e6)][['pos','med']]\n",
    "x=temp_chrom_table['pos'].values\n",
    "med=temp_chrom_table['med'].values\n",
    "\n",
    "fig,ax=plt.subplots()\n",
    "fig.set_size_inches(12,6)\n",
    "\n",
    "ax.plot(x,med,'.',c='dodgerblue')\n",
    "ax.set_xlabel('chromosome '+chrom,fontsize=14)\n",
    "dump=ax.set_ylabel('medb')"
   ]
  },
  {
   "cell_type": "markdown",
   "metadata": {},
   "source": [
    "---\n",
    "### Autocorrelatrion of mdiff\n",
    "- non-uniform x-sampling! So this is not really correct\n",
    "- chr1 0-120e6 will be enough, with no holes\n",
    "\n",
    "\n",
    "#### Strong correlation with the 8-10 closest neighbours!\n",
    "- median probe distance is around 300, this means ~ 1000 correlation length\n",
    "\n",
    "#### Basin around 10-13?\n",
    "\n",
    "----\n"
   ]
  },
  {
   "cell_type": "code",
   "execution_count": 18,
   "metadata": {
    "collapsed": false
   },
   "outputs": [
    {
     "data": {
      "image/png": "[encoded data removed]",
      "text/plain": [
       "<matplotlib.figure.Figure at 0x7f5e45853c90>"
      ]
     },
     "metadata": {},
     "output_type": "display_data"
    }
   ],
   "source": [
    "chrom='1'\n",
    "temp_table=all_table[(all_table['chr']==chrom) & (all_table['pos']<120e6)][['pos','med']]\n",
    "temp=temp_table.sort_values(by=['pos'])['med']-np.mean(temp_table['med'])\n",
    "autocorr=np.correlate(temp,temp,mode='full')\n",
    "\n",
    "fig,ax=plt.subplots()\n",
    "fig.set_size_inches(12,6)\n",
    "ax.plot(autocorr[autocorr.size/2:],'o',mec='none',c='m',ms=10)\n",
    "ax.set_xlim(-10,100)\n",
    "dump=ax.set_ylim(0)"
   ]
  },
  {
   "cell_type": "markdown",
   "metadata": {},
   "source": [
    "##### Get median inter probe distance"
   ]
  },
  {
   "cell_type": "code",
   "execution_count": 19,
   "metadata": {
    "collapsed": false
   },
   "outputs": [
    {
     "data": {
      "text/plain": [
       "305.0"
      ]
     },
     "execution_count": 19,
     "metadata": {},
     "output_type": "execute_result"
    }
   ],
   "source": [
    "x=temp_table.sort_values(by=['pos'])['pos']\n",
    "np.median(x.values[1:]-x.values[:-1])"
   ]
  }
 ],
 "metadata": {
  "kernelspec": {
   "display_name": "Python 2",
   "language": "python",
   "name": "python2"
  },
  "language_info": {
   "codemirror_mode": {
    "name": "ipython",
    "version": 2
   },
   "file_extension": ".py",
   "mimetype": "text/x-python",
   "name": "python",
   "nbconvert_exporter": "python",
   "pygments_lexer": "ipython2",
   "version": "2.7.11"
  }
 },
 "nbformat": 4,
 "nbformat_minor": 0
}
