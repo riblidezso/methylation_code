{
 "cells": [
  {
   "cell_type": "markdown",
   "metadata": {},
   "source": [
    "# Very naive deep learning on the vector of surrounding bases\n",
    "\n",
    "---\n",
    "\n",
    "### Data\n",
    "\n",
    "Naive feature vectors. The original sequence of validation/test and train data does not overlap! ( but train data points can overlap with train data points, and test-validation can overlap with test-validation data ) This overlapping does not lead to unintentional label leakage!\n",
    "\n",
    "\n",
    "\n",
    "### Notes\n",
    "\n",
    "\n",
    "---"
   ]
  },
  {
   "cell_type": "markdown",
   "metadata": {},
   "source": [
    "Instruct theano to use gpu"
   ]
  },
  {
   "cell_type": "code",
   "execution_count": 11,
   "metadata": {
    "collapsed": false
   },
   "outputs": [],
   "source": [
    "import os\n",
    "os.environ['THEANO_FLAGS']='device=gpu'\n",
    "\n",
    "import sys\n",
    "sys.path.append('../my_modules')\n",
    "from loading_utils import read_my_data\n",
    "\n",
    "import subprocess\n",
    "import time\n",
    "\n",
    "import os,subprocess\n",
    "workdir='/mnt/Data1/ribli/methylation_code/modelling'\n",
    "subprocess.call(['mkdir',workdir])\n",
    "os.chdir(workdir)"
   ]
  },
  {
   "cell_type": "markdown",
   "metadata": {},
   "source": [
    "### Load data"
   ]
  },
  {
   "cell_type": "code",
   "execution_count": 2,
   "metadata": {
    "collapsed": false
   },
   "outputs": [
    {
     "name": "stdout",
     "output_type": "stream",
     "text": [
      "Loading data... \n",
      "Loading data... \n",
      "Loading data... \n"
     ]
    }
   ],
   "source": [
    "_,train_x,train_y = read_my_data(\n",
    "    fname='../prepare_data/big_train_feat_vect.csv')\n",
    "_,valid_x,valid_y = read_my_data(\n",
    "    fname='../prepare_data/big_val_feat_vect.csv')\n",
    "test_id,test_x,test_y = read_my_data(\n",
    "    fname='../prepare_data/big_test_feat_vect.csv')\n",
    "\n",
    "#make it image like\n",
    "train_x,valid_x,test_x=[x.reshape((-1,1,1000,1)) for x in (train_x,valid_x,test_x)]"
   ]
  },
  {
   "cell_type": "markdown",
   "metadata": {},
   "source": [
    "### Build Convnet"
   ]
  },
  {
   "cell_type": "code",
   "execution_count": 3,
   "metadata": {
    "collapsed": false
   },
   "outputs": [
    {
     "name": "stderr",
     "output_type": "stream",
     "text": [
      "Using Theano backend.\n",
      "/mnt/Data1/ribli/tools/anaconda/lib/python2.7/site-packages/theano/tensor/signal/downsample.py:5: UserWarning: downsample module has been moved to the pool module.\n",
      "  warnings.warn(\"downsample module has been moved to the pool module.\")\n"
     ]
    }
   ],
   "source": [
    "from keras.models import Sequential\n",
    "from keras.layers import Dense, Dropout, Activation, Flatten\n",
    "from keras.layers import Convolution2D,MaxPooling2D\n",
    "\n",
    "input_dim=train_x.shape[2]\n",
    "activation='relu'\n",
    "loss='binary_crossentropy'\n",
    "optimizer='adadelta'\n",
    "init='uniform'\n",
    "pool_size=(8,1)\n",
    "window_size=5\n",
    "dense_n=64\n",
    "\n",
    "model = Sequential()\n",
    "\n",
    "#Convolution layer 1\n",
    "model.add(Convolution2D(20,window_size,1, border_mode='valid',input_shape=(1,input_dim,1)))\n",
    "model.add(Activation('relu'))\n",
    "model.add(MaxPooling2D(pool_size=pool_size))\n",
    "#model.add(Dropout(0.25))\n",
    "\n",
    "#Convolution layer 2\n",
    "model.add(Convolution2D(50,window_size,1, border_mode='valid'))\n",
    "model.add(Activation('relu'))\n",
    "model.add(MaxPooling2D(pool_size=pool_size))\n",
    "#model.add(Dropout(0.25))\n",
    "\n",
    "#Dense layer\n",
    "model.add(Flatten())\n",
    "model.add(Dense(dense_n,activation=activation))\n",
    "#model.add(Dropout(0.5))\n",
    "\n",
    "#final layer\n",
    "model.add(Dense(1, activation='sigmoid'))\n",
    "\n",
    "#compile model\n",
    "model.compile(loss=loss,optimizer=optimizer,class_mode='binary')"
   ]
  },
  {
   "cell_type": "markdown",
   "metadata": {},
   "source": [
    "### Train test model"
   ]
  },
  {
   "cell_type": "code",
   "execution_count": 4,
   "metadata": {
    "collapsed": false
   },
   "outputs": [],
   "source": [
    "def fit_keras_model(model,train_x,train_y,test_x,test_y):\n",
    "    start=time.time()\n",
    "    #train it\n",
    "    callb_hist=model.fit(train_x,train_y,nb_epoch = 20,\n",
    "                         show_accuracy=True,verbose=1)\n",
    "    #predict\n",
    "    train_pred=model.predict_classes(train_x).ravel()\n",
    "    test_pred=model.predict_classes(test_x).ravel()\n",
    "\n",
    "    #check errors\n",
    "    print 'train score:',list((train_pred==train_y)).count(True)/float(len(train_y))\n",
    "    print 'test score:',list((test_pred==test_y)).count(True)/float(len(test_y))\n",
    "\n",
    "    print 'It took:',time.time()-start    \n",
    "    return train_pred,test_pred"
   ]
  },
  {
   "cell_type": "code",
   "execution_count": 5,
   "metadata": {
    "collapsed": false
   },
   "outputs": [
    {
     "name": "stdout",
     "output_type": "stream",
     "text": [
      "Epoch 1/20\n",
      "118000/118000 [==============================] - 45s - loss: 5.3190 - acc: 0.5525    \n",
      "Epoch 2/20\n",
      "118000/118000 [==============================] - 45s - loss: 0.4868 - acc: 0.7713    \n",
      "Epoch 3/20\n",
      "118000/118000 [==============================] - 45s - loss: 0.4380 - acc: 0.8043    \n",
      "Epoch 4/20\n",
      "118000/118000 [==============================] - 45s - loss: 0.4151 - acc: 0.8173    \n",
      "Epoch 5/20\n",
      "118000/118000 [==============================] - 45s - loss: 0.4037 - acc: 0.8253    \n",
      "Epoch 6/20\n",
      "118000/118000 [==============================] - 45s - loss: 0.3898 - acc: 0.8335    \n",
      "Epoch 7/20\n",
      "118000/118000 [==============================] - 45s - loss: 0.3780 - acc: 0.8400    \n",
      "Epoch 8/20\n",
      "118000/118000 [==============================] - 45s - loss: 0.3693 - acc: 0.8452    \n",
      "Epoch 9/20\n",
      "118000/118000 [==============================] - 45s - loss: 0.3630 - acc: 0.8475    \n",
      "Epoch 10/20\n",
      "118000/118000 [==============================] - 45s - loss: 0.3540 - acc: 0.8520    \n",
      "Epoch 11/20\n",
      "118000/118000 [==============================] - 45s - loss: 0.3432 - acc: 0.8579    \n",
      "Epoch 12/20\n",
      "118000/118000 [==============================] - 45s - loss: 0.3345 - acc: 0.8622    \n",
      "Epoch 13/20\n",
      "118000/118000 [==============================] - 45s - loss: 0.3260 - acc: 0.8653    \n",
      "Epoch 14/20\n",
      "118000/118000 [==============================] - 45s - loss: 0.3166 - acc: 0.8688    \n",
      "Epoch 15/20\n",
      "118000/118000 [==============================] - 45s - loss: 0.3081 - acc: 0.8725    \n",
      "Epoch 16/20\n",
      "118000/118000 [==============================] - 45s - loss: 0.2962 - acc: 0.8779    \n",
      "Epoch 17/20\n",
      "118000/118000 [==============================] - 45s - loss: 0.2837 - acc: 0.8834    \n",
      "Epoch 18/20\n",
      "118000/118000 [==============================] - 45s - loss: 0.2718 - acc: 0.8886    \n",
      "Epoch 19/20\n",
      "118000/118000 [==============================] - 45s - loss: 0.2605 - acc: 0.8927    \n",
      "Epoch 20/20\n",
      "118000/118000 [==============================] - 45s - loss: 0.2478 - acc: 0.8983    \n",
      "118000/118000 [==============================] - 20s    \n",
      "10000/10000 [==============================] - 1s     \n",
      "train score: 0.898805084746\n",
      "test score: 0.8461\n",
      "It took: 924.906028986\n"
     ]
    }
   ],
   "source": [
    "N_train,N_test=118000,10000\n",
    "train_pred,test_pred=fit_keras_model(\n",
    "    model,train_x[:N_train],train_y[:N_train],test_x[:N_test],test_y[:N_test])"
   ]
  },
  {
   "cell_type": "markdown",
   "metadata": {},
   "source": [
    "### Save test predictions"
   ]
  },
  {
   "cell_type": "code",
   "execution_count": 10,
   "metadata": {
    "collapsed": false
   },
   "outputs": [
    {
     "name": "stdout",
     "output_type": "stream",
     "text": [
      "20000/20000 [==============================] - 3s     \n"
     ]
    },
    {
     "data": {
      "text/html": [
       "<div>\n",
       "<table border=\"1\" class=\"dataframe\">\n",
       "  <thead>\n",
       "    <tr style=\"text-align: right;\">\n",
       "      <th></th>\n",
       "      <th>id</th>\n",
       "      <th>label</th>\n",
       "      <th>prediction</th>\n",
       "      <th>error</th>\n",
       "    </tr>\n",
       "  </thead>\n",
       "  <tbody>\n",
       "    <tr>\n",
       "      <th>0</th>\n",
       "      <td>cg19752143</td>\n",
       "      <td>1</td>\n",
       "      <td>1</td>\n",
       "      <td>0</td>\n",
       "    </tr>\n",
       "    <tr>\n",
       "      <th>1</th>\n",
       "      <td>cg05219517</td>\n",
       "      <td>0</td>\n",
       "      <td>0</td>\n",
       "      <td>0</td>\n",
       "    </tr>\n",
       "    <tr>\n",
       "      <th>2</th>\n",
       "      <td>cg05218696</td>\n",
       "      <td>1</td>\n",
       "      <td>1</td>\n",
       "      <td>0</td>\n",
       "    </tr>\n",
       "    <tr>\n",
       "      <th>3</th>\n",
       "      <td>cg09329621</td>\n",
       "      <td>1</td>\n",
       "      <td>1</td>\n",
       "      <td>0</td>\n",
       "    </tr>\n",
       "    <tr>\n",
       "      <th>4</th>\n",
       "      <td>cg17608706</td>\n",
       "      <td>1</td>\n",
       "      <td>1</td>\n",
       "      <td>0</td>\n",
       "    </tr>\n",
       "  </tbody>\n",
       "</table>\n",
       "</div>"
      ],
      "text/plain": [
       "           id  label  prediction  error\n",
       "0  cg19752143      1           1      0\n",
       "1  cg05219517      0           0      0\n",
       "2  cg05218696      1           1      0\n",
       "3  cg09329621      1           1      0\n",
       "4  cg17608706      1           1      0"
      ]
     },
     "execution_count": 10,
     "metadata": {},
     "output_type": "execute_result"
    }
   ],
   "source": [
    "test_pred=model.predict_classes(test_x).ravel()\n",
    "\n",
    "import pandas as pd\n",
    "import numpy as np\n",
    "result=pd.DataFrame({'id':test_id,'label':test_y,'prediction':test_pred})\n",
    "result['error']=np.abs(result['label']-result['prediction'])\n",
    "result.head()"
   ]
  },
  {
   "cell_type": "code",
   "execution_count": 12,
   "metadata": {
    "collapsed": true
   },
   "outputs": [],
   "source": [
    "result.to_csv('cnn_test_preds.csv',sep='\\t',index=False,Header=True)"
   ]
  }
 ],
 "metadata": {
  "kernelspec": {
   "display_name": "Python 2",
   "language": "python",
   "name": "python2"
  },
  "language_info": {
   "codemirror_mode": {
    "name": "ipython",
    "version": 2
   },
   "file_extension": ".py",
   "mimetype": "text/x-python",
   "name": "python",
   "nbconvert_exporter": "python",
   "pygments_lexer": "ipython2",
   "version": "2.7.11"
  }
 },
 "nbformat": 4,
 "nbformat_minor": 0
}
