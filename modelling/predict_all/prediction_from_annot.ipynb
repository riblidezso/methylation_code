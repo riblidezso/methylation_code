{
 "cells": [
  {
   "cell_type": "markdown",
   "metadata": {},
   "source": [
    "# Predicting methylation from annotation groups"
   ]
  },
  {
   "cell_type": "code",
   "execution_count": 1,
   "metadata": {
    "collapsed": true
   },
   "outputs": [],
   "source": [
    "import pandas as pd\n",
    "import numpy as np\n",
    "\n",
    "import os,subprocess\n",
    "workdir='/nagyvinyok/adat84/sotejedlik/ribli/methylation_code/modelling'\n",
    "subprocess.call(['mkdir',workdir])\n",
    "os.chdir(workdir)"
   ]
  },
  {
   "cell_type": "code",
   "execution_count": 2,
   "metadata": {
    "collapsed": false
   },
   "outputs": [
    {
     "data": {
      "text/html": [
       "<div>\n",
       "<table border=\"1\" class=\"dataframe\">\n",
       "  <thead>\n",
       "    <tr style=\"text-align: right;\">\n",
       "      <th></th>\n",
       "      <th>id</th>\n",
       "      <th>Regulatory_Feature_Group</th>\n",
       "      <th>Relation_to_UCSC_CpG_Island</th>\n",
       "      <th>Strand</th>\n",
       "      <th>Infinium_Design_Type</th>\n",
       "      <th>Random_Loci</th>\n",
       "      <th>Methyl27_Loci</th>\n",
       "    </tr>\n",
       "  </thead>\n",
       "  <tbody>\n",
       "    <tr>\n",
       "      <th>0</th>\n",
       "      <td>cg00035864</td>\n",
       "      <td>0</td>\n",
       "      <td>0</td>\n",
       "      <td>F</td>\n",
       "      <td>II</td>\n",
       "      <td>0</td>\n",
       "      <td>0</td>\n",
       "    </tr>\n",
       "    <tr>\n",
       "      <th>1</th>\n",
       "      <td>cg00050873</td>\n",
       "      <td>0</td>\n",
       "      <td>N_Shore</td>\n",
       "      <td>R</td>\n",
       "      <td>I</td>\n",
       "      <td>0</td>\n",
       "      <td>0</td>\n",
       "    </tr>\n",
       "    <tr>\n",
       "      <th>2</th>\n",
       "      <td>cg00061679</td>\n",
       "      <td>0</td>\n",
       "      <td>0</td>\n",
       "      <td>R</td>\n",
       "      <td>II</td>\n",
       "      <td>0</td>\n",
       "      <td>0</td>\n",
       "    </tr>\n",
       "    <tr>\n",
       "      <th>3</th>\n",
       "      <td>cg00063477</td>\n",
       "      <td>0</td>\n",
       "      <td>S_Shelf</td>\n",
       "      <td>F</td>\n",
       "      <td>II</td>\n",
       "      <td>0</td>\n",
       "      <td>0</td>\n",
       "    </tr>\n",
       "    <tr>\n",
       "      <th>4</th>\n",
       "      <td>cg00121626</td>\n",
       "      <td>0</td>\n",
       "      <td>N_Shore</td>\n",
       "      <td>R</td>\n",
       "      <td>II</td>\n",
       "      <td>0</td>\n",
       "      <td>0</td>\n",
       "    </tr>\n",
       "  </tbody>\n",
       "</table>\n",
       "</div>"
      ],
      "text/plain": [
       "           id Regulatory_Feature_Group Relation_to_UCSC_CpG_Island Strand  \\\n",
       "0  cg00035864                        0                           0      F   \n",
       "1  cg00050873                        0                     N_Shore      R   \n",
       "2  cg00061679                        0                           0      R   \n",
       "3  cg00063477                        0                     S_Shelf      F   \n",
       "4  cg00121626                        0                     N_Shore      R   \n",
       "\n",
       "  Infinium_Design_Type Random_Loci Methyl27_Loci  \n",
       "0                   II           0             0  \n",
       "1                    I           0             0  \n",
       "2                   II           0             0  \n",
       "3                   II           0             0  \n",
       "4                   II           0             0  "
      ]
     },
     "execution_count": 2,
     "metadata": {},
     "output_type": "execute_result"
    }
   ],
   "source": [
    "annot=pd.read_csv('../explore_data/relevant_annotations.csv',sep='\\t',header=None)\n",
    "annot.columns=['id','Regulatory_Feature_Group','Relation_to_UCSC_CpG_Island',\n",
    "    'Strand','Infinium_Design_Type','Random_Loci','Methyl27_Loci']\n",
    "annot.fillna(0,inplace=True)\n",
    "annot.head()"
   ]
  },
  {
   "cell_type": "code",
   "execution_count": 3,
   "metadata": {
    "collapsed": false
   },
   "outputs": [
    {
     "data": {
      "text/html": [
       "<div>\n",
       "<table border=\"1\" class=\"dataframe\">\n",
       "  <thead>\n",
       "    <tr style=\"text-align: right;\">\n",
       "      <th></th>\n",
       "      <th>id</th>\n",
       "      <th>label</th>\n",
       "    </tr>\n",
       "  </thead>\n",
       "  <tbody>\n",
       "    <tr>\n",
       "      <th>0</th>\n",
       "      <td>cg19752143</td>\n",
       "      <td>1</td>\n",
       "    </tr>\n",
       "    <tr>\n",
       "      <th>1</th>\n",
       "      <td>cg05219517</td>\n",
       "      <td>0</td>\n",
       "    </tr>\n",
       "    <tr>\n",
       "      <th>2</th>\n",
       "      <td>cg05218696</td>\n",
       "      <td>1</td>\n",
       "    </tr>\n",
       "    <tr>\n",
       "      <th>3</th>\n",
       "      <td>cg09329621</td>\n",
       "      <td>1</td>\n",
       "    </tr>\n",
       "    <tr>\n",
       "      <th>4</th>\n",
       "      <td>cg17608706</td>\n",
       "      <td>1</td>\n",
       "    </tr>\n",
       "  </tbody>\n",
       "</table>\n",
       "</div>"
      ],
      "text/plain": [
       "           id  label\n",
       "0  cg19752143      1\n",
       "1  cg05219517      0\n",
       "2  cg05218696      1\n",
       "3  cg09329621      1\n",
       "4  cg17608706      1"
      ]
     },
     "execution_count": 3,
     "metadata": {},
     "output_type": "execute_result"
    }
   ],
   "source": [
    "labels=pd.read_csv('rf_test_preds.csv',sep='\\t')[['id','label']]\n",
    "labels.head()"
   ]
  },
  {
   "cell_type": "code",
   "execution_count": 4,
   "metadata": {
    "collapsed": false,
    "scrolled": true
   },
   "outputs": [
    {
     "data": {
      "text/html": [
       "<div>\n",
       "<table border=\"1\" class=\"dataframe\">\n",
       "  <thead>\n",
       "    <tr style=\"text-align: right;\">\n",
       "      <th></th>\n",
       "      <th>id</th>\n",
       "      <th>label</th>\n",
       "      <th>Regulatory_Feature_Group</th>\n",
       "      <th>Relation_to_UCSC_CpG_Island</th>\n",
       "      <th>Strand</th>\n",
       "      <th>Infinium_Design_Type</th>\n",
       "      <th>Random_Loci</th>\n",
       "      <th>Methyl27_Loci</th>\n",
       "    </tr>\n",
       "  </thead>\n",
       "  <tbody>\n",
       "    <tr>\n",
       "      <th>0</th>\n",
       "      <td>cg19752143</td>\n",
       "      <td>1</td>\n",
       "      <td>0</td>\n",
       "      <td>0</td>\n",
       "      <td>F</td>\n",
       "      <td>II</td>\n",
       "      <td>0</td>\n",
       "      <td>0</td>\n",
       "    </tr>\n",
       "    <tr>\n",
       "      <th>1</th>\n",
       "      <td>cg05219517</td>\n",
       "      <td>0</td>\n",
       "      <td>Promoter_Associated</td>\n",
       "      <td>Island</td>\n",
       "      <td>R</td>\n",
       "      <td>I</td>\n",
       "      <td>0</td>\n",
       "      <td>0</td>\n",
       "    </tr>\n",
       "    <tr>\n",
       "      <th>2</th>\n",
       "      <td>cg05218696</td>\n",
       "      <td>1</td>\n",
       "      <td>0</td>\n",
       "      <td>0</td>\n",
       "      <td>F</td>\n",
       "      <td>II</td>\n",
       "      <td>0</td>\n",
       "      <td>0</td>\n",
       "    </tr>\n",
       "    <tr>\n",
       "      <th>3</th>\n",
       "      <td>cg09329621</td>\n",
       "      <td>1</td>\n",
       "      <td>0</td>\n",
       "      <td>0</td>\n",
       "      <td>R</td>\n",
       "      <td>II</td>\n",
       "      <td>0</td>\n",
       "      <td>0</td>\n",
       "    </tr>\n",
       "    <tr>\n",
       "      <th>4</th>\n",
       "      <td>cg17608706</td>\n",
       "      <td>1</td>\n",
       "      <td>Gene_Associated</td>\n",
       "      <td>N_Shelf</td>\n",
       "      <td>F</td>\n",
       "      <td>II</td>\n",
       "      <td>0</td>\n",
       "      <td>0</td>\n",
       "    </tr>\n",
       "  </tbody>\n",
       "</table>\n",
       "</div>"
      ],
      "text/plain": [
       "           id  label Regulatory_Feature_Group Relation_to_UCSC_CpG_Island  \\\n",
       "0  cg19752143      1                        0                           0   \n",
       "1  cg05219517      0      Promoter_Associated                      Island   \n",
       "2  cg05218696      1                        0                           0   \n",
       "3  cg09329621      1                        0                           0   \n",
       "4  cg17608706      1          Gene_Associated                     N_Shelf   \n",
       "\n",
       "  Strand Infinium_Design_Type Random_Loci Methyl27_Loci  \n",
       "0      F                   II           0             0  \n",
       "1      R                    I           0             0  \n",
       "2      F                   II           0             0  \n",
       "3      R                   II           0             0  \n",
       "4      F                   II           0             0  "
      ]
     },
     "execution_count": 4,
     "metadata": {},
     "output_type": "execute_result"
    }
   ],
   "source": [
    "data=labels.merge(annot,on=['id'])\n",
    "data.head()"
   ]
  },
  {
   "cell_type": "markdown",
   "metadata": {},
   "source": [
    "----\n",
    "\n",
    "## Predict with naive Bayes"
   ]
  },
  {
   "cell_type": "code",
   "execution_count": 5,
   "metadata": {
    "collapsed": true
   },
   "outputs": [],
   "source": [
    "from sklearn.preprocessing import LabelEncoder,LabelBinarizer\n",
    "from sklearn.naive_bayes import GaussianNB"
   ]
  },
  {
   "cell_type": "markdown",
   "metadata": {},
   "source": [
    "#### Only from cpg island group"
   ]
  },
  {
   "cell_type": "code",
   "execution_count": 6,
   "metadata": {
    "collapsed": false
   },
   "outputs": [
    {
     "name": "stdout",
     "output_type": "stream",
     "text": [
      "accuracy: 0.80855\n"
     ]
    }
   ],
   "source": [
    "lbenc=LabelEncoder()\n",
    "lbenc.fit(data['Relation_to_UCSC_CpG_Island'].values)\n",
    "x=lbenc.transform(data['Relation_to_UCSC_CpG_Island'].values)\n",
    "\n",
    "lbenc=LabelBinarizer()\n",
    "lbenc.fit(x)\n",
    "x=lbenc.transform(x)\n",
    "\n",
    "model=GaussianNB()\n",
    "model.fit(x,data['label'].values)\n",
    "\n",
    "pred=model.predict(x)\n",
    "print 'accuracy:',list(labels['label']-pred).count(0)/float(len(pred))"
   ]
  },
  {
   "cell_type": "markdown",
   "metadata": {},
   "source": [
    "#### With reg feature group, though this is not easily learnable"
   ]
  },
  {
   "cell_type": "code",
   "execution_count": 7,
   "metadata": {
    "collapsed": false
   },
   "outputs": [
    {
     "name": "stdout",
     "output_type": "stream",
     "text": [
      "accuracy: 0.8648\n"
     ]
    }
   ],
   "source": [
    "lbenc=LabelEncoder()\n",
    "x1=lbenc.fit_transform(data['Relation_to_UCSC_CpG_Island'].values)\n",
    "x2=lbenc.fit_transform(data['Regulatory_Feature_Group'].values)\n",
    "\n",
    "lbenc=LabelBinarizer()\n",
    "\n",
    "x1=lbenc.fit_transform(x1)\n",
    "x2=lbenc.fit_transform(x2)\n",
    "\n",
    "x=np.column_stack([x1,x2])\n",
    "model=GaussianNB()\n",
    "model.fit(x,data['label'].values)\n",
    "\n",
    "pred=model.predict(x)\n",
    "print 'accuracy:',list(labels['label']-pred).count(0)/float(len(pred))"
   ]
  }
 ],
 "metadata": {
  "kernelspec": {
   "display_name": "Python 2",
   "language": "python",
   "name": "python2"
  },
  "language_info": {
   "codemirror_mode": {
    "name": "ipython",
    "version": 2
   },
   "file_extension": ".py",
   "mimetype": "text/x-python",
   "name": "python",
   "nbconvert_exporter": "python",
   "pygments_lexer": "ipython2",
   "version": "2.7.11"
  }
 },
 "nbformat": 4,
 "nbformat_minor": 0
}
