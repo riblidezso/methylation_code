{
 "cells": [
  {
   "cell_type": "markdown",
   "metadata": {},
   "source": [
    "# Prediction bias in annotation groups"
   ]
  },
  {
   "cell_type": "code",
   "execution_count": 4,
   "metadata": {
    "collapsed": true
   },
   "outputs": [],
   "source": [
    "import pandas as pd\n",
    "import numpy as np\n",
    "\n",
    "import os,subprocess\n",
    "workdir='/nagyvinyok/adat84/sotejedlik/ribli/methylation_code/modelling'\n",
    "subprocess.call(['mkdir',workdir])\n",
    "os.chdir(workdir)"
   ]
  },
  {
   "cell_type": "code",
   "execution_count": 20,
   "metadata": {
    "collapsed": false
   },
   "outputs": [
    {
     "data": {
      "text/html": [
       "<div>\n",
       "<table border=\"1\" class=\"dataframe\">\n",
       "  <thead>\n",
       "    <tr style=\"text-align: right;\">\n",
       "      <th></th>\n",
       "      <th>id</th>\n",
       "      <th>Regulatory_Feature_Group</th>\n",
       "      <th>Relation_to_UCSC_CpG_Island</th>\n",
       "      <th>Strand</th>\n",
       "      <th>Infinium_Design_Type</th>\n",
       "      <th>Random_Loci</th>\n",
       "      <th>Methyl27_Loci</th>\n",
       "    </tr>\n",
       "  </thead>\n",
       "  <tbody>\n",
       "    <tr>\n",
       "      <th>0</th>\n",
       "      <td>cg00035864</td>\n",
       "      <td>0</td>\n",
       "      <td>0</td>\n",
       "      <td>F</td>\n",
       "      <td>II</td>\n",
       "      <td>0</td>\n",
       "      <td>0</td>\n",
       "    </tr>\n",
       "    <tr>\n",
       "      <th>1</th>\n",
       "      <td>cg00050873</td>\n",
       "      <td>0</td>\n",
       "      <td>N_Shore</td>\n",
       "      <td>R</td>\n",
       "      <td>I</td>\n",
       "      <td>0</td>\n",
       "      <td>0</td>\n",
       "    </tr>\n",
       "    <tr>\n",
       "      <th>2</th>\n",
       "      <td>cg00061679</td>\n",
       "      <td>0</td>\n",
       "      <td>0</td>\n",
       "      <td>R</td>\n",
       "      <td>II</td>\n",
       "      <td>0</td>\n",
       "      <td>0</td>\n",
       "    </tr>\n",
       "    <tr>\n",
       "      <th>3</th>\n",
       "      <td>cg00063477</td>\n",
       "      <td>0</td>\n",
       "      <td>S_Shelf</td>\n",
       "      <td>F</td>\n",
       "      <td>II</td>\n",
       "      <td>0</td>\n",
       "      <td>0</td>\n",
       "    </tr>\n",
       "    <tr>\n",
       "      <th>4</th>\n",
       "      <td>cg00121626</td>\n",
       "      <td>0</td>\n",
       "      <td>N_Shore</td>\n",
       "      <td>R</td>\n",
       "      <td>II</td>\n",
       "      <td>0</td>\n",
       "      <td>0</td>\n",
       "    </tr>\n",
       "  </tbody>\n",
       "</table>\n",
       "</div>"
      ],
      "text/plain": [
       "           id Regulatory_Feature_Group Relation_to_UCSC_CpG_Island Strand  \\\n",
       "0  cg00035864                        0                           0      F   \n",
       "1  cg00050873                        0                     N_Shore      R   \n",
       "2  cg00061679                        0                           0      R   \n",
       "3  cg00063477                        0                     S_Shelf      F   \n",
       "4  cg00121626                        0                     N_Shore      R   \n",
       "\n",
       "  Infinium_Design_Type Random_Loci Methyl27_Loci  \n",
       "0                   II           0             0  \n",
       "1                    I           0             0  \n",
       "2                   II           0             0  \n",
       "3                   II           0             0  \n",
       "4                   II           0             0  "
      ]
     },
     "execution_count": 20,
     "metadata": {},
     "output_type": "execute_result"
    }
   ],
   "source": [
    "annot=pd.read_csv('../explore_data/relevant_annotations.csv',sep='\\t',header=None)\n",
    "annot.columns=['id','Regulatory_Feature_Group','Relation_to_UCSC_CpG_Island',\n",
    "    'Strand','Infinium_Design_Type','Random_Loci','Methyl27_Loci']\n",
    "annot.fillna(0,inplace=True)\n",
    "annot.head()"
   ]
  },
  {
   "cell_type": "code",
   "execution_count": 10,
   "metadata": {
    "collapsed": false
   },
   "outputs": [
    {
     "data": {
      "text/html": [
       "<div>\n",
       "<table border=\"1\" class=\"dataframe\">\n",
       "  <thead>\n",
       "    <tr style=\"text-align: right;\">\n",
       "      <th></th>\n",
       "      <th>id</th>\n",
       "      <th>label</th>\n",
       "      <th>prediction</th>\n",
       "      <th>error</th>\n",
       "    </tr>\n",
       "  </thead>\n",
       "  <tbody>\n",
       "    <tr>\n",
       "      <th>0</th>\n",
       "      <td>cg19752143</td>\n",
       "      <td>1</td>\n",
       "      <td>1</td>\n",
       "      <td>0</td>\n",
       "    </tr>\n",
       "    <tr>\n",
       "      <th>1</th>\n",
       "      <td>cg05219517</td>\n",
       "      <td>0</td>\n",
       "      <td>0</td>\n",
       "      <td>0</td>\n",
       "    </tr>\n",
       "    <tr>\n",
       "      <th>2</th>\n",
       "      <td>cg05218696</td>\n",
       "      <td>1</td>\n",
       "      <td>1</td>\n",
       "      <td>0</td>\n",
       "    </tr>\n",
       "    <tr>\n",
       "      <th>3</th>\n",
       "      <td>cg09329621</td>\n",
       "      <td>1</td>\n",
       "      <td>1</td>\n",
       "      <td>0</td>\n",
       "    </tr>\n",
       "    <tr>\n",
       "      <th>4</th>\n",
       "      <td>cg17608706</td>\n",
       "      <td>1</td>\n",
       "      <td>0</td>\n",
       "      <td>1</td>\n",
       "    </tr>\n",
       "  </tbody>\n",
       "</table>\n",
       "</div>"
      ],
      "text/plain": [
       "           id  label  prediction  error\n",
       "0  cg19752143      1           1      0\n",
       "1  cg05219517      0           0      0\n",
       "2  cg05218696      1           1      0\n",
       "3  cg09329621      1           1      0\n",
       "4  cg17608706      1           0      1"
      ]
     },
     "execution_count": 10,
     "metadata": {},
     "output_type": "execute_result"
    }
   ],
   "source": [
    "preds=pd.read_csv('rf_test_preds.csv',sep='\\t')\n",
    "preds.head()"
   ]
  },
  {
   "cell_type": "code",
   "execution_count": 21,
   "metadata": {
    "collapsed": false,
    "scrolled": true
   },
   "outputs": [
    {
     "data": {
      "text/html": [
       "<div>\n",
       "<table border=\"1\" class=\"dataframe\">\n",
       "  <thead>\n",
       "    <tr style=\"text-align: right;\">\n",
       "      <th></th>\n",
       "      <th>id</th>\n",
       "      <th>label</th>\n",
       "      <th>prediction</th>\n",
       "      <th>error</th>\n",
       "      <th>Regulatory_Feature_Group</th>\n",
       "      <th>Relation_to_UCSC_CpG_Island</th>\n",
       "      <th>Strand</th>\n",
       "      <th>Infinium_Design_Type</th>\n",
       "      <th>Random_Loci</th>\n",
       "      <th>Methyl27_Loci</th>\n",
       "    </tr>\n",
       "  </thead>\n",
       "  <tbody>\n",
       "    <tr>\n",
       "      <th>0</th>\n",
       "      <td>cg19752143</td>\n",
       "      <td>1</td>\n",
       "      <td>1</td>\n",
       "      <td>0</td>\n",
       "      <td>0</td>\n",
       "      <td>0</td>\n",
       "      <td>F</td>\n",
       "      <td>II</td>\n",
       "      <td>0</td>\n",
       "      <td>0</td>\n",
       "    </tr>\n",
       "    <tr>\n",
       "      <th>1</th>\n",
       "      <td>cg05219517</td>\n",
       "      <td>0</td>\n",
       "      <td>0</td>\n",
       "      <td>0</td>\n",
       "      <td>Promoter_Associated</td>\n",
       "      <td>Island</td>\n",
       "      <td>R</td>\n",
       "      <td>I</td>\n",
       "      <td>0</td>\n",
       "      <td>0</td>\n",
       "    </tr>\n",
       "    <tr>\n",
       "      <th>2</th>\n",
       "      <td>cg05218696</td>\n",
       "      <td>1</td>\n",
       "      <td>1</td>\n",
       "      <td>0</td>\n",
       "      <td>0</td>\n",
       "      <td>0</td>\n",
       "      <td>F</td>\n",
       "      <td>II</td>\n",
       "      <td>0</td>\n",
       "      <td>0</td>\n",
       "    </tr>\n",
       "    <tr>\n",
       "      <th>3</th>\n",
       "      <td>cg09329621</td>\n",
       "      <td>1</td>\n",
       "      <td>1</td>\n",
       "      <td>0</td>\n",
       "      <td>0</td>\n",
       "      <td>0</td>\n",
       "      <td>R</td>\n",
       "      <td>II</td>\n",
       "      <td>0</td>\n",
       "      <td>0</td>\n",
       "    </tr>\n",
       "    <tr>\n",
       "      <th>4</th>\n",
       "      <td>cg17608706</td>\n",
       "      <td>1</td>\n",
       "      <td>0</td>\n",
       "      <td>1</td>\n",
       "      <td>Gene_Associated</td>\n",
       "      <td>N_Shelf</td>\n",
       "      <td>F</td>\n",
       "      <td>II</td>\n",
       "      <td>0</td>\n",
       "      <td>0</td>\n",
       "    </tr>\n",
       "  </tbody>\n",
       "</table>\n",
       "</div>"
      ],
      "text/plain": [
       "           id  label  prediction  error Regulatory_Feature_Group  \\\n",
       "0  cg19752143      1           1      0                        0   \n",
       "1  cg05219517      0           0      0      Promoter_Associated   \n",
       "2  cg05218696      1           1      0                        0   \n",
       "3  cg09329621      1           1      0                        0   \n",
       "4  cg17608706      1           0      1          Gene_Associated   \n",
       "\n",
       "  Relation_to_UCSC_CpG_Island Strand Infinium_Design_Type Random_Loci  \\\n",
       "0                           0      F                   II           0   \n",
       "1                      Island      R                    I           0   \n",
       "2                           0      F                   II           0   \n",
       "3                           0      R                   II           0   \n",
       "4                     N_Shelf      F                   II           0   \n",
       "\n",
       "  Methyl27_Loci  \n",
       "0             0  \n",
       "1             0  \n",
       "2             0  \n",
       "3             0  \n",
       "4             0  "
      ]
     },
     "execution_count": 21,
     "metadata": {},
     "output_type": "execute_result"
    }
   ],
   "source": [
    "data=preds.merge(annot,on=['id'])\n",
    "data.head()"
   ]
  },
  {
   "cell_type": "markdown",
   "metadata": {},
   "source": [
    "---\n",
    "\n",
    "## Predictions\n"
   ]
  },
  {
   "cell_type": "code",
   "execution_count": 40,
   "metadata": {
    "collapsed": false
   },
   "outputs": [
    {
     "data": {
      "text/plain": [
       "label         0.5000\n",
       "prediction    0.5092\n",
       "error         0.2652\n",
       "dtype: float64"
      ]
     },
     "execution_count": 40,
     "metadata": {},
     "output_type": "execute_result"
    }
   ],
   "source": [
    "data.mean()"
   ]
  },
  {
   "cell_type": "markdown",
   "metadata": {},
   "source": [
    "----\n",
    "## Check bias"
   ]
  },
  {
   "cell_type": "markdown",
   "metadata": {},
   "source": [
    "### There is bias in \"relation to CpG islands\"\n",
    "\n",
    "- No islands, islands and islands shelves have similar error altough they have very different bias!\n",
    "\n",
    "\n",
    "- The Shores have very bad classification which brings up overall error rate from 21% to 26%\n",
    "    - This might be understandable, they are at the edge of a cluster which has correlated methylation, it can be hard to guess"
   ]
  },
  {
   "cell_type": "code",
   "execution_count": 31,
   "metadata": {
    "collapsed": false
   },
   "outputs": [
    {
     "data": {
      "text/plain": [
       "Relation_to_UCSC_CpG_Island\n",
       "0          6349\n",
       "Island     7856\n",
       "N_Shelf     911\n",
       "N_Shore    2331\n",
       "S_Shelf     755\n",
       "S_Shore    1798\n",
       "Name: id, dtype: int64"
      ]
     },
     "execution_count": 31,
     "metadata": {},
     "output_type": "execute_result"
    }
   ],
   "source": [
    "data.groupby(['Relation_to_UCSC_CpG_Island']).count()['id']"
   ]
  },
  {
   "cell_type": "code",
   "execution_count": 36,
   "metadata": {
    "collapsed": false
   },
   "outputs": [
    {
     "data": {
      "text/html": [
       "<div>\n",
       "<table border=\"1\" class=\"dataframe\">\n",
       "  <thead>\n",
       "    <tr style=\"text-align: right;\">\n",
       "      <th></th>\n",
       "      <th>Relation_to_UCSC_CpG_Island</th>\n",
       "      <th>label</th>\n",
       "      <th>error</th>\n",
       "    </tr>\n",
       "  </thead>\n",
       "  <tbody>\n",
       "    <tr>\n",
       "      <th>0</th>\n",
       "      <td>0</td>\n",
       "      <td>0.869113</td>\n",
       "      <td>0.217200</td>\n",
       "    </tr>\n",
       "    <tr>\n",
       "      <th>1</th>\n",
       "      <td>Island</td>\n",
       "      <td>0.136711</td>\n",
       "      <td>0.215759</td>\n",
       "    </tr>\n",
       "    <tr>\n",
       "      <th>2</th>\n",
       "      <td>N_Shelf</td>\n",
       "      <td>0.942920</td>\n",
       "      <td>0.210757</td>\n",
       "    </tr>\n",
       "    <tr>\n",
       "      <th>3</th>\n",
       "      <td>N_Shore</td>\n",
       "      <td>0.461175</td>\n",
       "      <td>0.442299</td>\n",
       "    </tr>\n",
       "    <tr>\n",
       "      <th>4</th>\n",
       "      <td>S_Shelf</td>\n",
       "      <td>0.948344</td>\n",
       "      <td>0.206623</td>\n",
       "    </tr>\n",
       "    <tr>\n",
       "      <th>5</th>\n",
       "      <td>S_Shore</td>\n",
       "      <td>0.421580</td>\n",
       "      <td>0.473304</td>\n",
       "    </tr>\n",
       "  </tbody>\n",
       "</table>\n",
       "</div>"
      ],
      "text/plain": [
       "  Relation_to_UCSC_CpG_Island     label     error\n",
       "0                           0  0.869113  0.217200\n",
       "1                      Island  0.136711  0.215759\n",
       "2                     N_Shelf  0.942920  0.210757\n",
       "3                     N_Shore  0.461175  0.442299\n",
       "4                     S_Shelf  0.948344  0.206623\n",
       "5                     S_Shore  0.421580  0.473304"
      ]
     },
     "execution_count": 36,
     "metadata": {},
     "output_type": "execute_result"
    }
   ],
   "source": [
    "data.groupby(['Relation_to_UCSC_CpG_Island']).mean()[['label','error']].reset_index()"
   ]
  },
  {
   "cell_type": "markdown",
   "metadata": {},
   "source": [
    "---\n",
    "\n",
    "### No real bias in Regulatory feature group\n",
    "\n",
    "- Only ones with high number : 0,Promoter assoc, unclassified.., they dont show very strong bias\n",
    "\n",
    "- Actually the 0 (no information) has been classified the best!"
   ]
  },
  {
   "cell_type": "code",
   "execution_count": 29,
   "metadata": {
    "collapsed": false
   },
   "outputs": [
    {
     "data": {
      "text/plain": [
       "Regulatory_Feature_Group\n",
       "0                                         11448\n",
       "Gene_Associated                              40\n",
       "Gene_Associated_Cell_type_specific           58\n",
       "NonGene_Associated                           71\n",
       "NonGene_Associated_Cell_type_specific         5\n",
       "Promoter_Associated                        5534\n",
       "Promoter_Associated_Cell_type_specific      243\n",
       "Unclassified                               1396\n",
       "Unclassified_Cell_type_specific            1205\n",
       "Name: id, dtype: int64"
      ]
     },
     "execution_count": 29,
     "metadata": {},
     "output_type": "execute_result"
    }
   ],
   "source": [
    "data.groupby(['Regulatory_Feature_Group']).count()['id']"
   ]
  },
  {
   "cell_type": "code",
   "execution_count": 37,
   "metadata": {
    "collapsed": false
   },
   "outputs": [
    {
     "data": {
      "text/html": [
       "<div>\n",
       "<table border=\"1\" class=\"dataframe\">\n",
       "  <thead>\n",
       "    <tr style=\"text-align: right;\">\n",
       "      <th></th>\n",
       "      <th>Regulatory_Feature_Group</th>\n",
       "      <th>label</th>\n",
       "      <th>error</th>\n",
       "    </tr>\n",
       "  </thead>\n",
       "  <tbody>\n",
       "    <tr>\n",
       "      <th>0</th>\n",
       "      <td>0</td>\n",
       "      <td>0.794287</td>\n",
       "      <td>0.253057</td>\n",
       "    </tr>\n",
       "    <tr>\n",
       "      <th>1</th>\n",
       "      <td>Gene_Associated</td>\n",
       "      <td>0.725000</td>\n",
       "      <td>0.325000</td>\n",
       "    </tr>\n",
       "    <tr>\n",
       "      <th>2</th>\n",
       "      <td>Gene_Associated_Cell_type_specific</td>\n",
       "      <td>0.931034</td>\n",
       "      <td>0.620690</td>\n",
       "    </tr>\n",
       "    <tr>\n",
       "      <th>3</th>\n",
       "      <td>NonGene_Associated</td>\n",
       "      <td>0.056338</td>\n",
       "      <td>0.380282</td>\n",
       "    </tr>\n",
       "    <tr>\n",
       "      <th>4</th>\n",
       "      <td>NonGene_Associated_Cell_type_specific</td>\n",
       "      <td>0.600000</td>\n",
       "      <td>0.000000</td>\n",
       "    </tr>\n",
       "    <tr>\n",
       "      <th>5</th>\n",
       "      <td>Promoter_Associated</td>\n",
       "      <td>0.021142</td>\n",
       "      <td>0.267980</td>\n",
       "    </tr>\n",
       "    <tr>\n",
       "      <th>6</th>\n",
       "      <td>Promoter_Associated_Cell_type_specific</td>\n",
       "      <td>0.181070</td>\n",
       "      <td>0.316872</td>\n",
       "    </tr>\n",
       "    <tr>\n",
       "      <th>7</th>\n",
       "      <td>Unclassified</td>\n",
       "      <td>0.122493</td>\n",
       "      <td>0.305874</td>\n",
       "    </tr>\n",
       "    <tr>\n",
       "      <th>8</th>\n",
       "      <td>Unclassified_Cell_type_specific</td>\n",
       "      <td>0.402490</td>\n",
       "      <td>0.285477</td>\n",
       "    </tr>\n",
       "  </tbody>\n",
       "</table>\n",
       "</div>"
      ],
      "text/plain": [
       "                 Regulatory_Feature_Group     label     error\n",
       "0                                       0  0.794287  0.253057\n",
       "1                         Gene_Associated  0.725000  0.325000\n",
       "2      Gene_Associated_Cell_type_specific  0.931034  0.620690\n",
       "3                      NonGene_Associated  0.056338  0.380282\n",
       "4   NonGene_Associated_Cell_type_specific  0.600000  0.000000\n",
       "5                     Promoter_Associated  0.021142  0.267980\n",
       "6  Promoter_Associated_Cell_type_specific  0.181070  0.316872\n",
       "7                            Unclassified  0.122493  0.305874\n",
       "8         Unclassified_Cell_type_specific  0.402490  0.285477"
      ]
     },
     "execution_count": 37,
     "metadata": {},
     "output_type": "execute_result"
    }
   ],
   "source": [
    "data.groupby(['Regulatory_Feature_Group']).mean()[['label','error']].reset_index()"
   ]
  },
  {
   "cell_type": "markdown",
   "metadata": {},
   "source": [
    "---\n",
    "\n",
    "### No bias below"
   ]
  },
  {
   "cell_type": "code",
   "execution_count": 24,
   "metadata": {
    "collapsed": false
   },
   "outputs": [
    {
     "data": {
      "text/plain": [
       "Strand\n",
       "F    0.262442\n",
       "R    0.268040\n",
       "Name: error, dtype: float64"
      ]
     },
     "execution_count": 24,
     "metadata": {},
     "output_type": "execute_result"
    }
   ],
   "source": [
    "data.groupby(['Strand']).mean()['error']"
   ]
  },
  {
   "cell_type": "code",
   "execution_count": 25,
   "metadata": {
    "collapsed": false
   },
   "outputs": [
    {
     "data": {
      "text/plain": [
       "Infinium_Design_Type\n",
       "I     0.267585\n",
       "II    0.263984\n",
       "Name: error, dtype: float64"
      ]
     },
     "execution_count": 25,
     "metadata": {},
     "output_type": "execute_result"
    }
   ],
   "source": [
    "data.groupby(['Infinium_Design_Type']).mean()['error']"
   ]
  },
  {
   "cell_type": "code",
   "execution_count": 26,
   "metadata": {
    "collapsed": false
   },
   "outputs": [
    {
     "data": {
      "text/plain": [
       "Random_Loci\n",
       "0       0.265679\n",
       "True    0.207317\n",
       "Name: error, dtype: float64"
      ]
     },
     "execution_count": 26,
     "metadata": {},
     "output_type": "execute_result"
    }
   ],
   "source": [
    "data.groupby(['Random_Loci']).mean()['error']"
   ]
  },
  {
   "cell_type": "code",
   "execution_count": 27,
   "metadata": {
    "collapsed": false
   },
   "outputs": [
    {
     "data": {
      "text/plain": [
       "Methyl27_Loci\n",
       "0       0.265049\n",
       "True    0.267547\n",
       "Name: error, dtype: float64"
      ]
     },
     "execution_count": 27,
     "metadata": {},
     "output_type": "execute_result"
    }
   ],
   "source": [
    "data.groupby(['Methyl27_Loci']).mean()['error']"
   ]
  }
 ],
 "metadata": {
  "kernelspec": {
   "display_name": "Python 2",
   "language": "python",
   "name": "python2"
  },
  "language_info": {
   "codemirror_mode": {
    "name": "ipython",
    "version": 2
   },
   "file_extension": ".py",
   "mimetype": "text/x-python",
   "name": "python",
   "nbconvert_exporter": "python",
   "pygments_lexer": "ipython2",
   "version": "2.7.11"
  }
 },
 "nbformat": 4,
 "nbformat_minor": 0
}
