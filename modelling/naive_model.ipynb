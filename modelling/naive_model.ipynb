{
 "cells": [
  {
   "cell_type": "markdown",
   "metadata": {},
   "source": [
    "# Very naive learning on the vector of surrounding bases\n",
    "\n",
    "---\n",
    "\n",
    "### Analyzis\n",
    "\n",
    "I will try to naively predict the mehtylation value (0,1) based on naive sequence context feauture vectors.\n",
    "\n",
    "\n",
    "### Conlcusions\n",
    "\n",
    "Not very surprisingly Random Forest, and SVM with radial base function kernel works well, others not really.\n",
    "\n",
    "\n",
    "Very nice position importance figure with Random Forest.\n",
    "\n",
    "---"
   ]
  },
  {
   "cell_type": "code",
   "execution_count": 1,
   "metadata": {
    "collapsed": true
   },
   "outputs": [],
   "source": [
    "import pandas as pd\n",
    "import numpy as np\n",
    "import matplotlib.pyplot as plt\n",
    "%matplotlib inline\n",
    "\n",
    "import os\n",
    "import subprocess\n",
    "import time\n",
    "import gc\n",
    "\n",
    "from sklearn import tree\n",
    "from sklearn import svm\n",
    "from sklearn import ensemble\n",
    "from sklearn import neighbors\n",
    "\n",
    "workdir='/nagyvinyok/adat84/sotejedlik/ribli/methylation_code/modelling'\n",
    "subprocess.call(['mkdir',workdir])\n",
    "os.chdir(workdir)"
   ]
  },
  {
   "cell_type": "markdown",
   "metadata": {},
   "source": [
    "### Load data"
   ]
  },
  {
   "cell_type": "code",
   "execution_count": 2,
   "metadata": {
    "collapsed": false
   },
   "outputs": [],
   "source": [
    "x=[]\n",
    "x.append(pd.read_csv('../prepare_data/small_meth_probe_seqs.csv',sep='\\t',header=None,nrows=20000))\n",
    "x.append(pd.read_csv('../prepare_data/small_nonmeth_probe_seqs.csv',sep='\\t', header=None,nrows=20000))\n",
    "\n",
    "x[0]['res']=1\n",
    "x[1]['res']=0\n",
    "\n",
    "x=pd.concat([x[0],x[1]]).reset_index(drop=True) \n",
    "\n",
    "#shuffle rows \n",
    "x=x.reindex(np.random.permutation(x.index)).reset_index(drop=True)\n",
    "y=np.array(x['res'])\n",
    "\n",
    "\n",
    "#drop the header and the result, and make it a numpy array\n",
    "x=np.array(x.iloc[:,1:-1])"
   ]
  },
  {
   "cell_type": "markdown",
   "metadata": {},
   "source": [
    "## Nearest neighbors\n",
    "\n",
    "- doesn't really work"
   ]
  },
  {
   "cell_type": "code",
   "execution_count": 3,
   "metadata": {
    "collapsed": false
   },
   "outputs": [
    {
     "name": "stdout",
     "output_type": "stream",
     "text": [
      "train score: 0.5\n",
      "test score: 0.502\n"
     ]
    }
   ],
   "source": [
    "N=1000\n",
    "M=1000\n",
    "knn = neighbors.KNeighborsClassifier(n_neighbors=100)\n",
    "model=knn.fit(x[0:N,:],y[0:N])\n",
    "print 'train score:',list((model.predict(x[:N])==y[:N])).count(True)/float(N)\n",
    "print 'test score:',list((model.predict(x[N:N+M])==y[N:N+M])).count(True)/float(M)"
   ]
  },
  {
   "cell_type": "markdown",
   "metadata": {},
   "source": [
    "---\n",
    "\n",
    "## Tree based classifiers\n"
   ]
  },
  {
   "cell_type": "markdown",
   "metadata": {},
   "source": [
    "##### Decision tree"
   ]
  },
  {
   "cell_type": "code",
   "execution_count": 4,
   "metadata": {
    "collapsed": false
   },
   "outputs": [
    {
     "name": "stdout",
     "output_type": "stream",
     "text": [
      "train score: 0.738\n",
      "test score: 0.594\n"
     ]
    }
   ],
   "source": [
    "N=5000\n",
    "M=1000\n",
    "dect = tree.DecisionTreeClassifier(min_samples_split=100)\n",
    "model=dect.fit(x[0:N,:],y[0:N])\n",
    "print 'train score:',list((model.predict(x[:N])==y[:N])).count(True)/float(N)\n",
    "print 'test score:',list((model.predict(x[N:N+M])==y[N:N+M])).count(True)/float(M)"
   ]
  },
  {
   "cell_type": "markdown",
   "metadata": {},
   "source": [
    "#### Random forest\n",
    "\n",
    "- Much better"
   ]
  },
  {
   "cell_type": "code",
   "execution_count": 5,
   "metadata": {
    "collapsed": false
   },
   "outputs": [
    {
     "name": "stdout",
     "output_type": "stream",
     "text": [
      "train score: 0.9074\n",
      "test score: 0.718\n"
     ]
    }
   ],
   "source": [
    "N=5000\n",
    "M=1000\n",
    "rf = ensemble.RandomForestClassifier(n_estimators=100,min_samples_split=100)\n",
    "model=rf.fit(x[0:N,:],y[0:N])\n",
    "print 'train score:',list((model.predict(x[:N])==y[:N])).count(True)/float(N)\n",
    "print 'test score:',list((model.predict(x[N:N+M])==y[N:N+M])).count(True)/float(M)"
   ]
  },
  {
   "cell_type": "markdown",
   "metadata": {},
   "source": [
    "---\n",
    "\n",
    "## Support vector machine\n",
    "\n",
    "- the number of dimensions / number of data is too high here, And because its so slow, that i can not let it run on 50K data points ...\n",
    "    - i will only feed data with smaller dimension here\n",
    "    \n",
    "    \n",
    "    \n",
    "\n",
    "- Note it's impossible to interrupt the python kernel when it's running"
   ]
  },
  {
   "cell_type": "markdown",
   "metadata": {},
   "source": [
    "##### Linear kernel\n",
    "- bad performance"
   ]
  },
  {
   "cell_type": "code",
   "execution_count": 6,
   "metadata": {
    "collapsed": false
   },
   "outputs": [
    {
     "name": "stdout",
     "output_type": "stream",
     "text": [
      "train score: 0.5742\n",
      "test score: 0.499\n"
     ]
    }
   ],
   "source": [
    "N=5000\n",
    "M=1000\n",
    "radius=50\n",
    "\n",
    "model = svm.SVC(kernel='linear')\n",
    "model= model.fit(x[0:N,1000-radius:1000+radius],y[0:N])\n",
    "print 'train score:',list((model.predict(x[:N,1000-radius:1000+radius])==y[:N])).count(True)/float(N)\n",
    "print 'test score:',list((model.predict(x[N:N+M,1000-radius:1000+radius])==y[N:N+M])).count(True)/float(M)"
   ]
  },
  {
   "cell_type": "markdown",
   "metadata": {},
   "source": [
    "##### Polynomial kernel\n",
    "\n",
    "- Getting better"
   ]
  },
  {
   "cell_type": "code",
   "execution_count": 7,
   "metadata": {
    "collapsed": false
   },
   "outputs": [
    {
     "name": "stdout",
     "output_type": "stream",
     "text": [
      "train score: 0.7508\n",
      "test score: 0.55\n"
     ]
    }
   ],
   "source": [
    "N=5000\n",
    "M=1000\n",
    "radius=50\n",
    "\n",
    "model = svm.SVC(kernel='poly',C=0.01)\n",
    "model= model.fit(x[0:N,1000-radius:1000+radius],y[0:N])\n",
    "print 'train score:',list((model.predict(x[:N,1000-radius:1000+radius])==y[:N])).count(True)/float(N)\n",
    "print 'test score:',list((model.predict(x[N:N+M,1000-radius:1000+radius])==y[N:N+M])).count(True)/float(M)"
   ]
  },
  {
   "cell_type": "markdown",
   "metadata": {},
   "source": [
    "##### Radial base function kernel\n",
    "- Much better"
   ]
  },
  {
   "cell_type": "code",
   "execution_count": 8,
   "metadata": {
    "collapsed": false
   },
   "outputs": [
    {
     "name": "stdout",
     "output_type": "stream",
     "text": [
      "train score: 0.752\n",
      "test score: 0.708\n"
     ]
    }
   ],
   "source": [
    "N=5000\n",
    "M=1000\n",
    "radius=100\n",
    "\n",
    "model = svm.SVC(kernel='rbf',C=0.1)\n",
    "model= model.fit(x[0:N,1000-radius:1000+radius],y[0:N])\n",
    "print 'train score:',list((model.predict(x[:N,1000-radius:1000+radius])==y[:N])).count(True)/float(N)\n",
    "print 'test score:',list((model.predict(x[N:N+M,1000-radius:1000+radius])==y[N:N+M])).count(True)/float(M)"
   ]
  },
  {
   "cell_type": "markdown",
   "metadata": {},
   "source": [
    "---\n",
    "## Feature importance with Random Forest\n",
    "\n",
    "- Very strong asymmetry !"
   ]
  },
  {
   "cell_type": "code",
   "execution_count": 9,
   "metadata": {
    "collapsed": false
   },
   "outputs": [
    {
     "data": {
      "image/png": "[encoded data removed]",
      "text/plain": [
       "<matplotlib.figure.Figure at 0x7f32894a56d0>"
      ]
     },
     "metadata": {},
     "output_type": "display_data"
    }
   ],
   "source": [
    "N=50000\n",
    "rf = ensemble.RandomForestClassifier(n_estimators=100,min_samples_split=100)\n",
    "model=rf.fit(x[0:N,:],y[0:N])\n",
    "feature_importance = model.feature_importances_\n",
    "\n",
    "# make importances relative to max importance\n",
    "feature_importance = 100.0 * (feature_importance / feature_importance.max())\n",
    "\n",
    "fig,ax=plt.subplots()\n",
    "fig.set_size_inches(12,9)\n",
    "ax.step(np.arange(len(feature_importance))-1000, feature_importance,lw=1,c='dodgerblue')\n",
    "ax.axvline(0,lw=2,linestyle='dashed',c='salmon',label='CpG position')\n",
    "ax.set_ylabel('realtive importance',fontsize=16)\n",
    "ax.set_xlabel('pos',fontsize=16)\n",
    "ax.set_xlim(-1000,1000)\n",
    "ax.legend(fontsize=16)\n",
    "dump=ax.set_title('position importance',fontsize=16)"
   ]
  }
 ],
 "metadata": {
  "kernelspec": {
   "display_name": "Python 2",
   "language": "python",
   "name": "python2"
  },
  "language_info": {
   "codemirror_mode": {
    "name": "ipython",
    "version": 2
   },
   "file_extension": ".py",
   "mimetype": "text/x-python",
   "name": "python",
   "nbconvert_exporter": "python",
   "pygments_lexer": "ipython2",
   "version": "2.7.11"
  }
 },
 "nbformat": 4,
 "nbformat_minor": 0
}
