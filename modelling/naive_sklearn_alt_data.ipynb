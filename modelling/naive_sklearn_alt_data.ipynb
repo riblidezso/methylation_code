{
 "cells": [
  {
   "cell_type": "markdown",
   "metadata": {},
   "source": [
    "# Very naive learning on the vector of surrounding bases with standardish machine learning algorithms from scikit sklearn\n",
    "\n",
    "---\n",
    "\n",
    "### Data\n",
    "\n",
    "Naive feature vectors. The original sequence of validation/test and train data does not overlap! ( but train data points can overlap with train data points, and test-validation can overlap with test-validation data ) This overlapping does not lead to unintentional label leakage!\n",
    "\n",
    "### Analysis\n",
    "\n",
    "I will try to naively predict the mehtylation value (0,1) based on naive sequence context feauture vectors.\n",
    "\n",
    "I will use the \"state of the art\" general machine learning tools.\n",
    "- AdaBoost\n",
    "- RandomForest\n",
    "- Gradient boosted trees\n",
    "- SVM\n",
    "\n",
    "\n",
    "### Conlcusions\n",
    "\n",
    "- All naive models produce 73-76% prediction rates.\n",
    "    - actually I think that's surprisinlgy high \n",
    "    \n",
    "    \n",
    "- Interesting position importance figure with Random Forest.\n",
    "\n",
    "---"
   ]
  },
  {
   "cell_type": "code",
   "execution_count": 1,
   "metadata": {
    "collapsed": false
   },
   "outputs": [],
   "source": [
    "import pandas as pd\n",
    "import numpy as np\n",
    "import matplotlib.pyplot as plt\n",
    "%matplotlib inline\n",
    "\n",
    "import time\n",
    "\n",
    "from sklearn import tree\n",
    "from sklearn import svm\n",
    "from sklearn import ensemble\n",
    "\n",
    "import sys\n",
    "sys.path.append('../my_modules')\n",
    "from loading_utils import read_my_data\n",
    "\n",
    "import os,subprocess\n",
    "workdir='/nagyvinyok/adat84/sotejedlik/ribli/methylation_code/modelling'\n",
    "subprocess.call(['mkdir',workdir])\n",
    "os.chdir(workdir)"
   ]
  },
  {
   "cell_type": "markdown",
   "metadata": {},
   "source": [
    "### Load data"
   ]
  },
  {
   "cell_type": "code",
   "execution_count": 2,
   "metadata": {
    "collapsed": false
   },
   "outputs": [
    {
     "name": "stdout",
     "output_type": "stream",
     "text": [
      "Loading data... \n",
      "Loading data... \n"
     ]
    }
   ],
   "source": [
    "_,train_x,train_y = read_my_data(fname='../prepare_data/big_train_feat_vect.csv')\n",
    "test_id,test_x,test_y = read_my_data(fname='../prepare_data/big_test_feat_vect.csv')"
   ]
  },
  {
   "cell_type": "code",
   "execution_count": 6,
   "metadata": {
    "collapsed": false
   },
   "outputs": [
    {
     "name": "stdout",
     "output_type": "stream",
     "text": [
      "(224334, 1000)\n"
     ]
    }
   ],
   "source": [
    "print train_x.shape"
   ]
  },
  {
   "cell_type": "code",
   "execution_count": 3,
   "metadata": {
    "collapsed": true
   },
   "outputs": [],
   "source": [
    "def test_sklearn_model(model,train_x,train_y,test_x,test_y):\n",
    "    start=time.time()\n",
    "    model=model.fit(train_x,train_y)\n",
    "    \n",
    "    train_pred=model.predict(train_x)\n",
    "    test_pred=model.predict(test_x)\n",
    "    \n",
    "    print 'train score:',list((train_pred==train_y)).count(True)/float(len(train_y))\n",
    "    print 'test score:',list((test_pred==test_y)).count(True)/float(len(test_y))\n",
    "    print 'It took:',time.time()-start\n",
    "    \n",
    "    return train_pred,test_pred"
   ]
  },
  {
   "cell_type": "markdown",
   "metadata": {},
   "source": [
    "## AdaBoost\n",
    "\n",
    "- learning rate / n_estimators can be tuned\n",
    "- more estimators -> better result, and slower"
   ]
  },
  {
   "cell_type": "code",
   "execution_count": 4,
   "metadata": {
    "collapsed": false
   },
   "outputs": [
    {
     "name": "stdout",
     "output_type": "stream",
     "text": [
      "train score: 0.7722\n",
      "test score: 0.694\n",
      "It took: 17.6778509617\n"
     ]
    }
   ],
   "source": [
    "N_train=5000\n",
    "N_test=5000\n",
    "\n",
    "adab = ensemble.AdaBoostClassifier(n_estimators=100)\n",
    "train_pred,test_pred=test_sklearn_model(adab,train_x[:N_train],train_y[:N_train],\n",
    "                   test_x[:N_test],test_y[:N_test])"
   ]
  },
  {
   "cell_type": "markdown",
   "metadata": {},
   "source": [
    "- It gets a bit better using more data"
   ]
  },
  {
   "cell_type": "code",
   "execution_count": 11,
   "metadata": {
    "collapsed": false
   },
   "outputs": [
    {
     "name": "stdout",
     "output_type": "stream",
     "text": [
      "train score: 0.716932773109\n",
      "test score: 0.7046\n",
      "It took: 626.482781887\n"
     ]
    }
   ],
   "source": [
    "N_train=119000\n",
    "N_test=10000\n",
    "\n",
    "adab = ensemble.AdaBoostClassifier(n_estimators=100)\n",
    "train_pred,test_pred=test_sklearn_model(adab,train_x[:N_train],train_y[:N_train],\n",
    "                   test_x[:N_test],test_y[:N_test])"
   ]
  },
  {
   "cell_type": "markdown",
   "metadata": {},
   "source": [
    "- Its already quite slow, but maybe I could test with more estimators"
   ]
  },
  {
   "cell_type": "code",
   "execution_count": 23,
   "metadata": {
    "collapsed": false
   },
   "outputs": [
    {
     "name": "stdout",
     "output_type": "stream",
     "text": [
      "train score: 0.756605042017\n",
      "test score: 0.7419\n",
      "It took: 6488.18928885\n"
     ]
    }
   ],
   "source": [
    "N_train=119000\n",
    "N_test=10000\n",
    "\n",
    "adab = ensemble.AdaBoostClassifier(n_estimators=1000)\n",
    "train_pred,test_pred=test_sklearn_model(adab,train_x[:N_train],train_y[:N_train],\n",
    "                   test_x[:N_test],test_y[:N_test])"
   ]
  },
  {
   "cell_type": "markdown",
   "metadata": {},
   "source": [
    "---\n",
    "\n",
    "## Random Forest\n",
    "\n",
    "- n_estimators can be tuned\n",
    "- the characteristics of the decision trees can be also tuned (min_samples_split)"
   ]
  },
  {
   "cell_type": "code",
   "execution_count": 4,
   "metadata": {
    "collapsed": false
   },
   "outputs": [
    {
     "name": "stdout",
     "output_type": "stream",
     "text": [
      "train score: 0.88315\n",
      "test score: 0.72275\n",
      "It took: 2.03022813797\n"
     ]
    }
   ],
   "source": [
    "N_train=20000\n",
    "N_test=4000\n",
    "\n",
    "rf = ensemble.RandomForestClassifier(n_estimators=100,min_samples_split=100,n_jobs=12)\n",
    "train_pred,test_pred=test_sklearn_model(rf,train_x[:N_train],train_y[:N_train],\n",
    "                   test_x[:N_test],test_y[:N_test])"
   ]
  },
  {
   "cell_type": "code",
   "execution_count": 7,
   "metadata": {
    "collapsed": false
   },
   "outputs": [
    {
     "name": "stdout",
     "output_type": "stream",
     "text": [
      "train score: 0.864709821429\n",
      "test score: 0.7332\n",
      "It took: 43.5521459579\n"
     ]
    }
   ],
   "source": [
    "N_train=224000\n",
    "N_test=10000\n",
    "\n",
    "rf = ensemble.RandomForestClassifier(n_estimators=100,min_samples_split=100,n_jobs=12)\n",
    "train_pred,test_pred=test_sklearn_model(rf,train_x[:N_train],train_y[:N_train],\n",
    "                   test_x[:N_test],test_y[:N_test])"
   ]
  },
  {
   "cell_type": "markdown",
   "metadata": {},
   "source": [
    "- With more estimators:"
   ]
  },
  {
   "cell_type": "code",
   "execution_count": 16,
   "metadata": {
    "collapsed": false
   },
   "outputs": [
    {
     "name": "stdout",
     "output_type": "stream",
     "text": [
      "train score: 0.873915966387\n",
      "test score: 0.7383\n",
      "It took: 158.27522397\n"
     ]
    }
   ],
   "source": [
    "N_train=119000\n",
    "N_test=10000\n",
    "\n",
    "rf = ensemble.RandomForestClassifier(n_estimators=1000,min_samples_split=100,n_jobs=12)\n",
    "train_pred,test_pred=test_sklearn_model(rf,train_x[:N_train],train_y[:N_train],\n",
    "                   test_x[:N_test],test_y[:N_test])"
   ]
  },
  {
   "cell_type": "markdown",
   "metadata": {},
   "source": [
    "---\n",
    "\n",
    "## Gradient boosted trees\n",
    "- max depth, and n_estimators can be tuned"
   ]
  },
  {
   "cell_type": "code",
   "execution_count": 6,
   "metadata": {
    "collapsed": false
   },
   "outputs": [
    {
     "name": "stdout",
     "output_type": "stream",
     "text": [
      "train score: 0.867\n",
      "test score: 0.7198\n",
      "It took: 61.3233318329\n"
     ]
    }
   ],
   "source": [
    "N_train=5000\n",
    "N_test=5000\n",
    "\n",
    "gbc = ensemble.GradientBoostingClassifier(max_depth=3,n_estimators=100)\n",
    "train_pred,test_pred=test_sklearn_model(gbc,train_x[:N_train],train_y[:N_train],\n",
    "                   test_x[:N_test],test_y[:N_test])"
   ]
  },
  {
   "cell_type": "markdown",
   "metadata": {},
   "source": [
    "- with more data"
   ]
  },
  {
   "cell_type": "code",
   "execution_count": 12,
   "metadata": {
    "collapsed": false
   },
   "outputs": [
    {
     "name": "stdout",
     "output_type": "stream",
     "text": [
      "train score: 0.778151260504\n",
      "test score: 0.7588\n",
      "It took: 2124.04033279\n"
     ]
    }
   ],
   "source": [
    "N_train=119000\n",
    "N_test=10000\n",
    "\n",
    "gbc = ensemble.GradientBoostingClassifier(max_depth=4,n_estimators=100)\n",
    "train_pred,test_pred=test_sklearn_model(gbc,train_x[:N_train],train_y[:N_train],\n",
    "                   test_x[:N_test],test_y[:N_test])"
   ]
  },
  {
   "cell_type": "markdown",
   "metadata": {},
   "source": [
    "- more estimators? I will use also xgboost which is more tunable GB software"
   ]
  },
  {
   "cell_type": "markdown",
   "metadata": {},
   "source": [
    "---\n",
    "\n",
    "## Support vector machine\n",
    "\n",
    "- rbf kernel\n",
    "\n",
    "- Error penalty can be tuned\n",
    "\n",
    "- Note it's impossible to interrupt the python kernel when it's running"
   ]
  },
  {
   "cell_type": "code",
   "execution_count": 8,
   "metadata": {
    "collapsed": false
   },
   "outputs": [
    {
     "name": "stdout",
     "output_type": "stream",
     "text": [
      "train score: 0.8294\n",
      "test score: 0.7304\n",
      "It took: 119.257405996\n"
     ]
    }
   ],
   "source": [
    "N_train=5000\n",
    "N_test=5000\n",
    "\n",
    "rbf_svm = svm.SVC(kernel='rbf',C=0.3)\n",
    "train_pred,test_pred=test_sklearn_model(rbf_svm,train_x[:N_train],train_y[:N_train],\n",
    "                   test_x[:N_test],test_y[:N_test])"
   ]
  },
  {
   "cell_type": "markdown",
   "metadata": {},
   "source": [
    "- With more data (really slow)"
   ]
  },
  {
   "cell_type": "code",
   "execution_count": 24,
   "metadata": {
    "collapsed": false
   },
   "outputs": [
    {
     "name": "stdout",
     "output_type": "stream",
     "text": [
      "train score: 0.795378151261\n",
      "test score: 0.7373\n",
      "It took: 32652.5334311\n"
     ]
    }
   ],
   "source": [
    "N_train=119000\n",
    "N_test=10000\n",
    "\n",
    "rbf_svm = svm.SVC(kernel='rbf',C=0.3)\n",
    "train_pred,test_pred=test_sklearn_model(rbf_svm,train_x[:N_train],train_y[:N_train],\n",
    "                   test_x[:N_test],test_y[:N_test])"
   ]
  },
  {
   "cell_type": "markdown",
   "metadata": {},
   "source": [
    "---\n",
    "## Feature importance with Random Forest\n",
    "\n",
    "- Very strong asymmetry !"
   ]
  },
  {
   "cell_type": "code",
   "execution_count": 9,
   "metadata": {
    "collapsed": false
   },
   "outputs": [
    {
     "data": {
      "image/png": "[encoded data removed]",
      "text/plain": [
       "<matplotlib.figure.Figure at 0x7f89741b4110>"
      ]
     },
     "metadata": {},
     "output_type": "display_data"
    }
   ],
   "source": [
    "N_train=224000\n",
    "rf = ensemble.RandomForestClassifier(n_estimators=1000,min_samples_split=100,n_jobs=12)\n",
    "model=rf.fit(train_x[:N_train],train_y[:N_train])\n",
    "feature_importance = model.feature_importances_\n",
    "\n",
    "# make importances relative to max importance\n",
    "feature_importance = 100.0 * (feature_importance / feature_importance.max())\n",
    "\n",
    "fig,ax=plt.subplots()\n",
    "fig.set_size_inches(12,9)\n",
    "ax.step(np.arange(len(feature_importance))-500, feature_importance,lw=1,c='dodgerblue')\n",
    "ax.axvline(0,lw=2,linestyle='dashed',c='salmon',label='CpG position')\n",
    "ax.set_ylabel('realtive importance',fontsize=16)\n",
    "ax.set_xlabel('pos',fontsize=16)\n",
    "ax.set_xlim(-500,500)\n",
    "ax.legend(fontsize=16)\n",
    "dump=ax.set_title('position importance',fontsize=16)"
   ]
  },
  {
   "cell_type": "markdown",
   "metadata": {},
   "source": [
    "### Save Random Forest test predictions with ids"
   ]
  },
  {
   "cell_type": "code",
   "execution_count": 16,
   "metadata": {
    "collapsed": false
   },
   "outputs": [
    {
     "name": "stdout",
     "output_type": "stream",
     "text": [
      "train score: 0.868017616702\n",
      "test score: 0.7348\n",
      "It took: 14.8952000141\n"
     ]
    }
   ],
   "source": [
    "N_train=119000\n",
    "N_test=20000\n",
    "\n",
    "rf = ensemble.RandomForestClassifier(n_estimators=100,min_samples_split=100,n_jobs=12)\n",
    "train_pred,test_pred=test_sklearn_model(rf,train_x[:N_train],train_y[:N_train],\n",
    "                   test_x[:N_test],test_y[:N_test])"
   ]
  },
  {
   "cell_type": "code",
   "execution_count": 24,
   "metadata": {
    "collapsed": false
   },
   "outputs": [
    {
     "data": {
      "text/html": [
       "<div>\n",
       "<table border=\"1\" class=\"dataframe\">\n",
       "  <thead>\n",
       "    <tr style=\"text-align: right;\">\n",
       "      <th></th>\n",
       "      <th>id</th>\n",
       "      <th>label</th>\n",
       "      <th>prediction</th>\n",
       "      <th>error</th>\n",
       "    </tr>\n",
       "  </thead>\n",
       "  <tbody>\n",
       "    <tr>\n",
       "      <th>0</th>\n",
       "      <td>cg19752143</td>\n",
       "      <td>1</td>\n",
       "      <td>1</td>\n",
       "      <td>0</td>\n",
       "    </tr>\n",
       "    <tr>\n",
       "      <th>1</th>\n",
       "      <td>cg05219517</td>\n",
       "      <td>0</td>\n",
       "      <td>0</td>\n",
       "      <td>0</td>\n",
       "    </tr>\n",
       "    <tr>\n",
       "      <th>2</th>\n",
       "      <td>cg05218696</td>\n",
       "      <td>1</td>\n",
       "      <td>1</td>\n",
       "      <td>0</td>\n",
       "    </tr>\n",
       "    <tr>\n",
       "      <th>3</th>\n",
       "      <td>cg09329621</td>\n",
       "      <td>1</td>\n",
       "      <td>1</td>\n",
       "      <td>0</td>\n",
       "    </tr>\n",
       "    <tr>\n",
       "      <th>4</th>\n",
       "      <td>cg17608706</td>\n",
       "      <td>1</td>\n",
       "      <td>0</td>\n",
       "      <td>1</td>\n",
       "    </tr>\n",
       "  </tbody>\n",
       "</table>\n",
       "</div>"
      ],
      "text/plain": [
       "           id  label  prediction  error\n",
       "0  cg19752143      1           1      0\n",
       "1  cg05219517      0           0      0\n",
       "2  cg05218696      1           1      0\n",
       "3  cg09329621      1           1      0\n",
       "4  cg17608706      1           0      1"
      ]
     },
     "execution_count": 24,
     "metadata": {},
     "output_type": "execute_result"
    }
   ],
   "source": [
    "result=pd.DataFrame({'id':test_id,'label':test_y,'prediction':test_pred})\n",
    "result['error']=np.abs(result['label']-result['prediction'])\n",
    "result.head()"
   ]
  },
  {
   "cell_type": "code",
   "execution_count": 25,
   "metadata": {
    "collapsed": true
   },
   "outputs": [],
   "source": [
    "result.to_csv('rf_test_preds.csv',sep='\\t',index=False,Header=True)"
   ]
  }
 ],
 "metadata": {
  "kernelspec": {
   "display_name": "Python 2",
   "language": "python",
   "name": "python2"
  },
  "language_info": {
   "codemirror_mode": {
    "name": "ipython",
    "version": 2
   },
   "file_extension": ".py",
   "mimetype": "text/x-python",
   "name": "python",
   "nbconvert_exporter": "python",
   "pygments_lexer": "ipython2",
   "version": "2.7.11"
  }
 },
 "nbformat": 4,
 "nbformat_minor": 0
}
